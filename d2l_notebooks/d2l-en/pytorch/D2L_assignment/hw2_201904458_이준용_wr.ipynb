{
 "cells": [
  {
   "cell_type": "code",
   "execution_count": null,
   "id": "17453542-34ff-4e7e-99f6-5e813b1c10c9",
   "metadata": {},
   "outputs": [],
   "source": [
    "import torch\n",
    "import torch.nn as nn\n",
    "import torchvision.transforms as transforms\n",
    "from torch.utils.data import Dataset, DataLoader\n",
    "from PIL import Image\n"
   ]
  },
  {
   "cell_type": "code",
   "execution_count": null,
   "id": "128d6038-98f1-4a2f-85f1-c78591fefcdf",
   "metadata": {},
   "outputs": [],
   "source": [
    "batch_size = 64  # 배치 크기 \n",
    "learning_rate = 0.01  # 학습률 \n",
    "num_epochs = 20  # 에폭 수 \n"
   ]
  },
  {
   "cell_type": "code",
   "execution_count": null,
   "id": "7c1aabb2-55b8-41f9-bd33-dff0f2d95f7a",
   "metadata": {},
   "outputs": [],
   "source": [
    "class FaceAgeDataset(Dataset):\n",
    "   def __init__(self, file_list, transform=None):\n",
    "       self.file_list = file_list \n",
    "       self.transform = transform \n",
    "\n",
    "   def __len__(self):\n",
    "       return len(self.file_list)\n",
    "\n",
    "   def __getitem__(self, idx):\n",
    "       img_path = self.file_list[idx]\n",
    "       age_label = int(img_path.split('/')[-1].split('_')[0]) # Extract age from filename \n",
    "       image = Image.open(img_path)\n",
    "       \n",
    "       if self.transform:\n",
    "           image=self.transform(image)\n",
    "           \n",
    "       return image.float(), torch.tensor(age_label).float()\n"
   ]
  },
  {
   "cell_type": "code",
   "execution_count": null,
   "id": "62985d80-dae4-4e08-b665-0a5cc7df23b1",
   "metadata": {},
   "outputs": [],
   "source": [
    "train_loader=DataLoader(dataset=train_data,batch_size=batch_size , shuffle=True)\n",
    "val_loader=DataLoader(dataset=val_data,batch_size=batch_size , shuffle=False)\n"
   ]
  },
  {
   "cell_type": "code",
   "execution_count": null,
   "id": "507df117-8079-4772-8bf2-7dfa0cdaf98d",
   "metadata": {},
   "outputs": [],
   "source": [
    "class LinearRegression(nn.Module):\n",
    "       def __init__(self,input_dim,output_dim):\n",
    "           super(LinearRegression,self).__init__()\n",
    "           self.linear=nn.Linear(input_dim,output_dim) \n",
    "            \n",
    "       def forward(self,x): return self.linear(x.view(x.size(0),-1))\n",
    "\n",
    "model=LinearRegression(3*64*64 ,1)  \n"
   ]
  },
  {
   "cell_type": "code",
   "execution_count": null,
   "id": "80d28afb-5c6f-4cf7-8613-85ec69ab2313",
   "metadata": {},
   "outputs": [],
   "source": [
    "criterion=torch.nn.MSELoss()  \n",
    "optimizer=torch.optim.SGD(model.parameters(),lr=learning_rate)   \n"
   ]
  },
  {
   "cell_type": "code",
   "execution_count": null,
   "id": "11d82f3b-ab68-45df-a41f-9956be8472d3",
   "metadata": {},
   "outputs": [],
   "source": [
    "for epoch in range(num_epochs):  \n",
    "   for i ,(images , labels ) in enumerate(train_loader ):   \n",
    "       outputs=model(images)  \n",
    "       optimizer.zero_grad()   \n",
    "       loss=criterion(outputs.squeeze(),labels )   \n",
    "       loss.backward()    \n",
    "       optimizer.step()\n"
   ]
  },
  {
   "cell_type": "code",
   "execution_count": null,
   "id": "8298d9ad-60ba-4266-b6e4-4c10d868b797",
   "metadata": {},
   "outputs": [],
   "source": []
  }
 ],
 "metadata": {
  "kernelspec": {
   "display_name": "Python 3 (ipykernel)",
   "language": "python",
   "name": "python3"
  },
  "language_info": {
   "codemirror_mode": {
    "name": "ipython",
    "version": 3
   },
   "file_extension": ".py",
   "mimetype": "text/x-python",
   "name": "python",
   "nbconvert_exporter": "python",
   "pygments_lexer": "ipython3",
   "version": "3.9.18"
  }
 },
 "nbformat": 4,
 "nbformat_minor": 5
}
