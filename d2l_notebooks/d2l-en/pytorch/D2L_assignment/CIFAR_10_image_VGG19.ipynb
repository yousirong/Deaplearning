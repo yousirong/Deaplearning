{
 "cells": [
  {
   "cell_type": "code",
   "execution_count": 1,
   "id": "45510676-53d2-4143-9cc2-2a1cfaeba228",
   "metadata": {},
   "outputs": [],
   "source": [
    "import os\n",
    "os.environ[\"KERAS_BACKEND\"] = \"plaidml.keras.backend\""
   ]
  },
  {
   "cell_type": "code",
   "execution_count": 2,
   "id": "e9b35037-1787-4b1e-b96c-093318f8610c",
   "metadata": {},
   "outputs": [
    {
     "name": "stderr",
     "output_type": "stream",
     "text": [
      "Using plaidml.keras.backend backend.\n"
     ]
    },
    {
     "name": "stdout",
     "output_type": "stream",
     "text": [
      "Downloading data from https://www.cs.toronto.edu/~kriz/cifar-10-python.tar.gz\n",
      "170500096/170498071 [==============================] - 230s 1us/step\n"
     ]
    },
    {
     "name": "stderr",
     "output_type": "stream",
     "text": [
      "INFO:plaidml:Opening device \"opencl_intel_iris(r)_xe_graphics.0\"\n"
     ]
    },
    {
     "name": "stdout",
     "output_type": "stream",
     "text": [
      "Downloading data from https://github.com/fchollet/deep-learning-models/releases/download/v0.1/vgg19_weights_tf_dim_ordering_tf_kernels.h5\n",
      "574717952/574710816 [==============================] - 61s 0us/step\n",
      "Running initial batch (compiling tile program)\n",
      "Timing inference...\n",
      "Ran in 3.3608479499816895 seconds\n"
     ]
    }
   ],
   "source": [
    "#!/usr/bin/env python\n",
    "import numpy as np\n",
    "import os\n",
    "import time\n",
    "\n",
    "os.environ[\"KERAS_BACKEND\"] = \"plaidml.keras.backend\"\n",
    "\n",
    "import keras\n",
    "import keras.applications as kapp\n",
    "from keras.datasets import cifar10\n",
    "\n",
    "(x_train, y_train_cats), (x_test, y_test_cats) = cifar10.load_data()\n",
    "batch_size = 8\n",
    "x_train = x_train[:batch_size]\n",
    "x_train = np.repeat(np.repeat(x_train, 7, axis=1), 7, axis=2)\n",
    "model = kapp.VGG19()\n",
    "model.compile(optimizer='sgd', loss='categorical_crossentropy',\n",
    "              metrics=['accuracy'])\n",
    "\n",
    "print(\"Running initial batch (compiling tile program)\")\n",
    "y = model.predict(x=x_train, batch_size=batch_size)\n",
    "\n",
    "# Now start the clock and run 10 batches\n",
    "print(\"Timing inference...\")\n",
    "start = time.time()\n",
    "for i in range(10):\n",
    "    y = model.predict(x=x_train, batch_size=batch_size)\n",
    "print(\"Ran in {} seconds\".format(time.time() - start))\n"
   ]
  },
  {
   "cell_type": "code",
   "execution_count": null,
   "id": "55848248-d9f5-4a94-adc6-f81ef515022f",
   "metadata": {},
   "outputs": [],
   "source": []
  }
 ],
 "metadata": {
  "kernelspec": {
   "display_name": "Python 3 (ipykernel)",
   "language": "python",
   "name": "python3"
  },
  "language_info": {
   "codemirror_mode": {
    "name": "ipython",
    "version": 3
   },
   "file_extension": ".py",
   "mimetype": "text/x-python",
   "name": "python",
   "nbconvert_exporter": "python",
   "pygments_lexer": "ipython3",
   "version": "3.9.18"
  }
 },
 "nbformat": 4,
 "nbformat_minor": 5
}
