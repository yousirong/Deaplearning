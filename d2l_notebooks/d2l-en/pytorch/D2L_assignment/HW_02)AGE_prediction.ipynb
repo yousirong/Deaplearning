{
  "nbformat": 4,
  "nbformat_minor": 0,
  "metadata": {
    "colab": {
      "provenance": []
    },
    "kernelspec": {
      "name": "python3",
      "display_name": "Python 3"
    },
    "language_info": {
      "name": "python"
    }
  },
  "cells": [
    {
      "cell_type": "markdown",
      "source": [
        "\n",
        "**Homework #2. linear neural network**\n",
        "\n",
        "모델을 구현하여 성능을 측정하는 과제입니다.\n",
        "(해당 과제는 scratch로 구현하는 과제입니다.)\n",
        "\n",
        "학습에 사용될 dataset은 아래의 첨부파일을 다운로드 받으시면 됩니다.\n"
      ],
      "metadata": {
        "id": "aIVgtna6-Mae"
      }
    },
    {
      "cell_type": "markdown",
      "source": [
        "**얼굴 사진을 통한 나이 예측 모델 학습**\n",
        "\n",
        "  - 1-110살의 얼굴 사진으로 이루어져 있습니다. 나이의 경우 파일명의 제일 앞에 위치하여 있습니다.\n",
        "\n",
        "  - 각 사진과 파일명에 적힌 나이를 이용하여 구현하시면 됩니다."
      ],
      "metadata": {
        "id": "FKSyLsJWHnrx"
      }
    },
    {
      "cell_type": "markdown",
      "source": [
        "###이번 실습의 학습 목표 입니다.\n",
        "1. split Dataset (trainset, validationset)\n",
        "2. loss function 구현 (MSE, Mean Squared Error)\n",
        "3. linear neural network(linear regression network)\n",
        "   (필요에 따라 csv파일을 만들어서 사용하는 것 가능)\n",
        "4. forward, optimizer등 필요한 기능 직접 구현\n",
        "5. hyperparameter 직접 설정\n",
        "6. feature importance map"
      ],
      "metadata": {
        "id": "h5KmAqk7HdQg"
      }
    },
    {
      "cell_type": "code",
      "source": [
        "from google.colab import drive\n",
        "drive.mount('/content/drive')"
      ],
      "metadata": {
        "colab": {
          "base_uri": "https://localhost:8080/"
        },
        "id": "71jTsxkbH0p6",
        "outputId": "51b6e48a-3de8-494d-9b80-3eab790db9cf"
      },
      "execution_count": 1,
      "outputs": [
        {
          "output_type": "stream",
          "name": "stdout",
          "text": [
            "Mounted at /content/drive\n"
          ]
        }
      ]
    },
    {
      "cell_type": "code",
      "source": [
        "%matplotlib inline\n",
        "import torch\n"
      ],
      "metadata": {
        "id": "GM4vo_d1Ht51"
      },
      "execution_count": 4,
      "outputs": []
    },
    {
      "cell_type": "markdown",
      "source": [
        "* Dataset"
      ],
      "metadata": {
        "id": "URGTeizPQGVM"
      }
    },
    {
      "cell_type": "code",
      "source": [
        "import os\n",
        "import cv2\n",
        "import numpy as np\n",
        "from PIL import Image\n",
        "import matplotlib.pyplot as plt\n",
        "\n",
        "import torch.nn as nn\n",
        "from torch.utils.data import Dataset, DataLoader, Subset\n",
        "from torchvision import transforms\n",
        "import torch.optim as optim"
      ],
      "metadata": {
        "id": "QOYX_Zd4LBfX"
      },
      "execution_count": 24,
      "outputs": []
    },
    {
      "cell_type": "code",
      "source": [
        "\n",
        "class MyDataset(Dataset):\n",
        "    def __init__(self, dataset_path, transform=transform):\n",
        "        self.dataset_dir = dataset_path\n",
        "        self.transform = transform\n",
        "        self.image_files = [f for f in os.listdir(dataset_path) if f[-4:] == '.jpg']\n",
        "\n",
        "    def __len__(self):\n",
        "        return len(self.image_files)\n",
        "\n",
        "    def __getitem__(self, idx):\n",
        "        image_file = self.image_files[idx]\n",
        "        age_data = int(image_file.split('_')[0])\n",
        "        label = torch.tensor(age_data, dtype=torch.uint8)\n",
        "\n",
        "        image = cv2.imread(os.path.join(self.dataset_dir, image_file))\n",
        "        image = cv2.cvtColor(image, cv2.COLOR_BGR2RGB)\n",
        "        image = Image.fromarray(image)\n",
        "\n",
        "        if self.transform:\n",
        "            image = self.transform(image)\n",
        "            image = image.view(-1)\n",
        "\n",
        "        return image, label"
      ],
      "metadata": {
        "id": "_flDu6DtUf_2"
      },
      "execution_count": 98,
      "outputs": []
    },
    {
      "cell_type": "code",
      "source": [
        "dataset_dir = '/content/drive/MyDrive/23_2_TA_deep_learning/tr/'\n",
        "transform = transforms.Compose([transforms.ToTensor()])\n",
        "dataset = MyDataset(dataset_dir, transform=transform)\n",
        "\n",
        "def split_dataset(dataset, train_ratio = 0.8):\n",
        "    total_length = len(dataset)\n",
        "    train_length = int(total_length * train_ratio)\n",
        "    val_length = total_length - train_length\n",
        "\n",
        "    train_indices = list(range(train_length))\n",
        "    val_indices = list(range(train_length, total_length))\n",
        "\n",
        "    train_set = Subset(dataset, train_indices)\n",
        "    val_set = Subset(dataset, val_indices)\n",
        "\n",
        "    return train_set, val_set\n",
        "\n",
        "train_set, val_set = split_dataset(dataset, train_ratio = 0.8)\n",
        "\n",
        "train_loader = DataLoader(train_set, batch_size = 32, shuffle = True)\n",
        "valid_loader = DataLoader(val_set, batch_size = 32, shuffle = False)"
      ],
      "metadata": {
        "id": "Wd_jZ9Obs7n_"
      },
      "execution_count": 99,
      "outputs": []
    },
    {
      "cell_type": "markdown",
      "source": [
        "* Model"
      ],
      "metadata": {
        "id": "9bGa9OuRKwSx"
      }
    },
    {
      "cell_type": "code",
      "source": [
        "class LinearRegression(nn.Module):\n",
        "    \"\"\"The linear regression model implemented from scratch.\"\"\"\n",
        "    def __init__(self):\n",
        "      super(LinearRegression, self).__init__()\n",
        "      self.linear = nn.Linear(120000, 1)\n",
        "\n",
        "    def forward(self,x):\n",
        "      return self.linear(x)\n"
      ],
      "metadata": {
        "id": "LU2ehr3dKWo1"
      },
      "execution_count": 100,
      "outputs": []
    },
    {
      "cell_type": "code",
      "source": [
        "class Engine:\n",
        "  def __init__(self, net, epoch, optim, lr):\n",
        "    self.net = net\n",
        "    self.epoch = epoch\n",
        "    self.optim = optim\n",
        "    self.lr = lr\n",
        "\n",
        "  def MSE(self, x_hat, x):\n",
        "      y = ((x - x_hat)**2).mean()\n",
        "      return y\n",
        "\n",
        "  def run(self,train,val):\n",
        "    for i in range(self.epoch):\n",
        "      for (image,label), (val_image, val_label) in zip(train,val):\n",
        "        #train\n",
        "        self.net.train()\n",
        "        self.optim.zero_grad()\n",
        "        output = self.net(image)\n",
        "        loss = self.MSE(output, label)\n",
        "        loss.backward()\n",
        "        self.optim.step()\n",
        "\n",
        "        #val\n",
        "        self.net.eval()\n",
        "        output = self.net(val_image)\n",
        "        val_loss = self.MSE(output, val_label)\n",
        "\n",
        "        print(f\"Epoch {i}/{epoch} : Train Loss : {loss.item()}, Val Loss : {val_loss.item()}\")"
      ],
      "metadata": {
        "id": "4eKPdJP-v8nd"
      },
      "execution_count": 149,
      "outputs": []
    },
    {
      "cell_type": "markdown",
      "source": [
        "* Hyperparameter"
      ],
      "metadata": {
        "id": "OR9nFbPdnvCV"
      }
    },
    {
      "cell_type": "code",
      "source": [
        "lr = 1e-6\n",
        "epoch = 50"
      ],
      "metadata": {
        "id": "ov9GU2-2LB0x"
      },
      "execution_count": 147,
      "outputs": []
    },
    {
      "cell_type": "code",
      "source": [
        "net = LinearRegression()\n",
        "sgd = optim.SGD(net.parameters(), lr=lr)\n",
        "model = Engine(net, epoch, sgd, lr)\n",
        "model.run(train_loader, valid_loader)"
      ],
      "metadata": {
        "id": "w8QNsCrfLB3j",
        "colab": {
          "base_uri": "https://localhost:8080/",
          "height": 1000
        },
        "outputId": "79b6fc3e-32c8-42df-f6e6-dc3d99578119"
      },
      "execution_count": 150,
      "outputs": [
        {
          "output_type": "stream",
          "name": "stdout",
          "text": [
            "Epoch 0/50 : Train Loss : 198.49215698242188, Val Loss : 0.12672273814678192\n",
            "Epoch 0/50 : Train Loss : 178.1515655517578, Val Loss : 1.1998366117477417\n",
            "Epoch 0/50 : Train Loss : 219.7683868408203, Val Loss : 4.284523010253906\n",
            "Epoch 0/50 : Train Loss : 172.91029357910156, Val Loss : 17.86040496826172\n",
            "Epoch 0/50 : Train Loss : 154.9232177734375, Val Loss : 36.81590270996094\n",
            "Epoch 0/50 : Train Loss : 157.87205505371094, Val Loss : 310.9743347167969\n",
            "Epoch 0/50 : Train Loss : 153.535400390625, Val Loss : 371.4501037597656\n",
            "Epoch 0/50 : Train Loss : 102.83060455322266, Val Loss : 22.909423828125\n",
            "Epoch 0/50 : Train Loss : 120.1861572265625, Val Loss : 35.539981842041016\n",
            "Epoch 0/50 : Train Loss : 147.91506958007812, Val Loss : 24.910125732421875\n",
            "Epoch 0/50 : Train Loss : 132.59567260742188, Val Loss : 37.672813415527344\n",
            "Epoch 0/50 : Train Loss : 103.17378234863281, Val Loss : 33.1226806640625\n",
            "Epoch 0/50 : Train Loss : 101.6976318359375, Val Loss : 33.16748809814453\n",
            "Epoch 0/50 : Train Loss : 93.35282897949219, Val Loss : 43.149898529052734\n",
            "Epoch 0/50 : Train Loss : 94.93213653564453, Val Loss : 40.31184005737305\n",
            "Epoch 1/50 : Train Loss : 98.2380599975586, Val Loss : 71.57941436767578\n",
            "Epoch 1/50 : Train Loss : 112.96981811523438, Val Loss : 73.85932159423828\n",
            "Epoch 1/50 : Train Loss : 105.02114868164062, Val Loss : 80.97943878173828\n",
            "Epoch 1/50 : Train Loss : 102.7242660522461, Val Loss : 56.2818717956543\n",
            "Epoch 1/50 : Train Loss : 104.52442169189453, Val Loss : 2.896778106689453\n",
            "Epoch 1/50 : Train Loss : 79.20408630371094, Val Loss : 257.3777770996094\n",
            "Epoch 1/50 : Train Loss : 88.70974731445312, Val Loss : 320.2167053222656\n",
            "Epoch 1/50 : Train Loss : 77.87615203857422, Val Loss : 3.1794910430908203\n",
            "Epoch 1/50 : Train Loss : 93.96900177001953, Val Loss : 8.395028114318848\n",
            "Epoch 1/50 : Train Loss : 100.74529266357422, Val Loss : 4.05169153213501\n",
            "Epoch 1/50 : Train Loss : 95.02949523925781, Val Loss : 14.482666969299316\n",
            "Epoch 1/50 : Train Loss : 81.084716796875, Val Loss : 12.403251647949219\n",
            "Epoch 1/50 : Train Loss : 93.8170394897461, Val Loss : 12.988892555236816\n",
            "Epoch 1/50 : Train Loss : 83.05459594726562, Val Loss : 21.89324951171875\n",
            "Epoch 1/50 : Train Loss : 84.77901458740234, Val Loss : 22.165855407714844\n",
            "Epoch 2/50 : Train Loss : 86.5630874633789, Val Loss : 111.77363586425781\n",
            "Epoch 2/50 : Train Loss : 83.2508773803711, Val Loss : 106.35736083984375\n",
            "Epoch 2/50 : Train Loss : 83.42471313476562, Val Loss : 111.37628173828125\n",
            "Epoch 2/50 : Train Loss : 97.61051177978516, Val Loss : 74.02088928222656\n",
            "Epoch 2/50 : Train Loss : 94.86170196533203, Val Loss : 3.086177349090576\n",
            "Epoch 2/50 : Train Loss : 84.74410247802734, Val Loss : 254.0818328857422\n",
            "Epoch 2/50 : Train Loss : 85.3082275390625, Val Loss : 314.99591064453125\n",
            "Epoch 2/50 : Train Loss : 88.73116302490234, Val Loss : 3.839656352996826\n",
            "Epoch 2/50 : Train Loss : 92.58244323730469, Val Loss : 5.99007511138916\n",
            "Epoch 2/50 : Train Loss : 101.08758544921875, Val Loss : 3.1831464767456055\n",
            "Epoch 2/50 : Train Loss : 93.33284759521484, Val Loss : 12.853108406066895\n",
            "Epoch 2/50 : Train Loss : 79.63485717773438, Val Loss : 11.540863037109375\n",
            "Epoch 2/50 : Train Loss : 87.94877624511719, Val Loss : 10.81683349609375\n",
            "Epoch 2/50 : Train Loss : 83.17141723632812, Val Loss : 21.917739868164062\n",
            "Epoch 2/50 : Train Loss : 108.33393096923828, Val Loss : 21.244333267211914\n",
            "Epoch 3/50 : Train Loss : 95.59114837646484, Val Loss : 122.7877197265625\n",
            "Epoch 3/50 : Train Loss : 84.89598846435547, Val Loss : 117.32122802734375\n",
            "Epoch 3/50 : Train Loss : 89.42549133300781, Val Loss : 118.21228790283203\n",
            "Epoch 3/50 : Train Loss : 93.09408569335938, Val Loss : 79.148193359375\n",
            "Epoch 3/50 : Train Loss : 87.22869110107422, Val Loss : 3.345285177230835\n",
            "Epoch 3/50 : Train Loss : 87.505859375, Val Loss : 253.32192993164062\n",
            "Epoch 3/50 : Train Loss : 89.37506866455078, Val Loss : 312.7170715332031\n",
            "Epoch 3/50 : Train Loss : 94.21190643310547, Val Loss : 4.450091361999512\n",
            "Epoch 3/50 : Train Loss : 93.26097869873047, Val Loss : 5.471243381500244\n",
            "Epoch 3/50 : Train Loss : 98.53742218017578, Val Loss : 3.1054680347442627\n",
            "Epoch 3/50 : Train Loss : 84.63920593261719, Val Loss : 9.988070487976074\n",
            "Epoch 3/50 : Train Loss : 90.18425750732422, Val Loss : 8.209911346435547\n",
            "Epoch 3/50 : Train Loss : 87.45984649658203, Val Loss : 7.358232498168945\n",
            "Epoch 3/50 : Train Loss : 99.15953826904297, Val Loss : 13.230958938598633\n",
            "Epoch 3/50 : Train Loss : 87.08377838134766, Val Loss : 14.971963882446289\n",
            "Epoch 4/50 : Train Loss : 88.71717834472656, Val Loss : 146.72398376464844\n",
            "Epoch 4/50 : Train Loss : 82.07250213623047, Val Loss : 132.53895568847656\n",
            "Epoch 4/50 : Train Loss : 75.87704467773438, Val Loss : 132.82704162597656\n",
            "Epoch 4/50 : Train Loss : 76.21337890625, Val Loss : 91.29454803466797\n",
            "Epoch 4/50 : Train Loss : 95.5008544921875, Val Loss : 5.150636196136475\n",
            "Epoch 4/50 : Train Loss : 94.54036712646484, Val Loss : 252.01788330078125\n",
            "Epoch 4/50 : Train Loss : 98.78411865234375, Val Loss : 311.7155456542969\n",
            "Epoch 4/50 : Train Loss : 85.03775787353516, Val Loss : 5.359747409820557\n",
            "Epoch 4/50 : Train Loss : 103.93814086914062, Val Loss : 5.0429792404174805\n",
            "Epoch 4/50 : Train Loss : 82.81498718261719, Val Loss : 3.203376531600952\n",
            "Epoch 4/50 : Train Loss : 99.68836212158203, Val Loss : 9.446938514709473\n",
            "Epoch 4/50 : Train Loss : 86.1541519165039, Val Loss : 8.146203994750977\n",
            "Epoch 4/50 : Train Loss : 82.87667083740234, Val Loss : 7.9081621170043945\n",
            "Epoch 4/50 : Train Loss : 86.4425048828125, Val Loss : 14.325845718383789\n",
            "Epoch 4/50 : Train Loss : 100.13977813720703, Val Loss : 17.00132179260254\n",
            "Epoch 5/50 : Train Loss : 97.9840316772461, Val Loss : 134.62060546875\n",
            "Epoch 5/50 : Train Loss : 79.90200805664062, Val Loss : 126.09149169921875\n",
            "Epoch 5/50 : Train Loss : 88.74615478515625, Val Loss : 135.37298583984375\n",
            "Epoch 5/50 : Train Loss : 91.32767486572266, Val Loss : 88.88334655761719\n",
            "Epoch 5/50 : Train Loss : 84.80572509765625, Val Loss : 4.943972110748291\n",
            "Epoch 5/50 : Train Loss : 95.47968292236328, Val Loss : 251.78756713867188\n",
            "Epoch 5/50 : Train Loss : 94.05765533447266, Val Loss : 310.19757080078125\n",
            "Epoch 5/50 : Train Loss : 89.07978820800781, Val Loss : 5.409421443939209\n",
            "Epoch 5/50 : Train Loss : 76.3866958618164, Val Loss : 4.970037937164307\n",
            "Epoch 5/50 : Train Loss : 94.39393615722656, Val Loss : 3.032489776611328\n",
            "Epoch 5/50 : Train Loss : 92.57489776611328, Val Loss : 10.671893119812012\n",
            "Epoch 5/50 : Train Loss : 105.49285125732422, Val Loss : 7.975175857543945\n",
            "Epoch 5/50 : Train Loss : 88.24138641357422, Val Loss : 7.720169544219971\n",
            "Epoch 5/50 : Train Loss : 82.05743408203125, Val Loss : 14.670110702514648\n",
            "Epoch 5/50 : Train Loss : 75.33503723144531, Val Loss : 15.71877384185791\n",
            "Epoch 6/50 : Train Loss : 70.0914306640625, Val Loss : 142.4374237060547\n",
            "Epoch 6/50 : Train Loss : 102.5663833618164, Val Loss : 132.66358947753906\n"
          ]
        },
        {
          "output_type": "error",
          "ename": "KeyboardInterrupt",
          "evalue": "ignored",
          "traceback": [
            "\u001b[0;31m---------------------------------------------------------------------------\u001b[0m",
            "\u001b[0;31mKeyboardInterrupt\u001b[0m                         Traceback (most recent call last)",
            "\u001b[0;32m<ipython-input-150-286bc1eee91b>\u001b[0m in \u001b[0;36m<cell line: 4>\u001b[0;34m()\u001b[0m\n\u001b[1;32m      2\u001b[0m \u001b[0msgd\u001b[0m \u001b[0;34m=\u001b[0m \u001b[0moptim\u001b[0m\u001b[0;34m.\u001b[0m\u001b[0mSGD\u001b[0m\u001b[0;34m(\u001b[0m\u001b[0mnet\u001b[0m\u001b[0;34m.\u001b[0m\u001b[0mparameters\u001b[0m\u001b[0;34m(\u001b[0m\u001b[0;34m)\u001b[0m\u001b[0;34m,\u001b[0m \u001b[0mlr\u001b[0m\u001b[0;34m=\u001b[0m\u001b[0mlr\u001b[0m\u001b[0;34m)\u001b[0m\u001b[0;34m\u001b[0m\u001b[0;34m\u001b[0m\u001b[0m\n\u001b[1;32m      3\u001b[0m \u001b[0mmodel\u001b[0m \u001b[0;34m=\u001b[0m \u001b[0mEngine\u001b[0m\u001b[0;34m(\u001b[0m\u001b[0mnet\u001b[0m\u001b[0;34m,\u001b[0m \u001b[0mepoch\u001b[0m\u001b[0;34m,\u001b[0m \u001b[0msgd\u001b[0m\u001b[0;34m,\u001b[0m \u001b[0mlr\u001b[0m\u001b[0;34m)\u001b[0m\u001b[0;34m\u001b[0m\u001b[0;34m\u001b[0m\u001b[0m\n\u001b[0;32m----> 4\u001b[0;31m \u001b[0mmodel\u001b[0m\u001b[0;34m.\u001b[0m\u001b[0mrun\u001b[0m\u001b[0;34m(\u001b[0m\u001b[0mtrain_loader\u001b[0m\u001b[0;34m,\u001b[0m \u001b[0mvalid_loader\u001b[0m\u001b[0;34m)\u001b[0m\u001b[0;34m\u001b[0m\u001b[0;34m\u001b[0m\u001b[0m\n\u001b[0m",
            "\u001b[0;32m<ipython-input-149-49eb8db06fb6>\u001b[0m in \u001b[0;36mrun\u001b[0;34m(self, train, val)\u001b[0m\n\u001b[1;32m     12\u001b[0m   \u001b[0;32mdef\u001b[0m \u001b[0mrun\u001b[0m\u001b[0;34m(\u001b[0m\u001b[0mself\u001b[0m\u001b[0;34m,\u001b[0m\u001b[0mtrain\u001b[0m\u001b[0;34m,\u001b[0m\u001b[0mval\u001b[0m\u001b[0;34m)\u001b[0m\u001b[0;34m:\u001b[0m\u001b[0;34m\u001b[0m\u001b[0;34m\u001b[0m\u001b[0m\n\u001b[1;32m     13\u001b[0m     \u001b[0;32mfor\u001b[0m \u001b[0mi\u001b[0m \u001b[0;32min\u001b[0m \u001b[0mrange\u001b[0m\u001b[0;34m(\u001b[0m\u001b[0mself\u001b[0m\u001b[0;34m.\u001b[0m\u001b[0mepoch\u001b[0m\u001b[0;34m)\u001b[0m\u001b[0;34m:\u001b[0m\u001b[0;34m\u001b[0m\u001b[0;34m\u001b[0m\u001b[0m\n\u001b[0;32m---> 14\u001b[0;31m       \u001b[0;32mfor\u001b[0m \u001b[0;34m(\u001b[0m\u001b[0mimage\u001b[0m\u001b[0;34m,\u001b[0m\u001b[0mlabel\u001b[0m\u001b[0;34m)\u001b[0m\u001b[0;34m,\u001b[0m \u001b[0;34m(\u001b[0m\u001b[0mval_image\u001b[0m\u001b[0;34m,\u001b[0m \u001b[0mval_label\u001b[0m\u001b[0;34m)\u001b[0m \u001b[0;32min\u001b[0m \u001b[0mzip\u001b[0m\u001b[0;34m(\u001b[0m\u001b[0mtrain\u001b[0m\u001b[0;34m,\u001b[0m\u001b[0mval\u001b[0m\u001b[0;34m)\u001b[0m\u001b[0;34m:\u001b[0m\u001b[0;34m\u001b[0m\u001b[0;34m\u001b[0m\u001b[0m\n\u001b[0m\u001b[1;32m     15\u001b[0m         \u001b[0;31m#train\u001b[0m\u001b[0;34m\u001b[0m\u001b[0;34m\u001b[0m\u001b[0m\n\u001b[1;32m     16\u001b[0m         \u001b[0mself\u001b[0m\u001b[0;34m.\u001b[0m\u001b[0mnet\u001b[0m\u001b[0;34m.\u001b[0m\u001b[0mtrain\u001b[0m\u001b[0;34m(\u001b[0m\u001b[0;34m)\u001b[0m\u001b[0;34m\u001b[0m\u001b[0;34m\u001b[0m\u001b[0m\n",
            "\u001b[0;32m/usr/local/lib/python3.10/dist-packages/torch/utils/data/dataloader.py\u001b[0m in \u001b[0;36m__next__\u001b[0;34m(self)\u001b[0m\n\u001b[1;32m    628\u001b[0m                 \u001b[0;31m# TODO(https://github.com/pytorch/pytorch/issues/76750)\u001b[0m\u001b[0;34m\u001b[0m\u001b[0;34m\u001b[0m\u001b[0m\n\u001b[1;32m    629\u001b[0m                 \u001b[0mself\u001b[0m\u001b[0;34m.\u001b[0m\u001b[0m_reset\u001b[0m\u001b[0;34m(\u001b[0m\u001b[0;34m)\u001b[0m  \u001b[0;31m# type: ignore[call-arg]\u001b[0m\u001b[0;34m\u001b[0m\u001b[0;34m\u001b[0m\u001b[0m\n\u001b[0;32m--> 630\u001b[0;31m             \u001b[0mdata\u001b[0m \u001b[0;34m=\u001b[0m \u001b[0mself\u001b[0m\u001b[0;34m.\u001b[0m\u001b[0m_next_data\u001b[0m\u001b[0;34m(\u001b[0m\u001b[0;34m)\u001b[0m\u001b[0;34m\u001b[0m\u001b[0;34m\u001b[0m\u001b[0m\n\u001b[0m\u001b[1;32m    631\u001b[0m             \u001b[0mself\u001b[0m\u001b[0;34m.\u001b[0m\u001b[0m_num_yielded\u001b[0m \u001b[0;34m+=\u001b[0m \u001b[0;36m1\u001b[0m\u001b[0;34m\u001b[0m\u001b[0;34m\u001b[0m\u001b[0m\n\u001b[1;32m    632\u001b[0m             \u001b[0;32mif\u001b[0m \u001b[0mself\u001b[0m\u001b[0;34m.\u001b[0m\u001b[0m_dataset_kind\u001b[0m \u001b[0;34m==\u001b[0m \u001b[0m_DatasetKind\u001b[0m\u001b[0;34m.\u001b[0m\u001b[0mIterable\u001b[0m \u001b[0;32mand\u001b[0m\u001b[0;31m \u001b[0m\u001b[0;31m\\\u001b[0m\u001b[0;34m\u001b[0m\u001b[0;34m\u001b[0m\u001b[0m\n",
            "\u001b[0;32m/usr/local/lib/python3.10/dist-packages/torch/utils/data/dataloader.py\u001b[0m in \u001b[0;36m_next_data\u001b[0;34m(self)\u001b[0m\n\u001b[1;32m    672\u001b[0m     \u001b[0;32mdef\u001b[0m \u001b[0m_next_data\u001b[0m\u001b[0;34m(\u001b[0m\u001b[0mself\u001b[0m\u001b[0;34m)\u001b[0m\u001b[0;34m:\u001b[0m\u001b[0;34m\u001b[0m\u001b[0;34m\u001b[0m\u001b[0m\n\u001b[1;32m    673\u001b[0m         \u001b[0mindex\u001b[0m \u001b[0;34m=\u001b[0m \u001b[0mself\u001b[0m\u001b[0;34m.\u001b[0m\u001b[0m_next_index\u001b[0m\u001b[0;34m(\u001b[0m\u001b[0;34m)\u001b[0m  \u001b[0;31m# may raise StopIteration\u001b[0m\u001b[0;34m\u001b[0m\u001b[0;34m\u001b[0m\u001b[0m\n\u001b[0;32m--> 674\u001b[0;31m         \u001b[0mdata\u001b[0m \u001b[0;34m=\u001b[0m \u001b[0mself\u001b[0m\u001b[0;34m.\u001b[0m\u001b[0m_dataset_fetcher\u001b[0m\u001b[0;34m.\u001b[0m\u001b[0mfetch\u001b[0m\u001b[0;34m(\u001b[0m\u001b[0mindex\u001b[0m\u001b[0;34m)\u001b[0m  \u001b[0;31m# may raise StopIteration\u001b[0m\u001b[0;34m\u001b[0m\u001b[0;34m\u001b[0m\u001b[0m\n\u001b[0m\u001b[1;32m    675\u001b[0m         \u001b[0;32mif\u001b[0m \u001b[0mself\u001b[0m\u001b[0;34m.\u001b[0m\u001b[0m_pin_memory\u001b[0m\u001b[0;34m:\u001b[0m\u001b[0;34m\u001b[0m\u001b[0;34m\u001b[0m\u001b[0m\n\u001b[1;32m    676\u001b[0m             \u001b[0mdata\u001b[0m \u001b[0;34m=\u001b[0m \u001b[0m_utils\u001b[0m\u001b[0;34m.\u001b[0m\u001b[0mpin_memory\u001b[0m\u001b[0;34m.\u001b[0m\u001b[0mpin_memory\u001b[0m\u001b[0;34m(\u001b[0m\u001b[0mdata\u001b[0m\u001b[0;34m,\u001b[0m \u001b[0mself\u001b[0m\u001b[0;34m.\u001b[0m\u001b[0m_pin_memory_device\u001b[0m\u001b[0;34m)\u001b[0m\u001b[0;34m\u001b[0m\u001b[0;34m\u001b[0m\u001b[0m\n",
            "\u001b[0;32m/usr/local/lib/python3.10/dist-packages/torch/utils/data/_utils/fetch.py\u001b[0m in \u001b[0;36mfetch\u001b[0;34m(self, possibly_batched_index)\u001b[0m\n\u001b[1;32m     47\u001b[0m         \u001b[0;32mif\u001b[0m \u001b[0mself\u001b[0m\u001b[0;34m.\u001b[0m\u001b[0mauto_collation\u001b[0m\u001b[0;34m:\u001b[0m\u001b[0;34m\u001b[0m\u001b[0;34m\u001b[0m\u001b[0m\n\u001b[1;32m     48\u001b[0m             \u001b[0;32mif\u001b[0m \u001b[0mhasattr\u001b[0m\u001b[0;34m(\u001b[0m\u001b[0mself\u001b[0m\u001b[0;34m.\u001b[0m\u001b[0mdataset\u001b[0m\u001b[0;34m,\u001b[0m \u001b[0;34m\"__getitems__\"\u001b[0m\u001b[0;34m)\u001b[0m \u001b[0;32mand\u001b[0m \u001b[0mself\u001b[0m\u001b[0;34m.\u001b[0m\u001b[0mdataset\u001b[0m\u001b[0;34m.\u001b[0m\u001b[0m__getitems__\u001b[0m\u001b[0;34m:\u001b[0m\u001b[0;34m\u001b[0m\u001b[0;34m\u001b[0m\u001b[0m\n\u001b[0;32m---> 49\u001b[0;31m                 \u001b[0mdata\u001b[0m \u001b[0;34m=\u001b[0m \u001b[0mself\u001b[0m\u001b[0;34m.\u001b[0m\u001b[0mdataset\u001b[0m\u001b[0;34m.\u001b[0m\u001b[0m__getitems__\u001b[0m\u001b[0;34m(\u001b[0m\u001b[0mpossibly_batched_index\u001b[0m\u001b[0;34m)\u001b[0m\u001b[0;34m\u001b[0m\u001b[0;34m\u001b[0m\u001b[0m\n\u001b[0m\u001b[1;32m     50\u001b[0m             \u001b[0;32melse\u001b[0m\u001b[0;34m:\u001b[0m\u001b[0;34m\u001b[0m\u001b[0;34m\u001b[0m\u001b[0m\n\u001b[1;32m     51\u001b[0m                 \u001b[0mdata\u001b[0m \u001b[0;34m=\u001b[0m \u001b[0;34m[\u001b[0m\u001b[0mself\u001b[0m\u001b[0;34m.\u001b[0m\u001b[0mdataset\u001b[0m\u001b[0;34m[\u001b[0m\u001b[0midx\u001b[0m\u001b[0;34m]\u001b[0m \u001b[0;32mfor\u001b[0m \u001b[0midx\u001b[0m \u001b[0;32min\u001b[0m \u001b[0mpossibly_batched_index\u001b[0m\u001b[0;34m]\u001b[0m\u001b[0;34m\u001b[0m\u001b[0;34m\u001b[0m\u001b[0m\n",
            "\u001b[0;32m/usr/local/lib/python3.10/dist-packages/torch/utils/data/dataset.py\u001b[0m in \u001b[0;36m__getitems__\u001b[0;34m(self, indices)\u001b[0m\n\u001b[1;32m    362\u001b[0m             \u001b[0;32mreturn\u001b[0m \u001b[0mself\u001b[0m\u001b[0;34m.\u001b[0m\u001b[0mdataset\u001b[0m\u001b[0;34m.\u001b[0m\u001b[0m__getitems__\u001b[0m\u001b[0;34m(\u001b[0m\u001b[0;34m[\u001b[0m\u001b[0mself\u001b[0m\u001b[0;34m.\u001b[0m\u001b[0mindices\u001b[0m\u001b[0;34m[\u001b[0m\u001b[0midx\u001b[0m\u001b[0;34m]\u001b[0m \u001b[0;32mfor\u001b[0m \u001b[0midx\u001b[0m \u001b[0;32min\u001b[0m \u001b[0mindices\u001b[0m\u001b[0;34m]\u001b[0m\u001b[0;34m)\u001b[0m  \u001b[0;31m# type: ignore[attr-defined]\u001b[0m\u001b[0;34m\u001b[0m\u001b[0;34m\u001b[0m\u001b[0m\n\u001b[1;32m    363\u001b[0m         \u001b[0;32melse\u001b[0m\u001b[0;34m:\u001b[0m\u001b[0;34m\u001b[0m\u001b[0;34m\u001b[0m\u001b[0m\n\u001b[0;32m--> 364\u001b[0;31m             \u001b[0;32mreturn\u001b[0m \u001b[0;34m[\u001b[0m\u001b[0mself\u001b[0m\u001b[0;34m.\u001b[0m\u001b[0mdataset\u001b[0m\u001b[0;34m[\u001b[0m\u001b[0mself\u001b[0m\u001b[0;34m.\u001b[0m\u001b[0mindices\u001b[0m\u001b[0;34m[\u001b[0m\u001b[0midx\u001b[0m\u001b[0;34m]\u001b[0m\u001b[0;34m]\u001b[0m \u001b[0;32mfor\u001b[0m \u001b[0midx\u001b[0m \u001b[0;32min\u001b[0m \u001b[0mindices\u001b[0m\u001b[0;34m]\u001b[0m\u001b[0;34m\u001b[0m\u001b[0;34m\u001b[0m\u001b[0m\n\u001b[0m\u001b[1;32m    365\u001b[0m \u001b[0;34m\u001b[0m\u001b[0m\n\u001b[1;32m    366\u001b[0m     \u001b[0;32mdef\u001b[0m \u001b[0m__len__\u001b[0m\u001b[0;34m(\u001b[0m\u001b[0mself\u001b[0m\u001b[0;34m)\u001b[0m\u001b[0;34m:\u001b[0m\u001b[0;34m\u001b[0m\u001b[0;34m\u001b[0m\u001b[0m\n",
            "\u001b[0;32m/usr/local/lib/python3.10/dist-packages/torch/utils/data/dataset.py\u001b[0m in \u001b[0;36m<listcomp>\u001b[0;34m(.0)\u001b[0m\n\u001b[1;32m    362\u001b[0m             \u001b[0;32mreturn\u001b[0m \u001b[0mself\u001b[0m\u001b[0;34m.\u001b[0m\u001b[0mdataset\u001b[0m\u001b[0;34m.\u001b[0m\u001b[0m__getitems__\u001b[0m\u001b[0;34m(\u001b[0m\u001b[0;34m[\u001b[0m\u001b[0mself\u001b[0m\u001b[0;34m.\u001b[0m\u001b[0mindices\u001b[0m\u001b[0;34m[\u001b[0m\u001b[0midx\u001b[0m\u001b[0;34m]\u001b[0m \u001b[0;32mfor\u001b[0m \u001b[0midx\u001b[0m \u001b[0;32min\u001b[0m \u001b[0mindices\u001b[0m\u001b[0;34m]\u001b[0m\u001b[0;34m)\u001b[0m  \u001b[0;31m# type: ignore[attr-defined]\u001b[0m\u001b[0;34m\u001b[0m\u001b[0;34m\u001b[0m\u001b[0m\n\u001b[1;32m    363\u001b[0m         \u001b[0;32melse\u001b[0m\u001b[0;34m:\u001b[0m\u001b[0;34m\u001b[0m\u001b[0;34m\u001b[0m\u001b[0m\n\u001b[0;32m--> 364\u001b[0;31m             \u001b[0;32mreturn\u001b[0m \u001b[0;34m[\u001b[0m\u001b[0mself\u001b[0m\u001b[0;34m.\u001b[0m\u001b[0mdataset\u001b[0m\u001b[0;34m[\u001b[0m\u001b[0mself\u001b[0m\u001b[0;34m.\u001b[0m\u001b[0mindices\u001b[0m\u001b[0;34m[\u001b[0m\u001b[0midx\u001b[0m\u001b[0;34m]\u001b[0m\u001b[0;34m]\u001b[0m \u001b[0;32mfor\u001b[0m \u001b[0midx\u001b[0m \u001b[0;32min\u001b[0m \u001b[0mindices\u001b[0m\u001b[0;34m]\u001b[0m\u001b[0;34m\u001b[0m\u001b[0;34m\u001b[0m\u001b[0m\n\u001b[0m\u001b[1;32m    365\u001b[0m \u001b[0;34m\u001b[0m\u001b[0m\n\u001b[1;32m    366\u001b[0m     \u001b[0;32mdef\u001b[0m \u001b[0m__len__\u001b[0m\u001b[0;34m(\u001b[0m\u001b[0mself\u001b[0m\u001b[0;34m)\u001b[0m\u001b[0;34m:\u001b[0m\u001b[0;34m\u001b[0m\u001b[0;34m\u001b[0m\u001b[0m\n",
            "\u001b[0;32m<ipython-input-98-cd27ae8471ed>\u001b[0m in \u001b[0;36m__getitem__\u001b[0;34m(self, idx)\u001b[0m\n\u001b[1;32m     15\u001b[0m         \u001b[0mlabel\u001b[0m \u001b[0;34m=\u001b[0m \u001b[0mtorch\u001b[0m\u001b[0;34m.\u001b[0m\u001b[0mtensor\u001b[0m\u001b[0;34m(\u001b[0m\u001b[0mage_data\u001b[0m\u001b[0;34m,\u001b[0m \u001b[0mdtype\u001b[0m\u001b[0;34m=\u001b[0m\u001b[0mtorch\u001b[0m\u001b[0;34m.\u001b[0m\u001b[0muint8\u001b[0m\u001b[0;34m)\u001b[0m\u001b[0;34m\u001b[0m\u001b[0;34m\u001b[0m\u001b[0m\n\u001b[1;32m     16\u001b[0m \u001b[0;34m\u001b[0m\u001b[0m\n\u001b[0;32m---> 17\u001b[0;31m         \u001b[0mimage\u001b[0m \u001b[0;34m=\u001b[0m \u001b[0mcv2\u001b[0m\u001b[0;34m.\u001b[0m\u001b[0mimread\u001b[0m\u001b[0;34m(\u001b[0m\u001b[0mos\u001b[0m\u001b[0;34m.\u001b[0m\u001b[0mpath\u001b[0m\u001b[0;34m.\u001b[0m\u001b[0mjoin\u001b[0m\u001b[0;34m(\u001b[0m\u001b[0mself\u001b[0m\u001b[0;34m.\u001b[0m\u001b[0mdataset_dir\u001b[0m\u001b[0;34m,\u001b[0m \u001b[0mimage_file\u001b[0m\u001b[0;34m)\u001b[0m\u001b[0;34m)\u001b[0m\u001b[0;34m\u001b[0m\u001b[0;34m\u001b[0m\u001b[0m\n\u001b[0m\u001b[1;32m     18\u001b[0m         \u001b[0mimage\u001b[0m \u001b[0;34m=\u001b[0m \u001b[0mcv2\u001b[0m\u001b[0;34m.\u001b[0m\u001b[0mcvtColor\u001b[0m\u001b[0;34m(\u001b[0m\u001b[0mimage\u001b[0m\u001b[0;34m,\u001b[0m \u001b[0mcv2\u001b[0m\u001b[0;34m.\u001b[0m\u001b[0mCOLOR_BGR2RGB\u001b[0m\u001b[0;34m)\u001b[0m\u001b[0;34m\u001b[0m\u001b[0;34m\u001b[0m\u001b[0m\n\u001b[1;32m     19\u001b[0m         \u001b[0mimage\u001b[0m \u001b[0;34m=\u001b[0m \u001b[0mImage\u001b[0m\u001b[0;34m.\u001b[0m\u001b[0mfromarray\u001b[0m\u001b[0;34m(\u001b[0m\u001b[0mimage\u001b[0m\u001b[0;34m)\u001b[0m\u001b[0;34m\u001b[0m\u001b[0;34m\u001b[0m\u001b[0m\n",
            "\u001b[0;31mKeyboardInterrupt\u001b[0m: "
          ]
        }
      ]
    }
  ]
}