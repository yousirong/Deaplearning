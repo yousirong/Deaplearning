{
  "cells": [
    {
      "cell_type": "code",
      "source": [
        "from google.colab import drive\n",
        "drive.mount('/content/drive')"
      ],
      "metadata": {
        "colab": {
          "base_uri": "https://localhost:8080/"
        },
        "id": "jGO4zJWKg5MD",
        "outputId": "a3f4d17f-cd39-4f2b-8fb9-a153aaa46aa8"
      },
      "id": "jGO4zJWKg5MD",
      "execution_count": 1,
      "outputs": [
        {
          "output_type": "stream",
          "name": "stdout",
          "text": [
            "Drive already mounted at /content/drive; to attempt to forcibly remount, call drive.mount(\"/content/drive\", force_remount=True).\n"
          ]
        }
      ]
    },
    {
      "cell_type": "code",
      "execution_count": 2,
      "id": "0160f6ad-755c-4cb0-91c7-d3621a7d3b8f",
      "metadata": {
        "id": "0160f6ad-755c-4cb0-91c7-d3621a7d3b8f"
      },
      "outputs": [],
      "source": [
        "import torch\n",
        "from torchvision import transforms\n",
        "from torch.utils.data import DataLoader, Dataset\n",
        "from sklearn.model_selection import train_test_split\n",
        "from PIL import Image\n",
        "import os\n",
        "\n",
        "from torch.autograd import Variable\n",
        "import matplotlib.pyplot as plt"
      ]
    },
    {
      "cell_type": "code",
      "source": [
        "is_cuda = torch.cuda.is_available()\n",
        "device = torch.device('cuda' if torch.cuda.is_available() else 'cpu')\n",
        "\n",
        "print('Current cuda device is', device)"
      ],
      "metadata": {
        "colab": {
          "base_uri": "https://localhost:8080/"
        },
        "id": "O9jA00lpQZbp",
        "outputId": "a092eb0b-8583-42a5-cce4-430b3f39221d"
      },
      "id": "O9jA00lpQZbp",
      "execution_count": 3,
      "outputs": [
        {
          "output_type": "stream",
          "name": "stdout",
          "text": [
            "Current cuda device is cuda\n"
          ]
        }
      ]
    },
    {
      "cell_type": "code",
      "execution_count": 4,
      "id": "fd8667d1-ac71-4b92-9fe5-fb0abe1f6153",
      "metadata": {
        "id": "fd8667d1-ac71-4b92-9fe5-fb0abe1f6153"
      },
      "outputs": [],
      "source": [
        "\n",
        "data_dir = '/content/drive/MyDrive/Deaplearning/d2l_notebooks/d2l-en/pytorch/D2L_assignment/tr'\n",
        "file_list = os.listdir(data_dir)  # 이미지 파일 리스트를 가져옵니다.\n",
        "# 데이터 전처리 및 DataLoader 설정\n",
        "transform = transforms.Compose([\n",
        "    transforms.Resize((200, 200)),  # imgae 크기 조정\n",
        "    transforms.ToTensor(),           # image를 tensor로 변환\n",
        "    transforms.Normalize(mean=[0.5, 0.5, 0.5], std=[0.5, 0.5, 0.5])  # image 정규화 (평균 0.5, 표준 편차 0.5)\n",
        "])\n",
        "\n",
        "class InitDataset(Dataset):\n",
        "    def __init__(self, file_list, transform=None):\n",
        "        self.file_list = file_list\n",
        "        self.transform = transform\n",
        "\n",
        "    def __len__(self):\n",
        "        return len(self.file_list)\n",
        "\n",
        "    def __getitem__(self, idx):\n",
        "        img_path = os.path.join(data_dir, self.file_list[idx])\n",
        "        image = Image.open(img_path)\n",
        "        age = int(self.file_list[idx].split(\"_\")[0])  # 파일명에서 나이 정보만 split 추출\n",
        "\n",
        "        if self.transform:\n",
        "            image = self.transform(image)\n",
        "\n",
        "        return image, age\n",
        "\n",
        "# 데이터 분할\n",
        "train_files, val_files = train_test_split(file_list, test_size=0.2, random_state=42)\n",
        "\n",
        "# DataLoader 설정\n",
        "train_dataset = InitDataset(train_files, transform=transform)\n",
        "val_dataset = InitDataset(val_files, transform=transform)\n",
        "batch_size = 32\n",
        "train_loader = DataLoader(train_dataset, batch_size=batch_size, shuffle=True)\n",
        "val_loader = DataLoader(val_dataset, batch_size=batch_size)"
      ]
    },
    {
      "cell_type": "code",
      "execution_count": 5,
      "id": "d3054baf-e0a1-4cfb-b551-18bb8ff9d7b6",
      "metadata": {
        "id": "d3054baf-e0a1-4cfb-b551-18bb8ff9d7b6",
        "colab": {
          "base_uri": "https://localhost:8080/"
        },
        "outputId": "b4f11ad2-8ffa-40f5-a2e4-51a9f3ec60ed"
      },
      "outputs": [
        {
          "output_type": "execute_result",
          "data": {
            "text/plain": [
              "Image_to_AgePredictionModel(\n",
              "  (fc): Linear(in_features=120000, out_features=1, bias=True)\n",
              ")"
            ]
          },
          "metadata": {},
          "execution_count": 5
        }
      ],
      "source": [
        "import torch.nn as nn\n",
        "\n",
        "class Image_to_AgePredictionModel(nn.Module):\n",
        "    def __init__(self):\n",
        "        super(Image_to_AgePredictionModel, self).__init__()\n",
        "        self.fc = nn.Linear(200 * 200 * 3, 1)  # 입력 이미지 크기에 맞는 Fully Connected 레이어\n",
        "\n",
        "    def forward(self, x):\n",
        "        x = x.view(x.size(0), -1)  # Flatten 작업\n",
        "        x = self.fc(x)\n",
        "        return x\n",
        "\n",
        "model = Image_to_AgePredictionModel()\n",
        "model.to(device)\n"
      ]
    },
    {
      "cell_type": "code",
      "execution_count": 6,
      "id": "ad177335-95a9-40d8-a412-675eb9506354",
      "metadata": {
        "id": "ad177335-95a9-40d8-a412-675eb9506354"
      },
      "outputs": [],
      "source": [
        "\"\"\"\n",
        "에폭(epoch) 수 - 데이터셋을 반복하는 횟수\n",
        "\n",
        "배치 크기(batch size) - 매개변수가 갱신되기 전 신경망을 통해 전파된 데이터 샘플의 수\n",
        "\n",
        "학습률(learning rate) - 각 배치/에폭에서 모델의 매개변수를 조절하는 비율. 값이 작을수록 학습 속도가 느려지고, 값이 크면 학습 중 예측할 수 없는 동작이 발생할 수 있습니다.\n",
        "\"\"\"\n",
        "criterion = nn.MSELoss()\n",
        "# optimizer = torch.optim.SGD(model.parameters(), lr=0.001, momentum=0.9)\n",
        "optimizer = torch.optim.SGD(model.parameters(), lr=0.00001)"
      ]
    },
    {
      "cell_type": "code",
      "execution_count": 7,
      "id": "f481943c-d9ed-45c5-8b06-166305f36aef",
      "metadata": {
        "id": "f481943c-d9ed-45c5-8b06-166305f36aef"
      },
      "outputs": [],
      "source": [
        "# Hyperparameter 설정\n",
        "num_epochs = 10\n",
        "\n",
        "# Learning Curve를 그리기 위한 리스트 초기화\n",
        "train_loss_mat = []\n",
        "val_losses_mat = []"
      ]
    },
    {
      "cell_type": "code",
      "execution_count": 8,
      "id": "75387ff3-e5d2-4e61-998d-d014c1fa7087",
      "metadata": {
        "id": "75387ff3-e5d2-4e61-998d-d014c1fa7087",
        "colab": {
          "base_uri": "https://localhost:8080/"
        },
        "outputId": "867b5191-92a3-4bb9-d78d-4de11bf612e0"
      },
      "outputs": [
        {
          "output_type": "stream",
          "name": "stdout",
          "text": [
            "Epoch 1/10, Training Loss: 525.8306847205529\n",
            "Epoch 1/10, Validation Loss: 9.721708317589432\n",
            "Epoch 2/10, Training Loss: 411.6371563251202\n",
            "Epoch 2/10, Validation Loss: 8.570181881969345\n",
            "Epoch 3/10, Training Loss: 377.6308318309295\n",
            "Epoch 3/10, Validation Loss: 7.99966126886421\n",
            "Epoch 4/10, Training Loss: 358.29849399664465\n",
            "Epoch 4/10, Validation Loss: 7.661511543143645\n",
            "Epoch 5/10, Training Loss: 346.21937584510215\n",
            "Epoch 5/10, Validation Loss: 7.415581985594381\n",
            "Epoch 6/10, Training Loss: 336.52952974759614\n",
            "Epoch 6/10, Validation Loss: 7.323642385944333\n",
            "Epoch 7/10, Training Loss: 327.955526576898\n",
            "Epoch 7/10, Validation Loss: 7.066604353695401\n",
            "Epoch 8/10, Training Loss: 322.08795392941204\n",
            "Epoch 8/10, Validation Loss: 7.094632582086565\n",
            "Epoch 9/10, Training Loss: 316.4292706611829\n",
            "Epoch 9/10, Validation Loss: 6.959494848541298\n",
            "Epoch 10/10, Training Loss: 311.1084478916266\n",
            "Epoch 10/10, Validation Loss: 6.9607497616044585\n"
          ]
        }
      ],
      "source": [
        "\n",
        "for epoch in range(num_epochs):\n",
        "    model.train()\n",
        "    running_loss = 0.0\n",
        "    for images, labels in train_loader:\n",
        "        images , labels= images.to(device), labels.to(device)\n",
        "        optimizer.zero_grad()\n",
        "        outputs = model(images)\n",
        "        loss = criterion(outputs.view(-1), labels.float())   # view 메소드 수정\n",
        "        loss.backward()\n",
        "        optimizer.step()\n",
        "        running_loss += loss.item()\n",
        "\n",
        "    # 훈련 손실 출력\n",
        "    print(f\"Epoch {epoch+1}/{num_epochs}, Training Loss: {running_loss/len(train_loader)}\")\n",
        "    # 훈련 손실 기록\n",
        "    train_loss = running_loss / len(train_loader)\n",
        "    train_loss_mat.append(train_loss)\n",
        "    # 검증 데이터셋에 대한 손실 계산\n",
        "    model.eval()\n",
        "    val_loss = 0.0\n",
        "    with torch.no_grad():\n",
        "        for images, labels in val_loader:\n",
        "            images , labels= images.to(device), labels.to(device)\n",
        "            outputs = model(images)\n",
        "            loss = criterion(outputs.view(-1), labels.float())   # view 메소드 수정\n",
        "            val_loss += loss.item()\n",
        "     # 검증 손실 기록\n",
        "    val_loss = val_loss / len(val_loader)\n",
        "    val_losses_mat.append(val_loss)\n",
        "\n",
        "    # 에폭별로 손실 출력\n",
        "    print(f\"Epoch {epoch+1}/{num_epochs}, Validation Loss: {val_loss/len(val_loader)}\")\n"
      ]
    },
    {
      "cell_type": "code",
      "execution_count": 9,
      "id": "e7ce1c19-9eca-4978-b888-26bdc89bfa3d",
      "metadata": {
        "id": "e7ce1c19-9eca-4978-b888-26bdc89bfa3d",
        "colab": {
          "base_uri": "https://localhost:8080/",
          "height": 487
        },
        "outputId": "0e7a73b9-5237-49c9-c72f-aef4e138e631"
      },
      "outputs": [
        {
          "output_type": "display_data",
          "data": {
            "text/plain": [
              "<Figure size 1000x500 with 1 Axes>"
            ],
            "image/png": "[encoded data removed]"
          },
          "metadata": {}
        }
      ],
      "source": [
        "# Learning Curve 그리기\n",
        "plt.figure(figsize=(10, 5))\n",
        "plt.plot(range(1, num_epochs + 1), train_loss_mat, label='Training Loss')\n",
        "plt.plot(range(1, num_epochs + 1), val_losses_mat, label='Validation Loss')\n",
        "plt.xlabel('Epochs')\n",
        "plt.ylabel('Loss')\n",
        "plt.legend()\n",
        "plt.title('Learning Curve')\n",
        "plt.show()"
      ]
    },
    {
      "cell_type": "code",
      "execution_count": 10,
      "id": "0051e12a-32dc-4e5d-b5b9-a47cf51b3d8f",
      "metadata": {
        "id": "0051e12a-32dc-4e5d-b5b9-a47cf51b3d8f",
        "colab": {
          "base_uri": "https://localhost:8080/"
        },
        "outputId": "824e465d-e1ac-47bc-b173-22af56319e8f"
      },
      "outputs": [
        {
          "output_type": "stream",
          "name": "stdout",
          "text": [
            "----------------------------------------------------------------\n",
            "        Layer (type)               Output Shape         Param #\n",
            "================================================================\n",
            "            Linear-1                    [-1, 1]         120,001\n",
            "================================================================\n",
            "Total params: 120,001\n",
            "Trainable params: 120,001\n",
            "Non-trainable params: 0\n",
            "----------------------------------------------------------------\n",
            "Input size (MB): 0.46\n",
            "Forward/backward pass size (MB): 0.00\n",
            "Params size (MB): 0.46\n",
            "Estimated Total Size (MB): 0.92\n",
            "----------------------------------------------------------------\n"
          ]
        }
      ],
      "source": [
        "from torchsummary import summary\n",
        "\n",
        "\n",
        "\n",
        "summary(model, input_size=(3,200,200), device='cuda')"
      ]
    }
  ],
  "metadata": {
    "kernelspec": {
      "display_name": "Python 3",
      "name": "python3"
    },
    "language_info": {
      "codemirror_mode": {
        "name": "ipython",
        "version": 3
      },
      "file_extension": ".py",
      "mimetype": "text/x-python",
      "name": "python",
      "nbconvert_exporter": "python",
      "pygments_lexer": "ipython3",
      "version": "3.9.18"
    },
    "colab": {
      "provenance": [],
      "gpuType": "T4"
    },
    "accelerator": "GPU"
  },
  "nbformat": 4,
  "nbformat_minor": 5
}