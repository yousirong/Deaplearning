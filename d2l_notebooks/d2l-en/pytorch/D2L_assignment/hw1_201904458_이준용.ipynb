{
 "cells": [
  {
   "cell_type": "markdown",
   "metadata": {},
   "source": [
    "컴퓨터전자시스템공학과 / 201904458 / 이준용"
   ]
  },
  {
   "cell_type": "markdown",
   "metadata": {
    "id": "aIVgtna6-Mae"
   },
   "source": [
    "\n",
    "**Homework #1. linear regression model**\n",
    "\n",
    "###이번 실습의 학습 목표 입니다.\n",
    "1. 주어진 데이터를 불러오는 과정 익히기.\n",
    "2. train loader & test loader 만들기.\n",
    "3. model에 들어갈 input data preprocessing 해보기.\n",
    "4. 간단한 linear regression model 구현해보기.\n",
    "5. pytorch에 구현되어있는 loss function, optimizer 사용해보기.\n",
    "6. 학습과정에서의 이해를 돕기 위해 기능들이 수행하는 역할에 대해 공부하기.\n",
    "\n",
    " + input값 채우기.\n",
    "7.  Linear regression이 왜 Neural network인지 해당 과제를 예시로 들어 설명하기."
   ]
  },
  {
   "cell_type": "code",
   "execution_count": 1,
   "metadata": {},
   "outputs": [],
   "source": [
    "import os\n",
    "os.environ['KMP_DUPLICATE_LIB_OK']='True'"
   ]
  },
  {
   "cell_type": "code",
   "execution_count": 2,
   "metadata": {
    "id": "qauQvRmaP8qg"
   },
   "outputs": [],
   "source": [
    "import torch\n",
    "# 신경망(neural network) 구성 요소를 제공\n",
    "from torch import nn\n",
    "# 최적화 알고리즘(예: SGD, Adam 등)을 제공\n",
    "import torch.optim as optim\n",
    "# Variable은 자동 미분 기능을 가진 텐서\n",
    "from torch.autograd import Variable\n",
    "# 배치 처리, 셔플링 등 데이터 로딩\n",
    "from torch.utils.data import dataloader\n",
    "\n",
    "import numpy as np\n",
    "import random\n",
    "import matplotlib.pyplot as plt\n",
    "import pandas as pd\n",
    "import os\n",
    "\n",
    "import matplotlib.pyplot as plt\n",
    "# 손으로 쓴 숫자 이미지인 MNIST 데이터셋\n",
    "from torchvision.datasets.mnist import MNIST\n",
    "# PIL img나 numpy ndarray 형태의 이미지데이터를 0-1 범위의 텐서(Tensor) 형태로 변형\n",
    "from torchvision.transforms import ToTensor"
   ]
  },
  {
   "cell_type": "code",
   "execution_count": 3,
   "metadata": {},
   "outputs": [
    {
     "name": "stdout",
     "output_type": "stream",
     "text": [
      "Current cuda device is cpu\n"
     ]
    }
   ],
   "source": [
    "is_cuda = torch.cuda.is_available()\n",
    "device = torch.device('cuda' if is_cuda else 'cpu')\n",
    "\n",
    "print('Current cuda device is', device)"
   ]
  },
  {
   "cell_type": "markdown",
   "metadata": {
    "id": "rGRfLpyxE38d"
   },
   "source": [
    "* 주어진 데이터를 불러오는 과정 익히기."
   ]
  },
  {
   "cell_type": "code",
   "execution_count": 4,
   "metadata": {
    "id": "mX4aOpYuQWWi"
   },
   "outputs": [
    {
     "name": "stdout",
     "output_type": "stream",
     "text": [
      "training data len :  60000\n",
      "test data len :  10000\n",
      "Dataset MNIST\n",
      "    Number of datapoints: 60000\n",
      "    Root location: ./\n",
      "    Split: Train\n",
      "    StandardTransform\n",
      "Transform: ToTensor()\n"
     ]
    }
   ],
   "source": [
    "training_data=MNIST(root=\"./\", train=True, download=True, transform=ToTensor())\n",
    "test_data=MNIST(root=\"./\", train=False, download=True, transform=ToTensor())\n",
    "\n",
    "print(\"training data len : \",len(training_data))\n",
    "print(\"test data len : \",len(test_data))\n",
    "print(training_data)\n",
    "\n",
    "# data image 9장 불러오기 - 'import matplotlib.pyplot as plt' 사용\n"
   ]
  },
  {
   "cell_type": "markdown",
   "metadata": {
    "id": "pg-0VpaaFAht"
   },
   "source": [
    "* train loader & test loader 만들기."
   ]
  },
  {
   "cell_type": "code",
   "execution_count": 5,
   "metadata": {
    "id": "F_y2syXETHiW"
   },
   "outputs": [],
   "source": [
    "# train loader & test loader 만들기 (batch size : 32/ train : shuffle=True, test : shuffle=False)\n",
    "# 데이터셋을 DataLoader에 넣어 Train Loader와 Test Loader를 생성합니다.\n",
    "from torch.utils.data import DataLoader\n",
    "batch_size = 32  # 미니배치 크기 32 설정함\n",
    "shuffle_train = True  # 학습 데이터(shuffle_train)은 데이터를 섞음\n",
    "shuffle_test = False  # 테스트 데이터(shuffle_test)는 섞지 않음.\n",
    "\n",
    "train_loader = DataLoader(training_data, batch_size=batch_size, shuffle=shuffle_train)\n",
    "test_loader = DataLoader(test_data, batch_size=batch_size, shuffle=shuffle_test)"
   ]
  },
  {
   "cell_type": "markdown",
   "metadata": {
    "id": "-pq_LMfmFKQ4"
   },
   "source": [
    "* input data preprocessing 해보기."
   ]
  },
  {
   "cell_type": "code",
   "execution_count": 6,
   "metadata": {
    "id": "vyNh8ohwWmdS"
   },
   "outputs": [],
   "source": [
    "import numpy as np\n",
    "# numpy를 사용하여 input data를 배열 형태로 만들기(type=np.float32)\n",
    "x_values = [i for i in range(11)]\n",
    "x_train = np.array(x_values, dtype=np.float32)\n",
    "x_train = x_train.reshape(-1, 1)\n",
    "# numpy를 사용하여 input data를 배열 형태로 만들기(type=np.float32)\n",
    "y_values = [2*i + 1 for i in x_values]\n",
    "y_train = np.array(y_values, dtype=np.float32)\n",
    "y_train = y_train.reshape(-1, 1)"
   ]
  },
  {
   "cell_type": "markdown",
   "metadata": {
    "id": "ubjA6CgVFUZ5"
   },
   "source": [
    "* 간단한 linear regression model 구현해보기."
   ]
  },
  {
   "cell_type": "code",
   "execution_count": 7,
   "metadata": {
    "id": "uAGkzd3oVN2K"
   },
   "outputs": [],
   "source": [
    "class LinearRegression(nn.Module):\n",
    "    def __init__(self, inputSize, outputSize):\n",
    "        super(LinearRegression, self).__init__()\n",
    "        # 선형 레이어 초기화: 입력 차원 ->출력 차원\n",
    "        self.linear = nn.Linear(inputSize, outputSize)\n",
    "#super()로 기반 클래스(부모 클래스)를 초기화해줌으로써,\n",
    "#기반 클래스의 속성을 subclass가 받아오도록 한다.(초기화를 하지 않으면, 부모 클래스의 속성을 사용할 수 없음)\n",
    "# 좀 더 명확하게 super를 사용하기 위해서는 \n",
    "# 단순히 super().__init__()을 하는 것이 아니라 super(파생클래스, self).__init__() 을 해준다.\n",
    "#이와 같이 적어주면 기능적으로 차이는 없지만,\n",
    "# 파생클래스와 self를 넣어서 현재 클래스가 어떤 클래스인지 명확하게 표시해줄 수 있다.\n",
    "    def forward(self, x):\n",
    "        # 순전파 연산: 선형 레이어를 통한 입력 데이터 변환\n",
    "        out = self.linear(x)\n",
    "        return out\n",
    "#   순전파 함수에서는 입력 데이터의 텐서를 받고 출력 데이터의 텐서를 반환해야 합니다.\n",
    "# 텐서들 간의 임의의 연산뿐만 아니라, 생성자에서 정의한 Module을 사용할 수 있습니다."
   ]
  },
  {
   "cell_type": "code",
   "execution_count": 8,
   "metadata": {
    "id": "1CMbd7meWw6s"
   },
   "outputs": [],
   "source": [
    "inputDim = 1 # 'x'의 차원이 1이 되는 이유를 설명하시오. :\n",
    "\n",
    "#Linear Regression모델(선형 회귀 모델)은 주로 하나의 입력 변수가 출력 변수를 예측하는 간단한 선형 모델.\n",
    "# MNIST 데이터셋은 손으로 쓴 숫자(0부터 9까지)의 이미지를 포함하고 있다. \n",
    "# 각 이미지는 28x28 픽셀로 구성되어 있으며, 이것이 'x' 즉, 입력 변수가 된다.\n",
    "# 입력 변수 'x'가 하나의 차원을 가질 때, 예측 문제는 'x'를 사용하여 'y'를 예측하는 문제가 되며, \n",
    "# 이는 하나의 입력 차원을 가지는 것을 의미한다.\n",
    "# 그러므로  'inputDim = 1'로 설정된 것은 하나의 입력 변수만을 가지고 있음을 나타낸다고 보여진다.\n",
    "\n",
    "outputDim = 1 # 'y'의 차원이 1이 되는 이유를 설명하시오. :\n",
    "\n",
    "#Linear Regression모델(선형 회귀 모델)은 연속형 값을 예측하는 회귀 문제를 다룬다. \n",
    "# 'y', 즉 출력 변수 또한 연속적인 값.\n",
    "# 따라서 예측된 값 'y'의 출력 차원은 1이 된다. \n",
    "# 다른말로, 예측하려는 결과값이 하나라는 것을 나타낸다.\n",
    "# 결론은  inputDim과 outputDim 모두 1로 설정된 것은 \n",
    "# 단일 입력변수 x 로부터 단일 출력변수 y를 예측하는 선형회귀문제를 다룬다는 것을 의미한다.\n",
    "\n",
    "learningRate = 0.01\n",
    "epochs = 100\n",
    "\n",
    "model = LinearRegression(inputDim, outputDim)\n",
    "\n",
    "if torch.cuda.is_available():\n",
    "    model.cuda()"
   ]
  },
  {
   "cell_type": "markdown",
   "metadata": {
    "id": "3iWxqEP_G7Ci"
   },
   "source": [
    "* pytorch에 구현되어있는 loss function, optimizer 사용해보기."
   ]
  },
  {
   "cell_type": "code",
   "execution_count": 9,
   "metadata": {
    "id": "J39lCIf3GRhZ"
   },
   "outputs": [],
   "source": [
    "loss_fn = nn.MSELoss() \n",
    "# 주어진 코드에서 loss_fn을 MSE (Mean Squared Error) Loss Function으로 설정하려고 한다. \n",
    "# MSE는 회귀 문제에서 예측값과 실제값 간의 평균 제곱 오차를 계산하는 함수로, \n",
    "# 이를 최소화하는 것이 회귀 모델의 목표이다.\n",
    "optimizer = torch.optim.SGD(model.parameters(), lr=learningRate)\n",
    "#주어진 코드에서 optimizer를 SGD (Stochastic Gradient Descent) Optimizer로 설정하려고 한다.\n",
    "# SGD는 모델의 가중치를 업데이트하는 최적화 알고리즘 중 하나로, \n",
    "# 학습률(learning rate),모멘텀(momentum),가중치 감소(weight decay) \n",
    "# 하이퍼파라미터를 사용하여 모델 파라미터를 조정합니다.\n",
    "\n",
    "\n",
    "\n"
   ]
  },
  {
   "cell_type": "markdown",
   "metadata": {
    "id": "Ethk4y9eHJuv"
   },
   "source": [
    "* 학습과정에서의 이해를 돕기 위해 기능들이 수행하는 역할에 대해 공부하기."
   ]
  },
  {
   "cell_type": "code",
   "execution_count": 10,
   "metadata": {
    "id": "V1a2CTu5Wzkw"
   },
   "outputs": [
    {
     "name": "stdout",
     "output_type": "stream",
     "text": [
      "tensor(64.0950, grad_fn=<MseLossBackward0>)\n",
      "epoch 0, loss 64.09503936767578\n",
      "tensor(5.2280, grad_fn=<MseLossBackward0>)\n",
      "epoch 1, loss 5.228044509887695\n",
      "tensor(0.4265, grad_fn=<MseLossBackward0>)\n",
      "epoch 2, loss 0.42645180225372314\n",
      "tensor(0.0348, grad_fn=<MseLossBackward0>)\n",
      "epoch 3, loss 0.03480072319507599\n",
      "tensor(0.0029, grad_fn=<MseLossBackward0>)\n",
      "epoch 4, loss 0.002854716731235385\n",
      "tensor(0.0002, grad_fn=<MseLossBackward0>)\n",
      "epoch 5, loss 0.0002487878082320094\n",
      "tensor(3.6072e-05, grad_fn=<MseLossBackward0>)\n",
      "epoch 6, loss 3.6071785871172324e-05\n",
      "tensor(1.8539e-05, grad_fn=<MseLossBackward0>)\n",
      "epoch 7, loss 1.853928370110225e-05\n",
      "tensor(1.6935e-05, grad_fn=<MseLossBackward0>)\n",
      "epoch 8, loss 1.693473859631922e-05\n",
      "tensor(1.6632e-05, grad_fn=<MseLossBackward0>)\n",
      "epoch 9, loss 1.6632107872283086e-05\n",
      "tensor(1.6436e-05, grad_fn=<MseLossBackward0>)\n",
      "epoch 10, loss 1.643628638703376e-05\n",
      "tensor(1.6254e-05, grad_fn=<MseLossBackward0>)\n",
      "epoch 11, loss 1.62539381562965e-05\n",
      "tensor(1.6072e-05, grad_fn=<MseLossBackward0>)\n",
      "epoch 12, loss 1.6071937352535315e-05\n",
      "tensor(1.5893e-05, grad_fn=<MseLossBackward0>)\n",
      "epoch 13, loss 1.5892692317720503e-05\n",
      "tensor(1.5715e-05, grad_fn=<MseLossBackward0>)\n",
      "epoch 14, loss 1.571546818013303e-05\n",
      "tensor(1.5540e-05, grad_fn=<MseLossBackward0>)\n",
      "epoch 15, loss 1.5540113963652402e-05\n",
      "tensor(1.5364e-05, grad_fn=<MseLossBackward0>)\n",
      "epoch 16, loss 1.53641067299759e-05\n",
      "tensor(1.5194e-05, grad_fn=<MseLossBackward0>)\n",
      "epoch 17, loss 1.5193546460068319e-05\n",
      "tensor(1.5023e-05, grad_fn=<MseLossBackward0>)\n",
      "epoch 18, loss 1.5023369087430183e-05\n",
      "tensor(1.4858e-05, grad_fn=<MseLossBackward0>)\n",
      "epoch 19, loss 1.4857717360428069e-05\n",
      "tensor(1.4691e-05, grad_fn=<MseLossBackward0>)\n",
      "epoch 20, loss 1.469118069508113e-05\n",
      "tensor(1.4527e-05, grad_fn=<MseLossBackward0>)\n",
      "epoch 21, loss 1.452710057492368e-05\n",
      "tensor(1.4365e-05, grad_fn=<MseLossBackward0>)\n",
      "epoch 22, loss 1.4364868548000231e-05\n",
      "tensor(1.4205e-05, grad_fn=<MseLossBackward0>)\n",
      "epoch 23, loss 1.4205395928001963e-05\n",
      "tensor(1.4045e-05, grad_fn=<MseLossBackward0>)\n",
      "epoch 24, loss 1.4044807358004618e-05\n",
      "tensor(1.3889e-05, grad_fn=<MseLossBackward0>)\n",
      "epoch 25, loss 1.3889107322029304e-05\n",
      "tensor(1.3733e-05, grad_fn=<MseLossBackward0>)\n",
      "epoch 26, loss 1.373304894514149e-05\n",
      "tensor(1.3581e-05, grad_fn=<MseLossBackward0>)\n",
      "epoch 27, loss 1.358081863145344e-05\n",
      "tensor(1.3429e-05, grad_fn=<MseLossBackward0>)\n",
      "epoch 28, loss 1.3428535567072686e-05\n",
      "tensor(1.3279e-05, grad_fn=<MseLossBackward0>)\n",
      "epoch 29, loss 1.3278568076202646e-05\n",
      "tensor(1.3131e-05, grad_fn=<MseLossBackward0>)\n",
      "epoch 30, loss 1.3130981642461848e-05\n",
      "tensor(1.2984e-05, grad_fn=<MseLossBackward0>)\n",
      "epoch 31, loss 1.2984071872779168e-05\n",
      "tensor(1.2839e-05, grad_fn=<MseLossBackward0>)\n",
      "epoch 32, loss 1.2838779184676241e-05\n",
      "tensor(1.2694e-05, grad_fn=<MseLossBackward0>)\n",
      "epoch 33, loss 1.2693547432718333e-05\n",
      "tensor(1.2553e-05, grad_fn=<MseLossBackward0>)\n",
      "epoch 34, loss 1.2553375199786387e-05\n",
      "tensor(1.2412e-05, grad_fn=<MseLossBackward0>)\n",
      "epoch 35, loss 1.2412125215632841e-05\n",
      "tensor(1.2275e-05, grad_fn=<MseLossBackward0>)\n",
      "epoch 36, loss 1.2275465451239143e-05\n",
      "tensor(1.2138e-05, grad_fn=<MseLossBackward0>)\n",
      "epoch 37, loss 1.213800351251848e-05\n",
      "tensor(1.2002e-05, grad_fn=<MseLossBackward0>)\n",
      "epoch 38, loss 1.2001642062386964e-05\n",
      "tensor(1.1868e-05, grad_fn=<MseLossBackward0>)\n",
      "epoch 39, loss 1.186817553389119e-05\n",
      "tensor(1.1737e-05, grad_fn=<MseLossBackward0>)\n",
      "epoch 40, loss 1.173660893982742e-05\n",
      "tensor(1.1604e-05, grad_fn=<MseLossBackward0>)\n",
      "epoch 41, loss 1.1604169230849948e-05\n",
      "tensor(1.1476e-05, grad_fn=<MseLossBackward0>)\n",
      "epoch 42, loss 1.1476226063678041e-05\n",
      "tensor(1.1347e-05, grad_fn=<MseLossBackward0>)\n",
      "epoch 43, loss 1.1347399777150713e-05\n",
      "tensor(1.1221e-05, grad_fn=<MseLossBackward0>)\n",
      "epoch 44, loss 1.122072535508778e-05\n",
      "tensor(1.1095e-05, grad_fn=<MseLossBackward0>)\n",
      "epoch 45, loss 1.1095060472143814e-05\n",
      "tensor(1.0971e-05, grad_fn=<MseLossBackward0>)\n",
      "epoch 46, loss 1.0970549737976398e-05\n",
      "tensor(1.0849e-05, grad_fn=<MseLossBackward0>)\n",
      "epoch 47, loss 1.0849385034816805e-05\n",
      "tensor(1.0728e-05, grad_fn=<MseLossBackward0>)\n",
      "epoch 48, loss 1.0728236702561844e-05\n",
      "tensor(1.0609e-05, grad_fn=<MseLossBackward0>)\n",
      "epoch 49, loss 1.0608526281430386e-05\n",
      "tensor(1.0491e-05, grad_fn=<MseLossBackward0>)\n",
      "epoch 50, loss 1.0490581189515069e-05\n",
      "tensor(1.0372e-05, grad_fn=<MseLossBackward0>)\n",
      "epoch 51, loss 1.0371918506280053e-05\n",
      "tensor(1.0257e-05, grad_fn=<MseLossBackward0>)\n",
      "epoch 52, loss 1.0256665518681984e-05\n",
      "tensor(1.0144e-05, grad_fn=<MseLossBackward0>)\n",
      "epoch 53, loss 1.0143524377781432e-05\n",
      "tensor(1.0029e-05, grad_fn=<MseLossBackward0>)\n",
      "epoch 54, loss 1.002856242848793e-05\n",
      "tensor(9.9161e-06, grad_fn=<MseLossBackward0>)\n",
      "epoch 55, loss 9.916077942762058e-06\n",
      "tensor(9.8057e-06, grad_fn=<MseLossBackward0>)\n",
      "epoch 56, loss 9.805707122723106e-06\n",
      "tensor(9.6967e-06, grad_fn=<MseLossBackward0>)\n",
      "epoch 57, loss 9.69670873018913e-06\n",
      "tensor(9.5886e-06, grad_fn=<MseLossBackward0>)\n",
      "epoch 58, loss 9.588626198819838e-06\n",
      "tensor(9.4818e-06, grad_fn=<MseLossBackward0>)\n",
      "epoch 59, loss 9.481830602453556e-06\n",
      "tensor(9.3749e-06, grad_fn=<MseLossBackward0>)\n",
      "epoch 60, loss 9.374911314807832e-06\n",
      "tensor(9.2707e-06, grad_fn=<MseLossBackward0>)\n",
      "epoch 61, loss 9.270740520150866e-06\n",
      "tensor(9.1661e-06, grad_fn=<MseLossBackward0>)\n",
      "epoch 62, loss 9.16609224077547e-06\n",
      "tensor(9.0646e-06, grad_fn=<MseLossBackward0>)\n",
      "epoch 63, loss 9.064621735888068e-06\n",
      "tensor(8.9649e-06, grad_fn=<MseLossBackward0>)\n",
      "epoch 64, loss 8.964910193753894e-06\n",
      "tensor(8.8636e-06, grad_fn=<MseLossBackward0>)\n",
      "epoch 65, loss 8.863559742167126e-06\n",
      "tensor(8.7632e-06, grad_fn=<MseLossBackward0>)\n",
      "epoch 66, loss 8.763193363847677e-06\n",
      "tensor(8.6679e-06, grad_fn=<MseLossBackward0>)\n",
      "epoch 67, loss 8.667945621709805e-06\n",
      "tensor(8.5707e-06, grad_fn=<MseLossBackward0>)\n",
      "epoch 68, loss 8.570673344365787e-06\n",
      "tensor(8.4741e-06, grad_fn=<MseLossBackward0>)\n",
      "epoch 69, loss 8.4740840975428e-06\n",
      "tensor(8.3802e-06, grad_fn=<MseLossBackward0>)\n",
      "epoch 70, loss 8.380228791793343e-06\n",
      "tensor(8.2859e-06, grad_fn=<MseLossBackward0>)\n",
      "epoch 71, loss 8.28594511403935e-06\n",
      "tensor(8.1941e-06, grad_fn=<MseLossBackward0>)\n",
      "epoch 72, loss 8.194112524506636e-06\n",
      "tensor(8.1015e-06, grad_fn=<MseLossBackward0>)\n",
      "epoch 73, loss 8.101498679025099e-06\n",
      "tensor(8.0118e-06, grad_fn=<MseLossBackward0>)\n",
      "epoch 74, loss 8.011781574168708e-06\n",
      "tensor(7.9215e-06, grad_fn=<MseLossBackward0>)\n",
      "epoch 75, loss 7.92154787632171e-06\n",
      "tensor(7.8338e-06, grad_fn=<MseLossBackward0>)\n",
      "epoch 76, loss 7.833835297788028e-06\n",
      "tensor(7.7451e-06, grad_fn=<MseLossBackward0>)\n",
      "epoch 77, loss 7.745093171251938e-06\n",
      "tensor(7.6610e-06, grad_fn=<MseLossBackward0>)\n",
      "epoch 78, loss 7.66103585192468e-06\n",
      "tensor(7.5742e-06, grad_fn=<MseLossBackward0>)\n",
      "epoch 79, loss 7.574187748105032e-06\n",
      "tensor(7.4891e-06, grad_fn=<MseLossBackward0>)\n",
      "epoch 80, loss 7.489143627026351e-06\n",
      "tensor(7.4060e-06, grad_fn=<MseLossBackward0>)\n",
      "epoch 81, loss 7.40602308724192e-06\n",
      "tensor(7.3229e-06, grad_fn=<MseLossBackward0>)\n",
      "epoch 82, loss 7.32289299776312e-06\n",
      "tensor(7.2419e-06, grad_fn=<MseLossBackward0>)\n",
      "epoch 83, loss 7.2418861236656085e-06\n",
      "tensor(7.1615e-06, grad_fn=<MseLossBackward0>)\n",
      "epoch 84, loss 7.161514531617286e-06\n",
      "tensor(7.0811e-06, grad_fn=<MseLossBackward0>)\n",
      "epoch 85, loss 7.0811206569487695e-06\n",
      "tensor(7.0023e-06, grad_fn=<MseLossBackward0>)\n",
      "epoch 86, loss 7.002290203672601e-06\n",
      "tensor(6.9227e-06, grad_fn=<MseLossBackward0>)\n",
      "epoch 87, loss 6.922748070792295e-06\n",
      "tensor(6.8465e-06, grad_fn=<MseLossBackward0>)\n",
      "epoch 88, loss 6.8465492404357065e-06\n",
      "tensor(6.7698e-06, grad_fn=<MseLossBackward0>)\n",
      "epoch 89, loss 6.769808805984212e-06\n",
      "tensor(6.6935e-06, grad_fn=<MseLossBackward0>)\n",
      "epoch 90, loss 6.693497198284604e-06\n",
      "tensor(6.6203e-06, grad_fn=<MseLossBackward0>)\n",
      "epoch 91, loss 6.620319709327305e-06\n",
      "tensor(6.5461e-06, grad_fn=<MseLossBackward0>)\n",
      "epoch 92, loss 6.54611312711495e-06\n",
      "tensor(6.4727e-06, grad_fn=<MseLossBackward0>)\n",
      "epoch 93, loss 6.472662789747119e-06\n",
      "tensor(6.4005e-06, grad_fn=<MseLossBackward0>)\n",
      "epoch 94, loss 6.400473466783296e-06\n",
      "tensor(6.3295e-06, grad_fn=<MseLossBackward0>)\n",
      "epoch 95, loss 6.3295187828771304e-06\n",
      "tensor(6.2575e-06, grad_fn=<MseLossBackward0>)\n",
      "epoch 96, loss 6.257464974623872e-06\n",
      "tensor(6.1882e-06, grad_fn=<MseLossBackward0>)\n",
      "epoch 97, loss 6.188201950863004e-06\n",
      "tensor(6.1193e-06, grad_fn=<MseLossBackward0>)\n",
      "epoch 98, loss 6.119264071458019e-06\n",
      "tensor(6.0500e-06, grad_fn=<MseLossBackward0>)\n",
      "epoch 99, loss 6.050002411939204e-06\n"
     ]
    }
   ],
   "source": [
    "for epoch in range(epochs):\n",
    "    if torch.cuda.is_available():\n",
    "        inputs = Variable(torch.from_numpy(x_train).cuda())\n",
    "        labels = Variable(torch.from_numpy(y_train).cuda())\n",
    "    else:\n",
    "        inputs = Variable(torch.from_numpy(x_train))\n",
    "        labels = Variable(torch.from_numpy(y_train))\n",
    "\n",
    "    # optimizer를 zero_grad 시키는 이유: epochs마다 반복문이 도는데 \n",
    "    # minibatch의 그래디언트 정보를 초기화하여 현재 미니배치의 그래디언트로 업데이트하기 위해서이다.\n",
    "    # optimizer.zero_grad()를 주석처리해서 run해봤는데 매개변수 변화도가 누적되어 수치에 의미가\n",
    "    # 없어 졌습니다. for 루프마다 0으로 만들어야 오차를 backward하는게 가능한 것 같습니다.\n",
    "    optimizer.zero_grad()\n",
    "\n",
    "    # 모델을 통해 입력 데이터를 순전파하여 예측값을 얻는다.\n",
    "    outputs = model(inputs)\n",
    "\n",
    "    # 손실 함수를 사용하여 예측값과 실제값 간의 Loss를 계산한다.\n",
    "    loss = loss_fn(outputs, labels)\n",
    "    print(loss)\n",
    "\n",
    "    # loss function을 backward 시키는 이유:\n",
    "    # loss를 모델 파라미터에 대해 미분하여 그래디언트를 계산하고, 이를 사용하여 모델 파라미터를 업데이트한다.\n",
    "    # forward()함수와 다르게 어떤 값에 대한 출력 텐서의 그래디언트를 전달받아, \n",
    "    # 동일한 값에 대한 입력 텐서의 변호도를 계산하는것 같습니다.\n",
    "    loss.backward()\n",
    "\n",
    "    # optimizer.step()을 사용하여 모델 파라미터를 업데이트한다.\n",
    "    optimizer.step()\n",
    "\n",
    "    print('epoch {}, loss {}'.format(epoch, loss.item()))\n"
   ]
  },
  {
   "cell_type": "code",
   "execution_count": 11,
   "metadata": {
    "id": "I31foyPTW2J8"
   },
   "outputs": [
    {
     "name": "stdout",
     "output_type": "stream",
     "text": [
      "[[ 0.9954243]\n",
      " [ 2.9960833]\n",
      " [ 4.9967422]\n",
      " [ 6.997401 ]\n",
      " [ 8.99806  ]\n",
      " [10.998719 ]\n",
      " [12.999378 ]\n",
      " [15.000037 ]\n",
      " [17.000696 ]\n",
      " [19.001356 ]\n",
      " [21.002014 ]]\n"
     ]
    },
    {
     "data": {
      "image/png": "[encoded data removed]",
      "text/plain": [
       "<Figure size 640x480 with 1 Axes>"
      ]
     },
     "metadata": {},
     "output_type": "display_data"
    }
   ],
   "source": [
    "with torch.no_grad():\n",
    "    if torch.cuda.is_available():\n",
    "        predicted = model(Variable(torch.from_numpy(x_train).cuda())).cpu().data.numpy()\n",
    "    else:\n",
    "        predicted = model(Variable(torch.from_numpy(x_train))).data.numpy()\n",
    "    print(predicted)\n",
    "\n",
    "plt.clf()\n",
    "plt.plot(x_train, y_train, 'go', label='True data', alpha=0.5)\n",
    "plt.plot(x_train, predicted, '--', label='Predictions', alpha=0.5)\n",
    "plt.legend(loc='best')\n",
    "plt.show()"
   ]
  },
  {
   "cell_type": "markdown",
   "metadata": {
    "id": "yQcS5oIAHuET"
   },
   "source": [
    "* Linear regression이 왜 Neural network인지 해당 과제를 예시로 들어 설명하기."
   ]
  },
  {
   "cell_type": "markdown",
   "metadata": {},
   "source": [
    "Neural Network의 핵심 구성 요소 중 하나는 뉴런이다. \n",
    "각 뉴런은 입력값에 대한 가중치를 가지고, 이 가중치를 사용하여 입력값을 변환하고 활성화 함수를 통과시킵니다. \n",
    "이런 관점에서 Linear Regression 모델은 Neural Network의 가장 간단한 형태 중 하나이다.\n",
    "\n",
    "y = wx + b\n",
    "\n",
    "\n",
    "입력 변수(x): Linear Regression에서 입력 변수(x)는 입력층(input layer)에 해당한다.\n",
    "입력층은 데이터의 특성(feature)을 나타내며, 이 특성에 대한 가중치(weight)를 곱하고 합산하여 출력을 계산한다. b는 bias 편향.\n",
    "\n",
    "가중치(w): Linear Regression에서는 가중치가 각 입력 변수와 관련이 있는데,\n",
    "Neural Network의 뉴런에 있는 시냅스 가중치와 마찬가지로 Linear Regression의 입력 변수에 가중치를 곱하여 가중합을 계산합니다. \n",
    "\n",
    "출력(y): Linear Regression에서 출력은 예측값을 나타난다. \n",
    "Neural Network에서도 출력층(output layer)인 Axon이 있고, 여기에서 최종 예측이 이루어지는것이 비슷하다. 다만, Linear Regression에서는 활성화 함수는 정의 되지 않음.\n",
    "\n",
    "활성화 함수(Activation Function): Linear Regression에서는 활성화 함수를 사용하지 않는다. 그러나 Neural Networ에서는 위의 정보들이 Axon에서 비선형 활성화 함수(예: ReLU, Sigmoid)를 사용하여 뉴런의 출력을 변환한다.\n",
    "\n",
    "Loss Function과 최적화(Optimization): \n",
    "Neural Network와 마찬가지로 Linear Regression에서도 Loss Function을 사용하여 예측값과 실제값 간의 오차를 계산하고,\n",
    "이 오차를 최소화하기 위해 최적화 알고리즘을 사용한다. 주로 평균 제곱 오차(Mean Squared Error, MSE)를 사용하며, \n",
    "이를 최소화하기 위해 스토캐스틱 경사 하강법(Stochastic Gradient Descent)을 적용했다.\n",
    "\n",
    "\n",
    "뉴런, 가중치 , 출력층, Loss Function, 최적화와 같은 개념은 Neural Network와 Linear Regression 간에 공통적으로 사용되므로, \n",
    "따라서 Linear Regression은 입력 변수와 가중치를 조합하여 출력을 계산하는 모델로, \n",
    "이러한 모델은 Neural Network형태 중 하나로 볼 수 있다. "
   ]
  },
  {
   "cell_type": "code",
   "execution_count": null,
   "metadata": {},
   "outputs": [],
   "source": []
  }
 ],
 "metadata": {
  "colab": {
   "provenance": []
  },
  "kernelspec": {
   "display_name": "Python 3 (ipykernel)",
   "language": "python",
   "name": "python3"
  },
  "language_info": {
   "codemirror_mode": {
    "name": "ipython",
    "version": 3
   },
   "file_extension": ".py",
   "mimetype": "text/x-python",
   "name": "python",
   "nbconvert_exporter": "python",
   "pygments_lexer": "ipython3",
   "version": "3.9.18"
  }
 },
 "nbformat": 4,
 "nbformat_minor": 4
}
