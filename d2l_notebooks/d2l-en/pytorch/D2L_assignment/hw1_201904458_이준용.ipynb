{
 "cells": [
  {
   "cell_type": "markdown",
   "metadata": {},
   "source": [
    "컴퓨터전자시스템공학과 / 201904458 / 이준용"
   ]
  },
  {
   "cell_type": "markdown",
   "metadata": {
    "id": "aIVgtna6-Mae"
   },
   "source": [
    "\n",
    "**Homework #1. linear regression model**\n",
    "\n",
    "###이번 실습의 학습 목표 입니다.\n",
    "1. 주어진 데이터를 불러오는 과정 익히기.\n",
    "2. train loader & test loader 만들기.\n",
    "3. model에 들어갈 input data preprocessing 해보기.\n",
    "4. 간단한 linear regression model 구현해보기.\n",
    "5. pytorch에 구현되어있는 loss function, optimizer 사용해보기.\n",
    "6. 학습과정에서의 이해를 돕기 위해 기능들이 수행하는 역할에 대해 공부하기.\n",
    "\n",
    " + input값 채우기.\n",
    "7.  Linear regression이 왜 Neural network인지 해당 과제를 예시로 들어 설명하기."
   ]
  },
  {
   "cell_type": "code",
   "execution_count": 1,
   "metadata": {},
   "outputs": [],
   "source": [
    "import os\n",
    "os.environ['KMP_DUPLICATE_LIB_OK']='True'"
   ]
  },
  {
   "cell_type": "code",
   "execution_count": 2,
   "metadata": {
    "id": "qauQvRmaP8qg"
   },
   "outputs": [],
   "source": [
    "import torch\n",
    "# 신경망(neural network) 구성 요소를 제공\n",
    "from torch import nn\n",
    "# 최적화 알고리즘(예: SGD, Adam 등)을 제공\n",
    "import torch.optim as optim\n",
    "# Variable은 자동 미분 기능을 가진 텐서\n",
    "from torch.autograd import Variable\n",
    "# 배치 처리, 셔플링 등 데이터 로딩\n",
    "from torch.utils.data import dataloader\n",
    "\n",
    "import numpy as np\n",
    "import random\n",
    "import matplotlib.pyplot as plt\n",
    "import pandas as pd\n",
    "import os\n",
    "\n",
    "import matplotlib.pyplot as plt\n",
    "# 손으로 쓴 숫자 이미지인 MNIST 데이터셋\n",
    "from torchvision.datasets.mnist import MNIST\n",
    "# PIL img나 numpy ndarray 형태의 이미지데이터를 0-1 범위의 텐서(Tensor) 형태로 변형\n",
    "from torchvision.transforms import ToTensor"
   ]
  },
  {
   "cell_type": "code",
   "execution_count": 3,
   "metadata": {},
   "outputs": [
    {
     "name": "stdout",
     "output_type": "stream",
     "text": [
      "Current cuda device is cpu\n"
     ]
    }
   ],
   "source": [
    "is_cuda = torch.cuda.is_available()\n",
    "device = torch.device('cuda' if is_cuda else 'cpu')\n",
    "\n",
    "print('Current cuda device is', device)"
   ]
  },
  {
   "cell_type": "markdown",
   "metadata": {
    "id": "rGRfLpyxE38d"
   },
   "source": [
    "* 주어진 데이터를 불러오는 과정 익히기."
   ]
  },
  {
   "cell_type": "code",
   "execution_count": 4,
   "metadata": {
    "id": "mX4aOpYuQWWi"
   },
   "outputs": [
    {
     "name": "stdout",
     "output_type": "stream",
     "text": [
      "training data len :  60000\n",
      "test data len :  10000\n",
      "Dataset MNIST\n",
      "    Number of datapoints: 60000\n",
      "    Root location: ./\n",
      "    Split: Train\n",
      "    StandardTransform\n",
      "Transform: ToTensor()\n"
     ]
    }
   ],
   "source": [
    "training_data=MNIST(root=\"./\", train=True, download=True, transform=ToTensor())\n",
    "test_data=MNIST(root=\"./\", train=False, download=True, transform=ToTensor())\n",
    "\n",
    "print(\"training data len : \",len(training_data))\n",
    "print(\"test data len : \",len(test_data))\n",
    "print(training_data)\n",
    "\n",
    "# data image 9장 불러오기 - 'import matplotlib.pyplot as plt' 사용\n"
   ]
  },
  {
   "cell_type": "markdown",
   "metadata": {
    "id": "pg-0VpaaFAht"
   },
   "source": [
    "* train loader & test loader 만들기."
   ]
  },
  {
   "cell_type": "code",
   "execution_count": 5,
   "metadata": {
    "id": "F_y2syXETHiW"
   },
   "outputs": [],
   "source": [
    "# train loader & test loader 만들기 (batch size : 32/ train : shuffle=True, test : shuffle=False)\n",
    "# 데이터셋을 DataLoader에 넣어 Train Loader와 Test Loader를 생성합니다.\n",
    "from torch.utils.data import DataLoader\n",
    "batch_size = 32  # 미니배치 크기 32 설정함\n",
    "shuffle_train = True  # 학습 데이터(shuffle_train)은 데이터를 섞음\n",
    "shuffle_test = False  # 테스트 데이터(shuffle_test)는 섞지 않음.\n",
    "\n",
    "train_loader = DataLoader(training_data, batch_size=batch_size, shuffle=shuffle_train)\n",
    "test_loader = DataLoader(test_data, batch_size=batch_size, shuffle=shuffle_test)"
   ]
  },
  {
   "cell_type": "markdown",
   "metadata": {
    "id": "-pq_LMfmFKQ4"
   },
   "source": [
    "* input data preprocessing 해보기."
   ]
  },
  {
   "cell_type": "code",
   "execution_count": 6,
   "metadata": {
    "id": "vyNh8ohwWmdS"
   },
   "outputs": [],
   "source": [
    "import numpy as np\n",
    "# numpy를 사용하여 input data를 배열 형태로 만들기(type=np.float32)\n",
    "x_values = [i for i in range(11)]\n",
    "x_train = np.array(x_values, dtype=np.float32)\n",
    "x_train = x_train.reshape(-1, 1)\n",
    "# numpy를 사용하여 input data를 배열 형태로 만들기(type=np.float32)\n",
    "y_values = [2*i + 1 for i in x_values]\n",
    "y_train = np.array(y_values, dtype=np.float32)\n",
    "y_train = y_train.reshape(-1, 1)"
   ]
  },
  {
   "cell_type": "markdown",
   "metadata": {
    "id": "ubjA6CgVFUZ5"
   },
   "source": [
    "* 간단한 linear regression model 구현해보기."
   ]
  },
  {
   "cell_type": "code",
   "execution_count": 7,
   "metadata": {
    "id": "uAGkzd3oVN2K"
   },
   "outputs": [],
   "source": [
    "class LinearRegression(nn.Module):\n",
    "    def __init__(self, inputSize, outputSize):\n",
    "        super(LinearRegression, self).__init__()\n",
    "        # 선형 레이어 초기화: 입력 차원 ->출력 차원\n",
    "        self.linear = nn.Linear(inputSize, outputSize)\n",
    "#super()로 기반 클래스(부모 클래스)를 초기화해줌으로써,\n",
    "#기반 클래스의 속성을 subclass가 받아오도록 한다.(초기화를 하지 않으면, 부모 클래스의 속성을 사용할 수 없음)\n",
    "# 좀 더 명확하게 super를 사용하기 위해서는 \n",
    "# 단순히 super().__init__()을 하는 것이 아니라 super(파생클래스, self).__init__() 을 해준다.\n",
    "#이와 같이 적어주면 기능적으로 차이는 없지만,\n",
    "# 파생클래스와 self를 넣어서 현재 클래스가 어떤 클래스인지 명확하게 표시해줄 수 있다.\n",
    "    def forward(self, x):\n",
    "        # 순전파 연산: 선형 레이어를 통한 입력 데이터 변환\n",
    "        out = self.linear(x)\n",
    "        return out\n",
    "#   순전파 함수에서는 입력 데이터의 텐서를 받고 출력 데이터의 텐서를 반환해야 합니다.\n",
    "# 텐서들 간의 임의의 연산뿐만 아니라, 생성자에서 정의한 Module을 사용할 수 있습니다."
   ]
  },
  {
   "cell_type": "code",
   "execution_count": 8,
   "metadata": {
    "id": "1CMbd7meWw6s"
   },
   "outputs": [],
   "source": [
    "inputDim = 1 # 'x'의 차원이 1이 되는 이유를 설명하시오. :\n",
    "\n",
    "#Linear Regression모델(선형 회귀 모델)은 주로 하나의 입력 변수가 출력 변수를 예측하는 간단한 선형 모델.\n",
    "# MNIST 데이터셋은 손으로 쓴 숫자(0부터 9까지)의 이미지를 포함하고 있다. \n",
    "# 각 이미지는 28x28 픽셀로 구성되어 있으며, 이것이 'x' 즉, 입력 변수가 된다.\n",
    "# 입력 변수 'x'가 하나의 차원을 가질 때, 예측 문제는 'x'를 사용하여 'y'를 예측하는 문제가 되며, \n",
    "# 이는 하나의 입력 차원을 가지는 것을 의미한다.\n",
    "# 그러므로  'inputDim = 1'로 설정된 것은 하나의 입력 변수만을 가지고 있음을 나타낸다고 보여진다.\n",
    "\n",
    "outputDim = 1 # 'y'의 차원이 1이 되는 이유를 설명하시오. :\n",
    "\n",
    "#Linear Regression모델(선형 회귀 모델)은 연속형 값을 예측하는 회귀 문제를 다룬다. \n",
    "# 'y', 즉 출력 변수 또한 연속적인 값.\n",
    "# 따라서 예측된 값 'y'의 출력 차원은 1이 된다. \n",
    "# 다른말로, 예측하려는 결과값이 하나라는 것을 나타낸다.\n",
    "# 결론은  inputDim과 outputDim 모두 1로 설정된 것은 \n",
    "# 단일 입력변수 x 로부터 단일 출력변수 y를 예측하는 선형회귀문제를 다룬다는 것을 의미한다.\n",
    "\n",
    "learningRate = 0.01\n",
    "epochs = 100\n",
    "\n",
    "model = LinearRegression(inputDim, outputDim)\n",
    "\n",
    "if torch.cuda.is_available():\n",
    "    model.cuda()"
   ]
  },
  {
   "cell_type": "markdown",
   "metadata": {
    "id": "3iWxqEP_G7Ci"
   },
   "source": [
    "* pytorch에 구현되어있는 loss function, optimizer 사용해보기."
   ]
  },
  {
   "cell_type": "code",
   "execution_count": 9,
   "metadata": {
    "id": "J39lCIf3GRhZ"
   },
   "outputs": [],
   "source": [
    "loss_fn = nn.MSELoss() \n",
    "# 주어진 코드에서 loss_fn을 MSE (Mean Squared Error) Loss Function으로 설정하려고 한다. \n",
    "# MSE는 회귀 문제에서 예측값과 실제값 간의 평균 제곱 오차를 계산하는 함수로, \n",
    "# 이를 최소화하는 것이 회귀 모델의 목표이다.\n",
    "optimizer = torch.optim.SGD(model.parameters(), lr=learningRate)\n",
    "#주어진 코드에서 optimizer를 SGD (Stochastic Gradient Descent) Optimizer로 설정하려고 한다.\n",
    "# SGD는 모델의 가중치를 업데이트하는 최적화 알고리즘 중 하나로, \n",
    "# 학습률(learning rate),모멘텀(momentum),가중치 감소(weight decay) \n",
    "# 하이퍼파라미터를 사용하여 모델 파라미터를 조정합니다.\n",
    "\n",
    "\n",
    "\n"
   ]
  },
  {
   "cell_type": "markdown",
   "metadata": {
    "id": "Ethk4y9eHJuv"
   },
   "source": [
    "* 학습과정에서의 이해를 돕기 위해 기능들이 수행하는 역할에 대해 공부하기."
   ]
  },
  {
   "cell_type": "code",
   "execution_count": 10,
   "metadata": {
    "id": "V1a2CTu5Wzkw"
   },
   "outputs": [
    {
     "name": "stdout",
     "output_type": "stream",
     "text": [
      "tensor(189.4799, grad_fn=<MseLossBackward0>)\n",
      "epoch 0, loss 189.47988891601562\n",
      "tensor(15.4554, grad_fn=<MseLossBackward0>)\n",
      "epoch 1, loss 15.455392837524414\n",
      "tensor(1.2608, grad_fn=<MseLossBackward0>)\n",
      "epoch 2, loss 1.2607589960098267\n",
      "tensor(0.1029, grad_fn=<MseLossBackward0>)\n",
      "epoch 3, loss 0.10294883698225021\n",
      "tensor(0.0085, grad_fn=<MseLossBackward0>)\n",
      "epoch 4, loss 0.008507895283401012\n",
      "tensor(0.0008, grad_fn=<MseLossBackward0>)\n",
      "epoch 5, loss 0.0008033935446292162\n",
      "tensor(0.0002, grad_fn=<MseLossBackward0>)\n",
      "epoch 6, loss 0.0001737545244395733\n",
      "tensor(0.0001, grad_fn=<MseLossBackward0>)\n",
      "epoch 7, loss 0.00012118962331442162\n",
      "tensor(0.0001, grad_fn=<MseLossBackward0>)\n",
      "epoch 8, loss 0.00011570828792173415\n",
      "tensor(0.0001, grad_fn=<MseLossBackward0>)\n",
      "epoch 9, loss 0.00011408288992242888\n",
      "tensor(0.0001, grad_fn=<MseLossBackward0>)\n",
      "epoch 10, loss 0.0001127785726566799\n",
      "tensor(0.0001, grad_fn=<MseLossBackward0>)\n",
      "epoch 11, loss 0.00011151948274346069\n",
      "tensor(0.0001, grad_fn=<MseLossBackward0>)\n",
      "epoch 12, loss 0.0001102733876905404\n",
      "tensor(0.0001, grad_fn=<MseLossBackward0>)\n",
      "epoch 13, loss 0.00010904040391324088\n",
      "tensor(0.0001, grad_fn=<MseLossBackward0>)\n",
      "epoch 14, loss 0.0001078246787074022\n",
      "tensor(0.0001, grad_fn=<MseLossBackward0>)\n",
      "epoch 15, loss 0.00010662044223863631\n",
      "tensor(0.0001, grad_fn=<MseLossBackward0>)\n",
      "epoch 16, loss 0.00010543165262788534\n",
      "tensor(0.0001, grad_fn=<MseLossBackward0>)\n",
      "epoch 17, loss 0.00010425176151329651\n",
      "tensor(0.0001, grad_fn=<MseLossBackward0>)\n",
      "epoch 18, loss 0.00010309058416169137\n",
      "tensor(0.0001, grad_fn=<MseLossBackward0>)\n",
      "epoch 19, loss 0.0001019398623611778\n",
      "tensor(0.0001, grad_fn=<MseLossBackward0>)\n",
      "epoch 20, loss 0.00010080065840156749\n",
      "tensor(9.9671e-05, grad_fn=<MseLossBackward0>)\n",
      "epoch 21, loss 9.967062942450866e-05\n",
      "tensor(9.8561e-05, grad_fn=<MseLossBackward0>)\n",
      "epoch 22, loss 9.856106044026092e-05\n",
      "tensor(9.7465e-05, grad_fn=<MseLossBackward0>)\n",
      "epoch 23, loss 9.746474825078622e-05\n",
      "tensor(9.6374e-05, grad_fn=<MseLossBackward0>)\n",
      "epoch 24, loss 9.637423499953002e-05\n",
      "tensor(9.5300e-05, grad_fn=<MseLossBackward0>)\n",
      "epoch 25, loss 9.529991075396538e-05\n",
      "tensor(9.4232e-05, grad_fn=<MseLossBackward0>)\n",
      "epoch 26, loss 9.423174924449995e-05\n",
      "tensor(9.3183e-05, grad_fn=<MseLossBackward0>)\n",
      "epoch 27, loss 9.318284719483927e-05\n",
      "tensor(9.2144e-05, grad_fn=<MseLossBackward0>)\n",
      "epoch 28, loss 9.214365854859352e-05\n",
      "tensor(9.1107e-05, grad_fn=<MseLossBackward0>)\n",
      "epoch 29, loss 9.110706741921604e-05\n",
      "tensor(9.0094e-05, grad_fn=<MseLossBackward0>)\n",
      "epoch 30, loss 9.009419591166079e-05\n",
      "tensor(8.9086e-05, grad_fn=<MseLossBackward0>)\n",
      "epoch 31, loss 8.908600284485146e-05\n",
      "tensor(8.8095e-05, grad_fn=<MseLossBackward0>)\n",
      "epoch 32, loss 8.80946681718342e-05\n",
      "tensor(8.7110e-05, grad_fn=<MseLossBackward0>)\n",
      "epoch 33, loss 8.710954716661945e-05\n",
      "tensor(8.6135e-05, grad_fn=<MseLossBackward0>)\n",
      "epoch 34, loss 8.613534009782597e-05\n",
      "tensor(8.5174e-05, grad_fn=<MseLossBackward0>)\n",
      "epoch 35, loss 8.517422975273803e-05\n",
      "tensor(8.4223e-05, grad_fn=<MseLossBackward0>)\n",
      "epoch 36, loss 8.422300015809014e-05\n",
      "tensor(8.3282e-05, grad_fn=<MseLossBackward0>)\n",
      "epoch 37, loss 8.328234980581328e-05\n",
      "tensor(8.2355e-05, grad_fn=<MseLossBackward0>)\n",
      "epoch 38, loss 8.235495624830946e-05\n",
      "tensor(8.1434e-05, grad_fn=<MseLossBackward0>)\n",
      "epoch 39, loss 8.143352170009166e-05\n",
      "tensor(8.0523e-05, grad_fn=<MseLossBackward0>)\n",
      "epoch 40, loss 8.052268822211772e-05\n",
      "tensor(7.9623e-05, grad_fn=<MseLossBackward0>)\n",
      "epoch 41, loss 7.962268136907369e-05\n",
      "tensor(7.8732e-05, grad_fn=<MseLossBackward0>)\n",
      "epoch 42, loss 7.873225695220754e-05\n",
      "tensor(7.7855e-05, grad_fn=<MseLossBackward0>)\n",
      "epoch 43, loss 7.785514753777534e-05\n",
      "tensor(7.6987e-05, grad_fn=<MseLossBackward0>)\n",
      "epoch 44, loss 7.698708213865757e-05\n",
      "tensor(7.6128e-05, grad_fn=<MseLossBackward0>)\n",
      "epoch 45, loss 7.612800982315093e-05\n",
      "tensor(7.5277e-05, grad_fn=<MseLossBackward0>)\n",
      "epoch 46, loss 7.527738489443436e-05\n",
      "tensor(7.4435e-05, grad_fn=<MseLossBackward0>)\n",
      "epoch 47, loss 7.443540380336344e-05\n",
      "tensor(7.3609e-05, grad_fn=<MseLossBackward0>)\n",
      "epoch 48, loss 7.360862218774855e-05\n",
      "tensor(7.2783e-05, grad_fn=<MseLossBackward0>)\n",
      "epoch 49, loss 7.278316479641944e-05\n",
      "tensor(7.1971e-05, grad_fn=<MseLossBackward0>)\n",
      "epoch 50, loss 7.197089144028723e-05\n",
      "tensor(7.1166e-05, grad_fn=<MseLossBackward0>)\n",
      "epoch 51, loss 7.116625783964992e-05\n",
      "tensor(7.0371e-05, grad_fn=<MseLossBackward0>)\n",
      "epoch 52, loss 7.037052273517475e-05\n",
      "tensor(6.9588e-05, grad_fn=<MseLossBackward0>)\n",
      "epoch 53, loss 6.958832818781957e-05\n",
      "tensor(6.8808e-05, grad_fn=<MseLossBackward0>)\n",
      "epoch 54, loss 6.880773435113952e-05\n",
      "tensor(6.8040e-05, grad_fn=<MseLossBackward0>)\n",
      "epoch 55, loss 6.803953874623403e-05\n",
      "tensor(6.7279e-05, grad_fn=<MseLossBackward0>)\n",
      "epoch 56, loss 6.72786554787308e-05\n",
      "tensor(6.6528e-05, grad_fn=<MseLossBackward0>)\n",
      "epoch 57, loss 6.652836600551382e-05\n",
      "tensor(6.5785e-05, grad_fn=<MseLossBackward0>)\n",
      "epoch 58, loss 6.578473403351381e-05\n",
      "tensor(6.5051e-05, grad_fn=<MseLossBackward0>)\n",
      "epoch 59, loss 6.505132478196174e-05\n",
      "tensor(6.4325e-05, grad_fn=<MseLossBackward0>)\n",
      "epoch 60, loss 6.432473310269415e-05\n",
      "tensor(6.3605e-05, grad_fn=<MseLossBackward0>)\n",
      "epoch 61, loss 6.360460247378796e-05\n",
      "tensor(6.2894e-05, grad_fn=<MseLossBackward0>)\n",
      "epoch 62, loss 6.289350130828097e-05\n",
      "tensor(6.2190e-05, grad_fn=<MseLossBackward0>)\n",
      "epoch 63, loss 6.218965427251533e-05\n",
      "tensor(6.1498e-05, grad_fn=<MseLossBackward0>)\n",
      "epoch 64, loss 6.149819091660902e-05\n",
      "tensor(6.0811e-05, grad_fn=<MseLossBackward0>)\n",
      "epoch 65, loss 6.0811125877080485e-05\n",
      "tensor(6.0133e-05, grad_fn=<MseLossBackward0>)\n",
      "epoch 66, loss 6.0132952057756484e-05\n",
      "tensor(5.9459e-05, grad_fn=<MseLossBackward0>)\n",
      "epoch 67, loss 5.945937300566584e-05\n",
      "tensor(5.8798e-05, grad_fn=<MseLossBackward0>)\n",
      "epoch 68, loss 5.879845411982387e-05\n",
      "tensor(5.8140e-05, grad_fn=<MseLossBackward0>)\n",
      "epoch 69, loss 5.8139641623711213e-05\n",
      "tensor(5.7490e-05, grad_fn=<MseLossBackward0>)\n",
      "epoch 70, loss 5.749037882196717e-05\n",
      "tensor(5.6847e-05, grad_fn=<MseLossBackward0>)\n",
      "epoch 71, loss 5.6847195082809776e-05\n",
      "tensor(5.6217e-05, grad_fn=<MseLossBackward0>)\n",
      "epoch 72, loss 5.621675154543482e-05\n",
      "tensor(5.5586e-05, grad_fn=<MseLossBackward0>)\n",
      "epoch 73, loss 5.5585926020285115e-05\n",
      "tensor(5.4966e-05, grad_fn=<MseLossBackward0>)\n",
      "epoch 74, loss 5.4966167226666585e-05\n",
      "tensor(5.4349e-05, grad_fn=<MseLossBackward0>)\n",
      "epoch 75, loss 5.4348573030438274e-05\n",
      "tensor(5.3745e-05, grad_fn=<MseLossBackward0>)\n",
      "epoch 76, loss 5.3745250625070184e-05\n",
      "tensor(5.3144e-05, grad_fn=<MseLossBackward0>)\n",
      "epoch 77, loss 5.314417649060488e-05\n",
      "tensor(5.2552e-05, grad_fn=<MseLossBackward0>)\n",
      "epoch 78, loss 5.255159703665413e-05\n",
      "tensor(5.1964e-05, grad_fn=<MseLossBackward0>)\n",
      "epoch 79, loss 5.196402707952075e-05\n",
      "tensor(5.1385e-05, grad_fn=<MseLossBackward0>)\n",
      "epoch 80, loss 5.1384886319283396e-05\n",
      "tensor(5.0810e-05, grad_fn=<MseLossBackward0>)\n",
      "epoch 81, loss 5.0810362154152244e-05\n",
      "tensor(5.0242e-05, grad_fn=<MseLossBackward0>)\n",
      "epoch 82, loss 5.02419461554382e-05\n",
      "tensor(4.9683e-05, grad_fn=<MseLossBackward0>)\n",
      "epoch 83, loss 4.968335997546092e-05\n",
      "tensor(4.9127e-05, grad_fn=<MseLossBackward0>)\n",
      "epoch 84, loss 4.912738222628832e-05\n",
      "tensor(4.8578e-05, grad_fn=<MseLossBackward0>)\n",
      "epoch 85, loss 4.857807653024793e-05\n",
      "tensor(4.8034e-05, grad_fn=<MseLossBackward0>)\n",
      "epoch 86, loss 4.8034326027845964e-05\n",
      "tensor(4.7501e-05, grad_fn=<MseLossBackward0>)\n",
      "epoch 87, loss 4.750059451907873e-05\n",
      "tensor(4.6969e-05, grad_fn=<MseLossBackward0>)\n",
      "epoch 88, loss 4.696857286035083e-05\n",
      "tensor(4.6446e-05, grad_fn=<MseLossBackward0>)\n",
      "epoch 89, loss 4.64458717033267e-05\n",
      "tensor(4.5926e-05, grad_fn=<MseLossBackward0>)\n",
      "epoch 90, loss 4.59263137599919e-05\n",
      "tensor(4.5414e-05, grad_fn=<MseLossBackward0>)\n",
      "epoch 91, loss 4.5414475607685745e-05\n",
      "tensor(4.4909e-05, grad_fn=<MseLossBackward0>)\n",
      "epoch 92, loss 4.4909036660101265e-05\n",
      "tensor(4.4405e-05, grad_fn=<MseLossBackward0>)\n",
      "epoch 93, loss 4.4405136577552184e-05\n",
      "tensor(4.3909e-05, grad_fn=<MseLossBackward0>)\n",
      "epoch 94, loss 4.390946924104355e-05\n",
      "tensor(4.3419e-05, grad_fn=<MseLossBackward0>)\n",
      "epoch 95, loss 4.3418964196462184e-05\n",
      "tensor(4.2936e-05, grad_fn=<MseLossBackward0>)\n",
      "epoch 96, loss 4.293572055757977e-05\n",
      "tensor(4.2454e-05, grad_fn=<MseLossBackward0>)\n",
      "epoch 97, loss 4.245383752277121e-05\n",
      "tensor(4.1983e-05, grad_fn=<MseLossBackward0>)\n",
      "epoch 98, loss 4.1982504626503214e-05\n",
      "tensor(4.1514e-05, grad_fn=<MseLossBackward0>)\n",
      "epoch 99, loss 4.1513667383696884e-05\n"
     ]
    }
   ],
   "source": [
    "for epoch in range(epochs):\n",
    "    if torch.cuda.is_available():\n",
    "        inputs = Variable(torch.from_numpy(x_train).cuda())\n",
    "        labels = Variable(torch.from_numpy(y_train).cuda())\n",
    "    else:\n",
    "        inputs = Variable(torch.from_numpy(x_train))\n",
    "        labels = Variable(torch.from_numpy(y_train))\n",
    "\n",
    "    # optimizer를 zero_grad 시키는 이유: epochs마다 반복문이 도는데 \n",
    "    # minibatch의 그래디언트 정보를 초기화하여 현재 미니배치의 그래디언트로 업데이트하기 위해서이다.\n",
    "    # optimizer.zero_grad()를 주석처리해서 run해봤는데 매개변수 변화도가 누적되어 수치에 의미가\n",
    "    # 없어 졌습니다. for 루프마다 0으로 만들어야 오차를 backward하는게 가능한 것 같습니다.\n",
    "    optimizer.zero_grad()\n",
    "\n",
    "    # 모델을 통해 입력 데이터를 순전파하여 예측값을 얻는다.\n",
    "    outputs = model(inputs)\n",
    "\n",
    "    # 손실 함수를 사용하여 예측값과 실제값 간의 Loss를 계산한다.\n",
    "    loss = loss_fn(outputs, labels)\n",
    "    print(loss)\n",
    "\n",
    "    # loss function을 backward 시키는 이유:\n",
    "    # loss를 모델 파라미터에 대해 미분하여 그래디언트를 계산하고, 이를 사용하여 모델 파라미터를 업데이트한다.\n",
    "    # forward()함수와 다르게 어떤 값에 대한 출력 텐서의 그래디언트를 전달받아, \n",
    "    # 동일한 값에 대한 입력 텐서의 변호도를 계산하는것 같습니다.\n",
    "    loss.backward()\n",
    "\n",
    "    # optimizer.step()을 사용하여 모델 파라미터를 업데이트한다.\n",
    "    optimizer.step()\n",
    "\n",
    "    print('epoch {}, loss {}'.format(epoch, loss.item()))\n"
   ]
  },
  {
   "cell_type": "code",
   "execution_count": 11,
   "metadata": {
    "id": "I31foyPTW2J8"
   },
   "outputs": [
    {
     "name": "stdout",
     "output_type": "stream",
     "text": [
      "[[ 1.0119854]\n",
      " [ 3.0102596]\n",
      " [ 5.0085335]\n",
      " [ 7.006808 ]\n",
      " [ 9.005082 ]\n",
      " [11.003356 ]\n",
      " [13.001631 ]\n",
      " [14.999905 ]\n",
      " [16.998178 ]\n",
      " [18.996452 ]\n",
      " [20.994726 ]]\n"
     ]
    },
    {
     "data": {
      "image/png": "[encoded data removed]",
      "text/plain": [
       "<Figure size 640x480 with 1 Axes>"
      ]
     },
     "metadata": {},
     "output_type": "display_data"
    }
   ],
   "source": [
    "with torch.no_grad():\n",
    "    if torch.cuda.is_available():\n",
    "        predicted = model(Variable(torch.from_numpy(x_train).cuda())).cpu().data.numpy()\n",
    "    else:\n",
    "        predicted = model(Variable(torch.from_numpy(x_train))).data.numpy()\n",
    "    print(predicted)\n",
    "\n",
    "plt.clf()\n",
    "plt.plot(x_train, y_train, 'go', label='True data', alpha=0.5)\n",
    "plt.plot(x_train, predicted, '--', label='Predictions', alpha=0.5)\n",
    "plt.legend(loc='best')\n",
    "plt.show()"
   ]
  },
  {
   "cell_type": "markdown",
   "metadata": {
    "id": "yQcS5oIAHuET"
   },
   "source": [
    "* Linear regression이 왜 Neural network인지 해당 과제를 예시로 들어 설명하기."
   ]
  },
  {
   "cell_type": "markdown",
   "metadata": {},
   "source": [
    "Neural Network의 핵심 구성 요소 중 하나는 뉴런이다. \n",
    "각 뉴런은 입력값에 대한 가중치를 가지고, 이 가중치를 사용하여 입력값을 변환하고 활성화 함수를 통과시킵니다. \n",
    "이런 관점에서 Linear Regression 모델은 Neural Network의 가장 간단한 형태 중 하나이다.\n",
    "\n",
    "y = wx + b\n",
    "\n",
    "\n",
    "입력 변수(x): Linear Regression에서 입력 변수(x)는 입력층(input layer)에 해당한다.\n",
    "입력층은 데이터의 특성(feature)을 나타내며, 이 특성에 대한 가중치(weight)를 곱하고 합산하여 출력을 계산한다. b는 bias 편향.\n",
    "\n",
    "가중치(w): Linear Regression에서는 가중치가 각 입력 변수와 관련이 있는데,\n",
    "Neural Network의 뉴런에 있는 시냅스 가중치와 마찬가지로 Linear Regression의 입력 변수에 가중치를 곱하여 가중합을 계산합니다. \n",
    "\n",
    "출력(y): Linear Regression에서 출력은 예측값을 나타난다. \n",
    "Neural Network에서도 출력층(output layer)인 Axon이 있고, 여기에서 최종 예측이 이루어지는것이 비슷하다. 다만, Linear Regression에서는 활성화 함수는 정의 되지 않음.\n",
    "\n",
    "활성화 함수(Activation Function): Linear Regression에서는 활성화 함수를 사용하지 않는다. 그러나 Neural Networ에서는 위의 정보들이 Axon에서 비선형 활성화 함수(예: ReLU, Sigmoid)를 사용하여 뉴런의 출력을 변환한다.\n",
    "\n",
    "Loss Function과 최적화(Optimization): \n",
    "Neural Network와 마찬가지로 Linear Regression에서도 Loss Function을 사용하여 예측값과 실제값 간의 오차를 계산하고,\n",
    "이 오차를 최소화하기 위해 최적화 알고리즘을 사용한다. 주로 평균 제곱 오차(Mean Squared Error, MSE)를 사용하며, \n",
    "이를 최소화하기 위해 스토캐스틱 경사 하강법(Stochastic Gradient Descent)을 적용했다.\n",
    "\n",
    "\n",
    "뉴런, 가중치 , 출력층, Loss Function, 최적화와 같은 개념은 Neural Network와 Linear Regression 간에 공통적으로 사용되므로, \n",
    "따라서 Linear Regression은 입력 변수와 가중치를 조합하여 출력을 계산하는 모델로, \n",
    "이러한 모델은 Neural Network형태 중 하나로 볼 수 있다. "
   ]
  },
  {
   "cell_type": "code",
   "execution_count": null,
   "metadata": {},
   "outputs": [],
   "source": []
  }
 ],
 "metadata": {
  "colab": {
   "provenance": []
  },
  "kernelspec": {
   "display_name": "Python 3 (ipykernel)",
   "language": "python",
   "name": "python3"
  },
  "language_info": {
   "codemirror_mode": {
    "name": "ipython",
    "version": 3
   },
   "file_extension": ".py",
   "mimetype": "text/x-python",
   "name": "python",
   "nbconvert_exporter": "python",
   "pygments_lexer": "ipython3",
   "version": "3.9.18"
  }
 },
 "nbformat": 4,
 "nbformat_minor": 4
}
