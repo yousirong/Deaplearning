{
 "cells": [
  {
   "cell_type": "code",
   "execution_count": 1,
   "id": "0160f6ad-755c-4cb0-91c7-d3621a7d3b8f",
   "metadata": {},
   "outputs": [],
   "source": [
    "import torch\n",
    "from torchvision import transforms\n",
    "from torch.utils.data import DataLoader, Dataset\n",
    "from sklearn.model_selection import train_test_split\n",
    "from PIL import Image\n",
    "import os\n",
    "\n",
    "from torch.autograd import Variable\n",
    "import matplotlib.pyplot as plt"
   ]
  },
  {
   "cell_type": "code",
   "execution_count": 2,
   "id": "26f40f6f-32d9-46e9-8cf5-5dcbf8ad0a32",
   "metadata": {},
   "outputs": [
    {
     "name": "stdout",
     "output_type": "stream",
     "text": [
      "Current cuda device is cpu\n"
     ]
    }
   ],
   "source": [
    "is_cuda = torch.cuda.is_available()\n",
    "device = torch.device('cuda' if torch.cuda.is_available() else 'cpu')\n",
    "\n",
    "\n",
    "print('Current cuda device is', device)"
   ]
  },
  {
   "cell_type": "code",
   "execution_count": 3,
   "id": "fd8667d1-ac71-4b92-9fe5-fb0abe1f6153",
   "metadata": {},
   "outputs": [],
   "source": [
    "# 데이터셋 경로와 파일 리스트 가져오기\n",
    "data_dir = './training_dataset/tr/'\n",
    "file_list = os.listdir(data_dir)  # 이미지 파일 리스트를 가져옵니다.\n",
    "\n",
    "# 데이터 전처리 및 DataLoader 설정\n",
    "transform = transforms.Compose([\n",
    "    transforms.Resize((200, 200)),  # 이미지 크기 조정 \n",
    "    transforms.ToTensor(),           # 이미지를 텐서로 변환\n",
    "    transforms.Normalize(mean=[0.5, 0.5, 0.5], std=[0.5, 0.5, 0.5])  # 이미지 정규화 (평균 0.5, 표준 편차 0.5)\n",
    "])\n",
    "\n",
    "class CustomDataset(Dataset):\n",
    "    def __init__(self, file_list, transform=None):\n",
    "        self.file_list = file_list\n",
    "        self.transform = transform\n",
    "\n",
    "    def __len__(self):\n",
    "        return len(self.file_list)\n",
    "\n",
    "    def __getitem__(self, idx):\n",
    "        img_path = os.path.join(data_dir, self.file_list[idx])\n",
    "        image = Image.open(img_path)\n",
    "        age = int(self.file_list[idx].split(\"_\")[0])  # 파일명에서 나이 정보 추출\n",
    "\n",
    "        if self.transform:\n",
    "            image = self.transform(image)\n",
    "\n",
    "        return image, age\n",
    "\n",
    "# 데이터 분할\n",
    "train_files, val_files = train_test_split(file_list, test_size=0.2, random_state=42)\n",
    "\n",
    "# DataLoader 설정\n",
    "train_dataset = CustomDataset(train_files, transform=transform)\n",
    "val_dataset = CustomDataset(val_files, transform=transform)\n",
    "batch_size = 32\n",
    "train_loader = DataLoader(train_dataset, batch_size=batch_size, shuffle=True)\n",
    "val_loader = DataLoader(val_dataset, batch_size=batch_size)"
   ]
  },
  {
   "cell_type": "code",
   "execution_count": 4,
   "id": "d3054baf-e0a1-4cfb-b551-18bb8ff9d7b6",
   "metadata": {},
   "outputs": [],
   "source": [
    "import torch.nn as nn\n",
    "\n",
    "class AgePredictionModel(nn.Module):\n",
    "    def __init__(self):\n",
    "        super(AgePredictionModel, self).__init__()\n",
    "        self.fc = nn.Linear(200 * 200 * 3, 1)  # 입력 이미지 크기에 맞는 Fully Connected 레이어\n",
    "\n",
    "    def forward(self, x):\n",
    "        x = x.view(x.size(0), -1)  # Flatten 작업\n",
    "        x = self.fc(x)\n",
    "        return x\n",
    "\n",
    "model = AgePredictionModel()\n"
   ]
  },
  {
   "cell_type": "code",
   "execution_count": 5,
   "id": "ad177335-95a9-40d8-a412-675eb9506354",
   "metadata": {},
   "outputs": [],
   "source": [
    "criterion = nn.MSELoss()\n",
    "# optimizer = torch.optim.SGD(model.parameters(), lr=0.001, momentum=0.9)\n",
    "optimizer = torch.optim.SGD(model.parameters(), lr=0.0001)"
   ]
  },
  {
   "cell_type": "code",
   "execution_count": 6,
   "id": "f481943c-d9ed-45c5-8b06-166305f36aef",
   "metadata": {},
   "outputs": [],
   "source": [
    "# Hyperparameter 설정\n",
    "num_epochs = 10\n",
    "\n",
    "# Learning Curve를 그리기 위한 리스트 초기화\n",
    "train_losses = []\n",
    "val_losses = []"
   ]
  },
  {
   "cell_type": "code",
   "execution_count": 7,
   "id": "75387ff3-e5d2-4e61-998d-d014c1fa7087",
   "metadata": {},
   "outputs": [
    {
     "name": "stdout",
     "output_type": "stream",
     "text": [
      "Epoch 1/10, Training Loss: 472.02381106645635\n",
      "Epoch 1/10, Validation Loss: 9.392946560250774\n",
      "Epoch 2/10, Training Loss: 413.5661978697165\n",
      "Epoch 2/10, Validation Loss: 8.324881239465652\n",
      "Epoch 3/10, Training Loss: 375.11070916591547\n",
      "Epoch 3/10, Validation Loss: 6.757483123690325\n",
      "Epoch 4/10, Training Loss: 347.6694265121069\n",
      "Epoch 4/10, Validation Loss: 8.409272536691255\n",
      "Epoch 5/10, Training Loss: 315.2514678955078\n",
      "Epoch 5/10, Validation Loss: 8.560035232105438\n",
      "Epoch 6/10, Training Loss: 288.84679459791914\n",
      "Epoch 6/10, Validation Loss: 10.775866475516386\n",
      "Epoch 7/10, Training Loss: 304.944490638146\n",
      "Epoch 7/10, Validation Loss: 6.327817466446679\n",
      "Epoch 8/10, Training Loss: 294.70789912297175\n",
      "Epoch 8/10, Validation Loss: 6.588670710730881\n",
      "Epoch 9/10, Training Loss: 298.4826719626402\n",
      "Epoch 9/10, Validation Loss: 6.592547656992285\n",
      "Epoch 10/10, Training Loss: 293.97401518210387\n",
      "Epoch 10/10, Validation Loss: 7.637837293593896\n"
     ]
    }
   ],
   "source": [
    "\n",
    "for epoch in range(num_epochs):\n",
    "    model.train()\n",
    "    running_loss = 0.0\n",
    "    for images, labels in train_loader:\n",
    "        optimizer.zero_grad()\n",
    "        outputs = model(images)\n",
    "        loss = criterion(outputs.view(-1), labels.float())   # view 메소드 수정 \n",
    "        loss.backward()\n",
    "        optimizer.step()\n",
    "        running_loss += loss.item()\n",
    "\n",
    "    # 훈련 손실 출력\n",
    "    print(f\"Epoch {epoch+1}/{num_epochs}, Training Loss: {running_loss/len(train_loader)}\")\n",
    "    # 훈련 손실 기록\n",
    "    train_loss = running_loss / len(train_loader)\n",
    "    train_losses.append(train_loss)\n",
    "    # 검증 데이터셋에 대한 손실 계산\n",
    "    model.eval()\n",
    "    val_loss = 0.0\n",
    "    with torch.no_grad():\n",
    "        for images, labels in val_loader:\n",
    "            outputs = model(images)\n",
    "            loss = criterion(outputs.view(-1), labels.float())   # view 메소드 수정 \n",
    "            val_loss += loss.item()\n",
    "     # 검증 손실 기록\n",
    "    val_loss = val_loss / len(val_loader)\n",
    "    val_losses.append(val_loss)\n",
    "\n",
    "    # 에폭별로 손실 출력\n",
    "    print(f\"Epoch {epoch+1}/{num_epochs}, Validation Loss: {val_loss/len(val_loader)}\")\n"
   ]
  },
  {
   "cell_type": "code",
   "execution_count": 8,
   "id": "e7ce1c19-9eca-4978-b888-26bdc89bfa3d",
   "metadata": {},
   "outputs": [
    {
     "data": {
      "image/png": "[encoded data removed]",
      "text/plain": [
       "<Figure size 1000x500 with 1 Axes>"
      ]
     },
     "metadata": {},
     "output_type": "display_data"
    }
   ],
   "source": [
    "# Learning Curve 그리기\n",
    "plt.figure(figsize=(10, 5))\n",
    "plt.plot(range(1, num_epochs + 1), train_losses, label='Training Loss')\n",
    "plt.plot(range(1, num_epochs + 1), val_losses, label='Validation Loss')\n",
    "plt.xlabel('Epochs')\n",
    "plt.ylabel('Loss')\n",
    "plt.legend()\n",
    "plt.title('Learning Curve')\n",
    "plt.show()"
   ]
  },
  {
   "cell_type": "code",
   "execution_count": 9,
   "id": "12036981-2aad-4583-b5b7-72b69c62daab",
   "metadata": {},
   "outputs": [
    {
     "name": "stdout",
     "output_type": "stream",
     "text": [
      "[472.02381106645635, 413.5661978697165, 375.11070916591547, 347.6694265121069, 315.2514678955078, 288.84679459791914, 304.944490638146, 294.70789912297175, 298.4826719626402, 293.97401518210387]\n",
      "[460.25438145228793, 407.919180733817, 331.1166730608259, 412.0543542978715, 419.44172637316643, 528.0174573003029, 310.0630558558873, 322.84486482581315, 323.034835192622, 374.2540273861009]\n"
     ]
    }
   ],
   "source": [
    "print(train_losses)\n",
    "print(val_losses) "
   ]
  },
  {
   "cell_type": "code",
   "execution_count": 10,
   "id": "0051e12a-32dc-4e5d-b5b9-a47cf51b3d8f",
   "metadata": {},
   "outputs": [
    {
     "name": "stdout",
     "output_type": "stream",
     "text": [
      "----------------------------------------------------------------\n",
      "        Layer (type)               Output Shape         Param #\n",
      "================================================================\n",
      "            Linear-1                    [-1, 1]         120,001\n",
      "================================================================\n",
      "Total params: 120,001\n",
      "Trainable params: 120,001\n",
      "Non-trainable params: 0\n",
      "----------------------------------------------------------------\n",
      "Input size (MB): 0.46\n",
      "Forward/backward pass size (MB): 0.00\n",
      "Params size (MB): 0.46\n",
      "Estimated Total Size (MB): 0.92\n",
      "----------------------------------------------------------------\n"
     ]
    }
   ],
   "source": [
    "from torchsummary import summary\n",
    "\n",
    "\n",
    "\n",
    "summary(model, input_size=(3,200,200), device='cpu')"
   ]
  },
  {
   "cell_type": "code",
   "execution_count": null,
   "id": "000ec6a9-67af-4d3c-a17f-3b639f202334",
   "metadata": {},
   "outputs": [],
   "source": []
  }
 ],
 "metadata": {
  "kernelspec": {
   "display_name": "Python 3 (ipykernel)",
   "language": "python",
   "name": "python3"
  },
  "language_info": {
   "codemirror_mode": {
    "name": "ipython",
    "version": 3
   },
   "file_extension": ".py",
   "mimetype": "text/x-python",
   "name": "python",
   "nbconvert_exporter": "python",
   "pygments_lexer": "ipython3",
   "version": "3.9.18"
  }
 },
 "nbformat": 4,
 "nbformat_minor": 5
}
