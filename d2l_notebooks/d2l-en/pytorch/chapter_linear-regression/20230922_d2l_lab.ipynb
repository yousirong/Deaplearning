{
 "cells": [
  {
   "cell_type": "code",
   "execution_count": 1,
   "id": "afa710c1-6b5f-4def-bbbb-2b62fce0d1ef",
   "metadata": {},
   "outputs": [],
   "source": [
    "%matplotlib inline\n",
    "import math\n",
    "import time\n",
    "import numpy as np\n",
    "import torch\n",
    "from d2l import torch as d2l"
   ]
  },
  {
   "cell_type": "code",
   "execution_count": 2,
   "id": "7c4cb18a-151e-42cf-829d-c422269b66c6",
   "metadata": {},
   "outputs": [],
   "source": [
    "n =10000000\n",
    "a =np.ones(n)\n",
    "b=np.ones(n)\n"
   ]
  },
  {
   "cell_type": "code",
   "execution_count": 3,
   "id": "11dbcc89-e706-43c6-a6d4-d682d61f7e18",
   "metadata": {},
   "outputs": [
    {
     "data": {
      "text/plain": [
       "' 2.71122 sec'"
      ]
     },
     "execution_count": 3,
     "metadata": {},
     "output_type": "execute_result"
    }
   ],
   "source": [
    "c= np.zeros(n)\n",
    "t= time.time()\n",
    "for i in range(n):\n",
    "    c[i] = a[i] + b[i]\n",
    "f' {time .time() - t :.5f} sec'"
   ]
  },
  {
   "cell_type": "code",
   "execution_count": 4,
   "id": "7b2fbbc6-bbf8-4416-879b-3b20efb9af9a",
   "metadata": {},
   "outputs": [
    {
     "data": {
      "text/plain": [
       "' 0.02104 sec'"
      ]
     },
     "execution_count": 4,
     "metadata": {},
     "output_type": "execute_result"
    }
   ],
   "source": [
    "t=  time.time()\n",
    "d =a+b\n",
    "f' {time .time() - t:0.5f} sec'"
   ]
  },
  {
   "cell_type": "code",
   "execution_count": 5,
   "id": "3d5e7b19-a8cf-4e8b-84c9-53a8bf4654af",
   "metadata": {},
   "outputs": [
    {
     "name": "stdout",
     "output_type": "stream",
     "text": [
      "0.005739999999999856\n"
     ]
    }
   ],
   "source": [
    "aa= 2.49694\n",
    "bb= 0.02076\n",
    "print(aa%bb)\n"
   ]
  },
  {
   "cell_type": "code",
   "execution_count": null,
   "id": "e1a08e21-fe2a-4dc2-a4b2-4326a3587e42",
   "metadata": {},
   "outputs": [],
   "source": []
  }
 ],
 "metadata": {
  "kernelspec": {
   "display_name": "Python 3 (ipykernel)",
   "language": "python",
   "name": "python3"
  },
  "language_info": {
   "codemirror_mode": {
    "name": "ipython",
    "version": 3
   },
   "file_extension": ".py",
   "mimetype": "text/x-python",
   "name": "python",
   "nbconvert_exporter": "python",
   "pygments_lexer": "ipython3",
   "version": "3.9.18"
  }
 },
 "nbformat": 4,
 "nbformat_minor": 5
}
