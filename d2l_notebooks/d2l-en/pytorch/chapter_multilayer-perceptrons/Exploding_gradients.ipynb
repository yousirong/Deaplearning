{
 "cells": [
  {
   "cell_type": "code",
   "execution_count": 1,
   "metadata": {},
   "outputs": [],
   "source": [
    "import torch"
   ]
  },
  {
   "cell_type": "code",
   "execution_count": 2,
   "metadata": {},
   "outputs": [
    {
     "name": "stdout",
     "output_type": "stream",
     "text": [
      "single matrix \n",
      " tensor([[ 0.9836,  2.2722, -1.3410,  1.9672],\n",
      "        [ 0.5417, -0.6539, -0.8630, -1.0059],\n",
      "        [-1.6388, -1.3073, -0.1502,  0.5368],\n",
      "        [ 1.1226, -0.1433,  0.4606,  1.2297]])\n",
      "after multiplying 100 matrices \n",
      " tensor([[ 4.2678e+25,  2.6367e+25,  1.5236e+25,  3.0136e+25],\n",
      "        [-2.5163e+25, -1.5546e+25, -8.9828e+24, -1.7768e+25],\n",
      "        [-2.0025e+25, -1.2372e+25, -7.1489e+24, -1.4141e+25],\n",
      "        [ 2.2778e+25,  1.4072e+25,  8.1315e+24,  1.6084e+25]])\n"
     ]
    }
   ],
   "source": [
    "M=torch.normal(0,1,size =(4,4))\n",
    "print('single matrix \\n',M)\n",
    "for i in range(100):\n",
    "    M = M @ torch.normal(0,1,size = (4,4))\n",
    "print('after multiplying 100 matrices \\n', M)"
   ]
  },
  {
   "cell_type": "code",
   "execution_count": null,
   "metadata": {},
   "outputs": [],
   "source": []
  }
 ],
 "metadata": {
  "kernelspec": {
   "display_name": "d2l",
   "language": "python",
   "name": "python3"
  },
  "language_info": {
   "codemirror_mode": {
    "name": "ipython",
    "version": 3
   },
   "file_extension": ".py",
   "mimetype": "text/x-python",
   "name": "python",
   "nbconvert_exporter": "python",
   "pygments_lexer": "ipython3",
   "version": "3.9.18"
  }
 },
 "nbformat": 4,
 "nbformat_minor": 2
}
