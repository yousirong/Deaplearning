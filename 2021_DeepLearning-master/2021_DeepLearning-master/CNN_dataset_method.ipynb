{
  "nbformat": 4,
  "nbformat_minor": 0,
  "metadata": {
    "colab": {
      "name": "CNN_dataset_method.ipynb",
      "provenance": [],
      "collapsed_sections": [],
      "authorship_tag": "ABX9TyNyUGd6We+PWvKgCJgmZRnb",
      "include_colab_link": true
    },
    "kernelspec": {
      "name": "python3",
      "display_name": "Python 3"
    },
    "language_info": {
      "name": "python"
    },
    "accelerator": "GPU",
    "widgets": {
      "application/vnd.jupyter.widget-state+json": {
        "f8158fc402224f8589c901d93075786a": {
          "model_module": "@jupyter-widgets/controls",
          "model_name": "HBoxModel",
          "state": {
            "_view_name": "HBoxView",
            "_dom_classes": [],
            "_model_name": "HBoxModel",
            "_view_module": "@jupyter-widgets/controls",
            "_model_module_version": "1.5.0",
            "_view_count": null,
            "_view_module_version": "1.5.0",
            "box_style": "",
            "layout": "IPY_MODEL_976d38f77a42462fab00119b5a0a98f0",
            "_model_module": "@jupyter-widgets/controls",
            "children": [
              "IPY_MODEL_6d8bbd3fc3a440cb8f568d2672e410fc",
              "IPY_MODEL_0ab1ceb5a0bb465cb58d1c31172086f1"
            ]
          }
        },
        "976d38f77a42462fab00119b5a0a98f0": {
          "model_module": "@jupyter-widgets/base",
          "model_name": "LayoutModel",
          "state": {
            "_view_name": "LayoutView",
            "grid_template_rows": null,
            "right": null,
            "justify_content": null,
            "_view_module": "@jupyter-widgets/base",
            "overflow": null,
            "_model_module_version": "1.2.0",
            "_view_count": null,
            "flex_flow": null,
            "width": null,
            "min_width": null,
            "border": null,
            "align_items": null,
            "bottom": null,
            "_model_module": "@jupyter-widgets/base",
            "top": null,
            "grid_column": null,
            "overflow_y": null,
            "overflow_x": null,
            "grid_auto_flow": null,
            "grid_area": null,
            "grid_template_columns": null,
            "flex": null,
            "_model_name": "LayoutModel",
            "justify_items": null,
            "grid_row": null,
            "max_height": null,
            "align_content": null,
            "visibility": null,
            "align_self": null,
            "height": null,
            "min_height": null,
            "padding": null,
            "grid_auto_rows": null,
            "grid_gap": null,
            "max_width": null,
            "order": null,
            "_view_module_version": "1.2.0",
            "grid_template_areas": null,
            "object_position": null,
            "object_fit": null,
            "grid_auto_columns": null,
            "margin": null,
            "display": null,
            "left": null
          }
        },
        "6d8bbd3fc3a440cb8f568d2672e410fc": {
          "model_module": "@jupyter-widgets/controls",
          "model_name": "FloatProgressModel",
          "state": {
            "_view_name": "ProgressView",
            "style": "IPY_MODEL_d1f72634a129469da2b29a72cf38fbc4",
            "_dom_classes": [],
            "description": "Dl Completed...: 100%",
            "_model_name": "FloatProgressModel",
            "bar_style": "success",
            "max": 5,
            "_view_module": "@jupyter-widgets/controls",
            "_model_module_version": "1.5.0",
            "value": 5,
            "_view_count": null,
            "_view_module_version": "1.5.0",
            "orientation": "horizontal",
            "min": 0,
            "description_tooltip": null,
            "_model_module": "@jupyter-widgets/controls",
            "layout": "IPY_MODEL_e6bcd86dc2e746f78fa33ad996c67574"
          }
        },
        "0ab1ceb5a0bb465cb58d1c31172086f1": {
          "model_module": "@jupyter-widgets/controls",
          "model_name": "HTMLModel",
          "state": {
            "_view_name": "HTMLView",
            "style": "IPY_MODEL_9a0f1be36856480ea08959a7a60ed700",
            "_dom_classes": [],
            "description": "",
            "_model_name": "HTMLModel",
            "placeholder": "​",
            "_view_module": "@jupyter-widgets/controls",
            "_model_module_version": "1.5.0",
            "value": " 5/5 [00:03&lt;00:00,  1.30 file/s]",
            "_view_count": null,
            "_view_module_version": "1.5.0",
            "description_tooltip": null,
            "_model_module": "@jupyter-widgets/controls",
            "layout": "IPY_MODEL_c4c91a1d92534405a811304d11f54184"
          }
        },
        "d1f72634a129469da2b29a72cf38fbc4": {
          "model_module": "@jupyter-widgets/controls",
          "model_name": "ProgressStyleModel",
          "state": {
            "_view_name": "StyleView",
            "_model_name": "ProgressStyleModel",
            "description_width": "initial",
            "_view_module": "@jupyter-widgets/base",
            "_model_module_version": "1.5.0",
            "_view_count": null,
            "_view_module_version": "1.2.0",
            "bar_color": null,
            "_model_module": "@jupyter-widgets/controls"
          }
        },
        "e6bcd86dc2e746f78fa33ad996c67574": {
          "model_module": "@jupyter-widgets/base",
          "model_name": "LayoutModel",
          "state": {
            "_view_name": "LayoutView",
            "grid_template_rows": null,
            "right": null,
            "justify_content": null,
            "_view_module": "@jupyter-widgets/base",
            "overflow": null,
            "_model_module_version": "1.2.0",
            "_view_count": null,
            "flex_flow": null,
            "width": null,
            "min_width": null,
            "border": null,
            "align_items": null,
            "bottom": null,
            "_model_module": "@jupyter-widgets/base",
            "top": null,
            "grid_column": null,
            "overflow_y": null,
            "overflow_x": null,
            "grid_auto_flow": null,
            "grid_area": null,
            "grid_template_columns": null,
            "flex": null,
            "_model_name": "LayoutModel",
            "justify_items": null,
            "grid_row": null,
            "max_height": null,
            "align_content": null,
            "visibility": null,
            "align_self": null,
            "height": null,
            "min_height": null,
            "padding": null,
            "grid_auto_rows": null,
            "grid_gap": null,
            "max_width": null,
            "order": null,
            "_view_module_version": "1.2.0",
            "grid_template_areas": null,
            "object_position": null,
            "object_fit": null,
            "grid_auto_columns": null,
            "margin": null,
            "display": null,
            "left": null
          }
        },
        "9a0f1be36856480ea08959a7a60ed700": {
          "model_module": "@jupyter-widgets/controls",
          "model_name": "DescriptionStyleModel",
          "state": {
            "_view_name": "StyleView",
            "_model_name": "DescriptionStyleModel",
            "description_width": "",
            "_view_module": "@jupyter-widgets/base",
            "_model_module_version": "1.5.0",
            "_view_count": null,
            "_view_module_version": "1.2.0",
            "_model_module": "@jupyter-widgets/controls"
          }
        },
        "c4c91a1d92534405a811304d11f54184": {
          "model_module": "@jupyter-widgets/base",
          "model_name": "LayoutModel",
          "state": {
            "_view_name": "LayoutView",
            "grid_template_rows": null,
            "right": null,
            "justify_content": null,
            "_view_module": "@jupyter-widgets/base",
            "overflow": null,
            "_model_module_version": "1.2.0",
            "_view_count": null,
            "flex_flow": null,
            "width": null,
            "min_width": null,
            "border": null,
            "align_items": null,
            "bottom": null,
            "_model_module": "@jupyter-widgets/base",
            "top": null,
            "grid_column": null,
            "overflow_y": null,
            "overflow_x": null,
            "grid_auto_flow": null,
            "grid_area": null,
            "grid_template_columns": null,
            "flex": null,
            "_model_name": "LayoutModel",
            "justify_items": null,
            "grid_row": null,
            "max_height": null,
            "align_content": null,
            "visibility": null,
            "align_self": null,
            "height": null,
            "min_height": null,
            "padding": null,
            "grid_auto_rows": null,
            "grid_gap": null,
            "max_width": null,
            "order": null,
            "_view_module_version": "1.2.0",
            "grid_template_areas": null,
            "object_position": null,
            "object_fit": null,
            "grid_auto_columns": null,
            "margin": null,
            "display": null,
            "left": null
          }
        }
      }
    }
  },
  "cells": [
    {
      "cell_type": "markdown",
      "metadata": {
        "id": "view-in-github",
        "colab_type": "text"
      },
      "source": [
        "<a href=\"https://colab.research.google.com/github/ujin2021/2021_DeepLearning/blob/master/CNN_dataset_method.ipynb\" target=\"_parent\"><img src=\"https://colab.research.google.com/assets/colab-badge.svg\" alt=\"Open In Colab\"/></a>"
      ]
    },
    {
      "cell_type": "code",
      "metadata": {
        "id": "oHG0a7S8SRNy"
      },
      "source": [
        "import tensorflow as tf\n",
        "import numpy as np\n",
        "import matplotlib.pyplot as plt\n",
        "from sklearn.datasets import load_sample_image\n",
        "from tensorflow import keras\n",
        "from tensorflow.keras import layers"
      ],
      "execution_count": 1,
      "outputs": []
    },
    {
      "cell_type": "markdown",
      "metadata": {
        "id": "XJAYe6UoSopE"
      },
      "source": [
        "# Using a Pretrained Model (CNN ppt p.88)"
      ]
    },
    {
      "cell_type": "code",
      "metadata": {
        "colab": {
          "base_uri": "https://localhost:8080/"
        },
        "id": "tl-kSCrBSb0t",
        "outputId": "be5473b1-8cb0-4156-bbc1-883118f4df43"
      },
      "source": [
        "# Load sample images\n",
        "china = load_sample_image(\"china.jpg\") / 255# 각 이미지는 3차원(RGB) [h, w, depth(channels)]\n",
        "flower = load_sample_image(\"flower.jpg\") / 255\n",
        "images = np.array([china, flower]) # mini-batch : [mini-batch_size, h, w, depth]\n",
        "\n",
        "model = keras.applications.resnet50.ResNet50(weights=\"imagenet\")\n",
        "\n",
        "images_resize = tf.image.resize(images, [224, 224]) # ResNet50의 input은 224 * 224 픽셀 이미지\n",
        "\n",
        "inputs = keras.applications.resnet50.preprocess_input(images_resize * 255) # preprocess_input에서 image 픽셀값은 0 ~ 255\n",
        "\n",
        "Y_proba = model.predict(inputs) # ResNet50은 1000개의 클래스\n",
        "\n",
        "top_K = keras.applications.resnet50.decode_predictions(Y_proba, top=3)\n",
        "for image_index in range(len(images)) :\n",
        "  print(f'Image #{image_index}')\n",
        "  for class_id, name, y_proba in top_K[image_index] :\n",
        "    print(\" {} - {:12s} {:.2f}%\".format(class_id, name, y_proba * 100))\n",
        "  print()"
      ],
      "execution_count": 2,
      "outputs": [
        {
          "output_type": "stream",
          "text": [
            "Downloading data from https://storage.googleapis.com/tensorflow/keras-applications/resnet/resnet50_weights_tf_dim_ordering_tf_kernels.h5\n",
            "102973440/102967424 [==============================] - 1s 0us/step\n",
            "Downloading data from https://storage.googleapis.com/download.tensorflow.org/data/imagenet_class_index.json\n",
            "40960/35363 [==================================] - 0s 0us/step\n",
            "Image #0\n",
            " n02825657 - bell_cote    82.35%\n",
            " n03877845 - palace       6.75%\n",
            " n03781244 - monastery    4.19%\n",
            "\n",
            "Image #1\n",
            " n03530642 - honeycomb    49.83%\n",
            " n13040303 - stinkhorn    33.95%\n",
            " n02206856 - bee          4.35%\n",
            "\n"
          ],
          "name": "stdout"
        }
      ]
    },
    {
      "cell_type": "markdown",
      "metadata": {
        "id": "a8XfNUhsaJh2"
      },
      "source": [
        "# 2. Dataset range, repeat, batch, unbatch method"
      ]
    },
    {
      "cell_type": "code",
      "metadata": {
        "colab": {
          "base_uri": "https://localhost:8080/"
        },
        "id": "T2fenV--aJJ1",
        "outputId": "0025c892-f78f-4945-8de6-e00bd9a80065"
      },
      "source": [
        "X = tf.range(10)\n",
        "dataset = tf.data.Dataset.from_tensor_slices(X)\n",
        "# dataset = tf.data.Dataset.range(10) 위의 두줄과 동일하다\n",
        "# dataset = <TensorSliceDataset shapes : (), types: tf.int32>\n",
        "dataset # <TensorSliceDataset shapes: (), types: tf.int32>"
      ],
      "execution_count": 3,
      "outputs": [
        {
          "output_type": "execute_result",
          "data": {
            "text/plain": [
              "<TensorSliceDataset shapes: (), types: tf.int32>"
            ]
          },
          "metadata": {
            "tags": []
          },
          "execution_count": 3
        }
      ]
    },
    {
      "cell_type": "code",
      "metadata": {
        "colab": {
          "base_uri": "https://localhost:8080/"
        },
        "id": "CmoahNDXamg-",
        "outputId": "304595eb-6dc8-4c75-9bcc-ca5024a0ab59"
      },
      "source": [
        "for item in dataset :\n",
        "  print(item)"
      ],
      "execution_count": 4,
      "outputs": [
        {
          "output_type": "stream",
          "text": [
            "tf.Tensor(0, shape=(), dtype=int32)\n",
            "tf.Tensor(1, shape=(), dtype=int32)\n",
            "tf.Tensor(2, shape=(), dtype=int32)\n",
            "tf.Tensor(3, shape=(), dtype=int32)\n",
            "tf.Tensor(4, shape=(), dtype=int32)\n",
            "tf.Tensor(5, shape=(), dtype=int32)\n",
            "tf.Tensor(6, shape=(), dtype=int32)\n",
            "tf.Tensor(7, shape=(), dtype=int32)\n",
            "tf.Tensor(8, shape=(), dtype=int32)\n",
            "tf.Tensor(9, shape=(), dtype=int32)\n"
          ],
          "name": "stdout"
        }
      ]
    },
    {
      "cell_type": "code",
      "metadata": {
        "colab": {
          "base_uri": "https://localhost:8080/"
        },
        "id": "iXpeo8_NayTo",
        "outputId": "d784a097-4c81-49ce-a8bc-42c7f6ccab13"
      },
      "source": [
        "# repeat(), batch()\n",
        "dataset = dataset.repeat(3).batch(7) # 30개로 만들고(0 ~ 9 까지 3번 반복), 7개씩 뽑는다\n",
        "for item in dataset :\n",
        "  print(item)"
      ],
      "execution_count": 5,
      "outputs": [
        {
          "output_type": "stream",
          "text": [
            "tf.Tensor([0 1 2 3 4 5 6], shape=(7,), dtype=int32)\n",
            "tf.Tensor([7 8 9 0 1 2 3], shape=(7,), dtype=int32)\n",
            "tf.Tensor([4 5 6 7 8 9 0], shape=(7,), dtype=int32)\n",
            "tf.Tensor([1 2 3 4 5 6 7], shape=(7,), dtype=int32)\n",
            "tf.Tensor([8 9], shape=(2,), dtype=int32)\n"
          ],
          "name": "stdout"
        }
      ]
    },
    {
      "cell_type": "markdown",
      "metadata": {
        "id": "9TxK7bmKcBtd"
      },
      "source": [
        "# 3. Dataset map, unbatch, filter, take method"
      ]
    },
    {
      "cell_type": "code",
      "metadata": {
        "colab": {
          "base_uri": "https://localhost:8080/"
        },
        "id": "lxJgA3GkbIs0",
        "outputId": "74bab725-4b88-4c54-cfe0-d21d1b141860"
      },
      "source": [
        "# map()\n",
        "dataset = dataset.map(lambda x : x * 2) # 위의 dataset에서 각 요소에 2를 곱해준다\n",
        "for item in dataset :\n",
        "  print(item)"
      ],
      "execution_count": 6,
      "outputs": [
        {
          "output_type": "stream",
          "text": [
            "tf.Tensor([ 0  2  4  6  8 10 12], shape=(7,), dtype=int32)\n",
            "tf.Tensor([14 16 18  0  2  4  6], shape=(7,), dtype=int32)\n",
            "tf.Tensor([ 8 10 12 14 16 18  0], shape=(7,), dtype=int32)\n",
            "tf.Tensor([ 2  4  6  8 10 12 14], shape=(7,), dtype=int32)\n",
            "tf.Tensor([16 18], shape=(2,), dtype=int32)\n"
          ],
          "name": "stdout"
        }
      ]
    },
    {
      "cell_type": "code",
      "metadata": {
        "colab": {
          "base_uri": "https://localhost:8080/"
        },
        "id": "xi_psMlCbOk7",
        "outputId": "812b76cc-9cf8-4da9-a136-107e907b6546"
      },
      "source": [
        "# unbatch()\n",
        "dataset = dataset.unbatch() # 다시 풀어진다\n",
        "for item in dataset :\n",
        "  print(item)"
      ],
      "execution_count": 7,
      "outputs": [
        {
          "output_type": "stream",
          "text": [
            "tf.Tensor(0, shape=(), dtype=int32)\n",
            "tf.Tensor(2, shape=(), dtype=int32)\n",
            "tf.Tensor(4, shape=(), dtype=int32)\n",
            "tf.Tensor(6, shape=(), dtype=int32)\n",
            "tf.Tensor(8, shape=(), dtype=int32)\n",
            "tf.Tensor(10, shape=(), dtype=int32)\n",
            "tf.Tensor(12, shape=(), dtype=int32)\n",
            "tf.Tensor(14, shape=(), dtype=int32)\n",
            "tf.Tensor(16, shape=(), dtype=int32)\n",
            "tf.Tensor(18, shape=(), dtype=int32)\n",
            "tf.Tensor(0, shape=(), dtype=int32)\n",
            "tf.Tensor(2, shape=(), dtype=int32)\n",
            "tf.Tensor(4, shape=(), dtype=int32)\n",
            "tf.Tensor(6, shape=(), dtype=int32)\n",
            "tf.Tensor(8, shape=(), dtype=int32)\n",
            "tf.Tensor(10, shape=(), dtype=int32)\n",
            "tf.Tensor(12, shape=(), dtype=int32)\n",
            "tf.Tensor(14, shape=(), dtype=int32)\n",
            "tf.Tensor(16, shape=(), dtype=int32)\n",
            "tf.Tensor(18, shape=(), dtype=int32)\n",
            "tf.Tensor(0, shape=(), dtype=int32)\n",
            "tf.Tensor(2, shape=(), dtype=int32)\n",
            "tf.Tensor(4, shape=(), dtype=int32)\n",
            "tf.Tensor(6, shape=(), dtype=int32)\n",
            "tf.Tensor(8, shape=(), dtype=int32)\n",
            "tf.Tensor(10, shape=(), dtype=int32)\n",
            "tf.Tensor(12, shape=(), dtype=int32)\n",
            "tf.Tensor(14, shape=(), dtype=int32)\n",
            "tf.Tensor(16, shape=(), dtype=int32)\n",
            "tf.Tensor(18, shape=(), dtype=int32)\n"
          ],
          "name": "stdout"
        }
      ]
    },
    {
      "cell_type": "code",
      "metadata": {
        "colab": {
          "base_uri": "https://localhost:8080/"
        },
        "id": "i1zQyQCuba-C",
        "outputId": "b543b8cc-3de0-4471-873b-74288d18448f"
      },
      "source": [
        "# filter()\n",
        "dataset = dataset.filter(lambda x : x < 10) # 해당 조건에 맞는 요소만 골라낸다\n",
        "for item in dataset :\n",
        "  print(item)"
      ],
      "execution_count": 8,
      "outputs": [
        {
          "output_type": "stream",
          "text": [
            "tf.Tensor(0, shape=(), dtype=int32)\n",
            "tf.Tensor(2, shape=(), dtype=int32)\n",
            "tf.Tensor(4, shape=(), dtype=int32)\n",
            "tf.Tensor(6, shape=(), dtype=int32)\n",
            "tf.Tensor(8, shape=(), dtype=int32)\n",
            "tf.Tensor(0, shape=(), dtype=int32)\n",
            "tf.Tensor(2, shape=(), dtype=int32)\n",
            "tf.Tensor(4, shape=(), dtype=int32)\n",
            "tf.Tensor(6, shape=(), dtype=int32)\n",
            "tf.Tensor(8, shape=(), dtype=int32)\n",
            "tf.Tensor(0, shape=(), dtype=int32)\n",
            "tf.Tensor(2, shape=(), dtype=int32)\n",
            "tf.Tensor(4, shape=(), dtype=int32)\n",
            "tf.Tensor(6, shape=(), dtype=int32)\n",
            "tf.Tensor(8, shape=(), dtype=int32)\n"
          ],
          "name": "stdout"
        }
      ]
    },
    {
      "cell_type": "code",
      "metadata": {
        "colab": {
          "base_uri": "https://localhost:8080/"
        },
        "id": "n1yXVbwWbxPz",
        "outputId": "69976730-5834-49cc-ade8-550fc7ea2c8b"
      },
      "source": [
        "# take()\n",
        "for item in dataset.take(3) : # 3개만 필요\n",
        "  print(item)"
      ],
      "execution_count": 9,
      "outputs": [
        {
          "output_type": "stream",
          "text": [
            "tf.Tensor(0, shape=(), dtype=int32)\n",
            "tf.Tensor(2, shape=(), dtype=int32)\n",
            "tf.Tensor(4, shape=(), dtype=int32)\n"
          ],
          "name": "stdout"
        }
      ]
    },
    {
      "cell_type": "markdown",
      "metadata": {
        "id": "kG7bgoxEcYmp"
      },
      "source": [
        "# 4. Dataset shuffle method"
      ]
    },
    {
      "cell_type": "code",
      "metadata": {
        "colab": {
          "base_uri": "https://localhost:8080/"
        },
        "id": "osXZvtEXcXOM",
        "outputId": "ea4de1ca-680d-4f36-c684-1f927417488e"
      },
      "source": [
        "tf.random.set_seed(42)\n",
        "\n",
        "dataset = tf.data.Dataset.range(10).repeat(3) # 30개의 데이터\n",
        "dataset = dataset.shuffle(buffer_size=3, seed=42).batch(7) # shuffle 후 7만큼 뽑아낸다\n",
        "for item in dataset :\n",
        "  print(item)"
      ],
      "execution_count": 10,
      "outputs": [
        {
          "output_type": "stream",
          "text": [
            "tf.Tensor([1 3 0 4 2 5 6], shape=(7,), dtype=int64)\n",
            "tf.Tensor([8 7 1 0 3 2 5], shape=(7,), dtype=int64)\n",
            "tf.Tensor([4 6 9 8 9 7 0], shape=(7,), dtype=int64)\n",
            "tf.Tensor([3 1 4 5 2 8 7], shape=(7,), dtype=int64)\n",
            "tf.Tensor([6 9], shape=(2,), dtype=int64)\n"
          ],
          "name": "stdout"
        }
      ]
    },
    {
      "cell_type": "markdown",
      "metadata": {
        "id": "F-KT3FXJcyX6"
      },
      "source": [
        "# 5. Prefetching"
      ]
    },
    {
      "cell_type": "markdown",
      "metadata": {
        "id": "j1BD8CvWc1ts"
      },
      "source": [
        "## Typical data preprocessing flow \n",
        "\n",
        "map() -> shuffle() -> repeat() -> batch() -> prefetch(1)"
      ]
    },
    {
      "cell_type": "markdown",
      "metadata": {
        "id": "sQ4L7TRwdDEA"
      },
      "source": [
        "## Pretrained Models for Transfer Learning"
      ]
    },
    {
      "cell_type": "code",
      "metadata": {
        "id": "5uvpFD7icsm9",
        "colab": {
          "base_uri": "https://localhost:8080/",
          "height": 207,
          "referenced_widgets": [
            "f8158fc402224f8589c901d93075786a",
            "976d38f77a42462fab00119b5a0a98f0",
            "6d8bbd3fc3a440cb8f568d2672e410fc",
            "0ab1ceb5a0bb465cb58d1c31172086f1",
            "d1f72634a129469da2b29a72cf38fbc4",
            "e6bcd86dc2e746f78fa33ad996c67574",
            "9a0f1be36856480ea08959a7a60ed700",
            "c4c91a1d92534405a811304d11f54184"
          ]
        },
        "outputId": "24487854-849e-41d8-ce3b-b30ed3fa50fd"
      },
      "source": [
        "import tensorflow_datasets as tfds\n",
        "dataset, info = tfds.load(\"tf_flowers\", as_supervised=True, with_info=True)\n",
        "class_names = info.features[\"label\"].names # ['dandelion', 'daisy', 'tulips', 'sunflowers', 'roses']\n",
        "n_classes = info.features[\"label\"].num_classes # 5개의 class\n",
        "dataset_size = info.splits[\"train\"].num_examples # 3670개의 data"
      ],
      "execution_count": 11,
      "outputs": [
        {
          "output_type": "stream",
          "text": [
            "\u001b[1mDownloading and preparing dataset tf_flowers/3.0.1 (download: 218.21 MiB, generated: 221.83 MiB, total: 440.05 MiB) to /root/tensorflow_datasets/tf_flowers/3.0.1...\u001b[0m\n"
          ],
          "name": "stdout"
        },
        {
          "output_type": "stream",
          "text": [
            "WARNING:absl:Dataset tf_flowers is hosted on GCS. It will automatically be downloaded to your\n",
            "local data directory. If you'd instead prefer to read directly from our public\n",
            "GCS bucket (recommended if you're running on GCP), you can instead pass\n",
            "`try_gcs=True` to `tfds.load` or set `data_dir=gs://tfds-data/datasets`.\n",
            "\n"
          ],
          "name": "stderr"
        },
        {
          "output_type": "display_data",
          "data": {
            "application/vnd.jupyter.widget-view+json": {
              "model_id": "f8158fc402224f8589c901d93075786a",
              "version_minor": 0,
              "version_major": 2
            },
            "text/plain": [
              "HBox(children=(FloatProgress(value=0.0, description='Dl Completed...', max=5.0, style=ProgressStyle(descriptio…"
            ]
          },
          "metadata": {
            "tags": []
          }
        },
        {
          "output_type": "stream",
          "text": [
            "\n",
            "\n",
            "\u001b[1mDataset tf_flowers downloaded and prepared to /root/tensorflow_datasets/tf_flowers/3.0.1. Subsequent calls will reuse this data.\u001b[0m\n"
          ],
          "name": "stdout"
        }
      ]
    },
    {
      "cell_type": "code",
      "metadata": {
        "id": "yxj2C6INds2t"
      },
      "source": [
        "test_set_raw, valid_set_raw, train_set_raw = tfds.load(\"tf_flowers\", as_supervised=True, split=[\"train[:10%]\", \"train[10%:25%]\", \"train[25%:]\"])\n",
        "\n",
        "def preprocess(image, label) :\n",
        "  resized_image = tf.image.resize(image, [224, 224])\n",
        "  final_image = keras.applications.xception.preprocess_input(resized_image)\n",
        "  return final_image, label\n",
        "\n",
        "batch_size = 32\n",
        "train_set = train_set_raw.shuffle(1000).repeat()\n",
        "\n",
        "# prefetch : 속도가 빨라지게 하기위해 넣는 명령어. 미리 데이터를 가져오는 것\n",
        "# train_set = train_set.map(partial(preprocess, randomize=True)).batch(batch_size).prefetch(1)\n",
        "train_set = train_set.map(preprocess).batch(batch_size).prefetch(1)\n",
        "valid_set = valid_set_raw.map(preprocess).batch(batch_size).prefetch(1)\n",
        "test_set = test_set_raw.map(preprocess).batch(batch_size).prefetch(1)"
      ],
      "execution_count": 12,
      "outputs": []
    },
    {
      "cell_type": "code",
      "metadata": {
        "id": "aIGNvDG4fQZ0",
        "colab": {
          "base_uri": "https://localhost:8080/"
        },
        "outputId": "a56be2cb-bb67-4802-a4db-4d1ebfb6846f"
      },
      "source": [
        "base_model = keras.applications.xception.Xception(weights=\"imagenet\", include_top=False)\n",
        "avg = keras.layers.GlobalAveragePooling2D()(base_model.output)\n",
        "output = keras.layers.Dense(n_classes, activation=\"softmax\")(avg)\n",
        "model = keras.models.Model(inputs=base_model.input, outputs=output)\n",
        "\n",
        "for layer in base_model.layers :\n",
        "  layer.trainable = False\n",
        "optimizer = keras.optimizers.SGD(learning_rate=0.2, momentum=0.9, decay=0.01)\n",
        "model.compile(loss=\"sparse_categorical_crossentropy\", optimizer=optimizer, metrics=['accuracy'])\n",
        "history = model.fit(train_set, epochs=5, validation_data=valid_set, steps_per_epoch=int(0.75 * dataset_size / batch_size), validation_steps=int(0.15 * dataset_size / batch_size))"
      ],
      "execution_count": 13,
      "outputs": [
        {
          "output_type": "stream",
          "text": [
            "Downloading data from https://storage.googleapis.com/tensorflow/keras-applications/xception/xception_weights_tf_dim_ordering_tf_kernels_notop.h5\n",
            "83689472/83683744 [==============================] - 1s 0us/step\n",
            "Epoch 1/5\n",
            "86/86 [==============================] - 17s 151ms/step - loss: 1.2379 - accuracy: 0.7991 - val_loss: 1.2905 - val_accuracy: 0.8254\n",
            "Epoch 2/5\n",
            "86/86 [==============================] - 12s 142ms/step - loss: 0.4186 - accuracy: 0.9092 - val_loss: 0.8096 - val_accuracy: 0.8585\n",
            "Epoch 3/5\n",
            "86/86 [==============================] - 12s 144ms/step - loss: 0.2143 - accuracy: 0.9408 - val_loss: 0.7238 - val_accuracy: 0.8621\n",
            "Epoch 4/5\n",
            "86/86 [==============================] - 12s 145ms/step - loss: 0.1074 - accuracy: 0.9637 - val_loss: 0.6137 - val_accuracy: 0.8676\n",
            "Epoch 5/5\n",
            "86/86 [==============================] - 13s 146ms/step - loss: 0.0572 - accuracy: 0.9818 - val_loss: 0.6378 - val_accuracy: 0.8732\n"
          ],
          "name": "stdout"
        }
      ]
    },
    {
      "cell_type": "code",
      "metadata": {
        "colab": {
          "base_uri": "https://localhost:8080/"
        },
        "id": "i40C4CM0eWle",
        "outputId": "354b2a08-bb2c-420c-bb90-66f7dcc16ebc"
      },
      "source": [
        "for layer in base_model.layers :\n",
        "  layer.trainable = True\n",
        "\n",
        "optimizer = keras.optimizers.SGD(learning_rate=0.01, momentum=0.9, nesterov=True, decay=0.001)\n",
        "model.compile(loss='sparse_categorical_crossentropy', optimizer=optimizer, metrics=['accuracy'])\n",
        "history = model.fit(train_set, epochs=40, validation_data=valid_set, steps_per_epoch=int(0.75 * dataset_size / batch_size), validation_steps=int(0.15 * dataset_size / batch_size))"
      ],
      "execution_count": 14,
      "outputs": [
        {
          "output_type": "stream",
          "text": [
            "Epoch 1/40\n",
            "86/86 [==============================] - 58s 595ms/step - loss: 0.3352 - accuracy: 0.8881 - val_loss: 0.5540 - val_accuracy: 0.8658\n",
            "Epoch 2/40\n",
            "86/86 [==============================] - 51s 594ms/step - loss: 0.0660 - accuracy: 0.9797 - val_loss: 0.4324 - val_accuracy: 0.8658\n",
            "Epoch 3/40\n",
            "86/86 [==============================] - 52s 602ms/step - loss: 0.0340 - accuracy: 0.9924 - val_loss: 0.2832 - val_accuracy: 0.9210\n",
            "Epoch 4/40\n",
            "86/86 [==============================] - 52s 604ms/step - loss: 0.0097 - accuracy: 0.9967 - val_loss: 0.3027 - val_accuracy: 0.9210\n",
            "Epoch 5/40\n",
            "86/86 [==============================] - 52s 609ms/step - loss: 0.0120 - accuracy: 0.9967 - val_loss: 0.3086 - val_accuracy: 0.9246\n",
            "Epoch 6/40\n",
            "86/86 [==============================] - 52s 610ms/step - loss: 0.0066 - accuracy: 0.9971 - val_loss: 0.2875 - val_accuracy: 0.9154\n",
            "Epoch 7/40\n",
            "86/86 [==============================] - 53s 612ms/step - loss: 0.0040 - accuracy: 0.9978 - val_loss: 0.2836 - val_accuracy: 0.9228\n",
            "Epoch 8/40\n",
            "86/86 [==============================] - 53s 612ms/step - loss: 0.0065 - accuracy: 0.9975 - val_loss: 0.3237 - val_accuracy: 0.9246\n",
            "Epoch 9/40\n",
            "86/86 [==============================] - 53s 613ms/step - loss: 0.0040 - accuracy: 0.9985 - val_loss: 0.2900 - val_accuracy: 0.9246\n",
            "Epoch 10/40\n",
            "86/86 [==============================] - 53s 613ms/step - loss: 0.0076 - accuracy: 0.9975 - val_loss: 0.2561 - val_accuracy: 0.9320\n",
            "Epoch 11/40\n",
            "86/86 [==============================] - 54s 633ms/step - loss: 0.0037 - accuracy: 0.9985 - val_loss: 0.2741 - val_accuracy: 0.9246\n",
            "Epoch 12/40\n",
            "86/86 [==============================] - 53s 616ms/step - loss: 0.0036 - accuracy: 0.9989 - val_loss: 0.2851 - val_accuracy: 0.9301\n",
            "Epoch 13/40\n",
            "86/86 [==============================] - 53s 614ms/step - loss: 0.0017 - accuracy: 0.9996 - val_loss: 0.2926 - val_accuracy: 0.9265\n",
            "Epoch 14/40\n",
            "86/86 [==============================] - 53s 616ms/step - loss: 0.0016 - accuracy: 0.9993 - val_loss: 0.2988 - val_accuracy: 0.9265\n",
            "Epoch 15/40\n",
            "86/86 [==============================] - 53s 618ms/step - loss: 0.0025 - accuracy: 0.9985 - val_loss: 0.2964 - val_accuracy: 0.9283\n",
            "Epoch 16/40\n",
            "86/86 [==============================] - 53s 618ms/step - loss: 0.0021 - accuracy: 0.9989 - val_loss: 0.3144 - val_accuracy: 0.9283\n",
            "Epoch 17/40\n",
            "86/86 [==============================] - 53s 614ms/step - loss: 0.0018 - accuracy: 0.9989 - val_loss: 0.3160 - val_accuracy: 0.9246\n",
            "Epoch 18/40\n",
            "86/86 [==============================] - 53s 616ms/step - loss: 0.0026 - accuracy: 0.9985 - val_loss: 0.3295 - val_accuracy: 0.9154\n",
            "Epoch 19/40\n",
            "86/86 [==============================] - 53s 617ms/step - loss: 0.0019 - accuracy: 0.9989 - val_loss: 0.3433 - val_accuracy: 0.9118\n",
            "Epoch 20/40\n",
            "86/86 [==============================] - 53s 617ms/step - loss: 0.0030 - accuracy: 0.9985 - val_loss: 0.3313 - val_accuracy: 0.9210\n",
            "Epoch 21/40\n",
            "86/86 [==============================] - 53s 616ms/step - loss: 0.0035 - accuracy: 0.9993 - val_loss: 0.3418 - val_accuracy: 0.9210\n",
            "Epoch 22/40\n",
            "86/86 [==============================] - 53s 615ms/step - loss: 0.0021 - accuracy: 0.9993 - val_loss: 0.3812 - val_accuracy: 0.9099\n",
            "Epoch 23/40\n",
            "86/86 [==============================] - 53s 616ms/step - loss: 0.0037 - accuracy: 0.9985 - val_loss: 0.3351 - val_accuracy: 0.9210\n",
            "Epoch 24/40\n",
            "86/86 [==============================] - 53s 616ms/step - loss: 0.0016 - accuracy: 0.9996 - val_loss: 0.3084 - val_accuracy: 0.9228\n",
            "Epoch 25/40\n",
            "86/86 [==============================] - 53s 616ms/step - loss: 0.0018 - accuracy: 0.9993 - val_loss: 0.3184 - val_accuracy: 0.9191\n",
            "Epoch 26/40\n",
            "86/86 [==============================] - 53s 617ms/step - loss: 0.0012 - accuracy: 0.9993 - val_loss: 0.3102 - val_accuracy: 0.9246\n",
            "Epoch 27/40\n",
            "86/86 [==============================] - 53s 617ms/step - loss: 9.9143e-04 - accuracy: 0.9993 - val_loss: 0.3101 - val_accuracy: 0.9228\n",
            "Epoch 28/40\n",
            "86/86 [==============================] - 53s 614ms/step - loss: 0.0010 - accuracy: 0.9993 - val_loss: 0.3149 - val_accuracy: 0.9246\n",
            "Epoch 29/40\n",
            "86/86 [==============================] - 53s 615ms/step - loss: 8.0866e-04 - accuracy: 0.9993 - val_loss: 0.3178 - val_accuracy: 0.9265\n",
            "Epoch 30/40\n",
            "86/86 [==============================] - 53s 615ms/step - loss: 0.0010 - accuracy: 0.9996 - val_loss: 0.3292 - val_accuracy: 0.9246\n",
            "Epoch 31/40\n",
            "86/86 [==============================] - 53s 615ms/step - loss: 9.9441e-04 - accuracy: 0.9993 - val_loss: 0.3322 - val_accuracy: 0.9265\n",
            "Epoch 32/40\n",
            "86/86 [==============================] - 53s 616ms/step - loss: 8.1014e-04 - accuracy: 0.9996 - val_loss: 0.3331 - val_accuracy: 0.9246\n",
            "Epoch 33/40\n",
            "86/86 [==============================] - 53s 615ms/step - loss: 0.0011 - accuracy: 0.9993 - val_loss: 0.3261 - val_accuracy: 0.9246\n",
            "Epoch 34/40\n",
            "86/86 [==============================] - 53s 617ms/step - loss: 0.0018 - accuracy: 0.9993 - val_loss: 0.3307 - val_accuracy: 0.9246\n",
            "Epoch 35/40\n",
            "86/86 [==============================] - 53s 615ms/step - loss: 0.0010 - accuracy: 0.9996 - val_loss: 0.3350 - val_accuracy: 0.9246\n",
            "Epoch 36/40\n",
            "86/86 [==============================] - 53s 616ms/step - loss: 0.0014 - accuracy: 0.9993 - val_loss: 0.3315 - val_accuracy: 0.9246\n",
            "Epoch 37/40\n",
            "86/86 [==============================] - 53s 616ms/step - loss: 0.0012 - accuracy: 0.9989 - val_loss: 0.3392 - val_accuracy: 0.9210\n",
            "Epoch 38/40\n",
            "86/86 [==============================] - 53s 615ms/step - loss: 0.0011 - accuracy: 0.9996 - val_loss: 0.3344 - val_accuracy: 0.9265\n",
            "Epoch 39/40\n",
            "86/86 [==============================] - 53s 621ms/step - loss: 9.4344e-04 - accuracy: 0.9996 - val_loss: 0.3334 - val_accuracy: 0.9228\n",
            "Epoch 40/40\n",
            "86/86 [==============================] - 53s 615ms/step - loss: 0.0014 - accuracy: 0.9989 - val_loss: 0.3307 - val_accuracy: 0.9246\n"
          ],
          "name": "stdout"
        }
      ]
    },
    {
      "cell_type": "code",
      "metadata": {
        "id": "kr94oqrhfM9A"
      },
      "source": [
        ""
      ],
      "execution_count": 14,
      "outputs": []
    }
  ]
}