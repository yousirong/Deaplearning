{
 "cells": [
  {
   "cell_type": "code",
   "execution_count": 2,
   "id": "previous-marker",
   "metadata": {},
   "outputs": [],
   "source": [
    "import numpy as np"
   ]
  },
  {
   "cell_type": "code",
   "execution_count": 5,
   "id": "eight-apache",
   "metadata": {},
   "outputs": [
    {
     "data": {
      "text/plain": [
       "array([[4],\n",
       "       [3]])"
      ]
     },
     "execution_count": 5,
     "metadata": {},
     "output_type": "execute_result"
    }
   ],
   "source": [
    "theta = np.array([[4], [3]]) # col vector (2, 1), (w, b)\n",
    "theta"
   ]
  },
  {
   "cell_type": "code",
   "execution_count": 3,
   "id": "hazardous-ordinary",
   "metadata": {},
   "outputs": [
    {
     "data": {
      "text/plain": [
       "array([[1],\n",
       "       [0]])"
      ]
     },
     "execution_count": 3,
     "metadata": {},
     "output_type": "execute_result"
    }
   ],
   "source": [
    "x_i1 = np.array([[1], [0]]) # col vector (2, 1), (x0_1, x1_1)\n",
    "x_i1"
   ]
  },
  {
   "cell_type": "code",
   "execution_count": 18,
   "id": "textile-midnight",
   "metadata": {},
   "outputs": [
    {
     "data": {
      "text/plain": [
       "array([[1],\n",
       "       [1]])"
      ]
     },
     "execution_count": 18,
     "metadata": {},
     "output_type": "execute_result"
    }
   ],
   "source": [
    "x_i2 = np.array([[1], [1]]) # col vector (2, 1), (x0_2, x1_2)\n",
    "x_i2"
   ]
  },
  {
   "cell_type": "code",
   "execution_count": 19,
   "id": "brave-single",
   "metadata": {},
   "outputs": [
    {
     "data": {
      "text/plain": [
       "array([[1, 0]])"
      ]
     },
     "execution_count": 19,
     "metadata": {},
     "output_type": "execute_result"
    }
   ],
   "source": [
    "x_i1.T # row vector (1, 2)"
   ]
  },
  {
   "cell_type": "code",
   "execution_count": 20,
   "id": "expected-short",
   "metadata": {},
   "outputs": [
    {
     "data": {
      "text/plain": [
       "array([1, 0])"
      ]
     },
     "execution_count": 20,
     "metadata": {},
     "output_type": "execute_result"
    }
   ],
   "source": [
    "x_i1.T.flatten() # decrease degree, row vector (1, 2)"
   ]
  },
  {
   "cell_type": "code",
   "execution_count": 21,
   "id": "fitting-singing",
   "metadata": {},
   "outputs": [
    {
     "data": {
      "text/plain": [
       "array([[1, 0],\n",
       "       [1, 1]])"
      ]
     },
     "execution_count": 21,
     "metadata": {},
     "output_type": "execute_result"
    }
   ],
   "source": [
    "X = np.array([x_i1.T.flatten(), x_i2.T.flatten()]) \n",
    "X # (2, 2), row(2) : number of data, col(2) : number of feature"
   ]
  },
  {
   "cell_type": "code",
   "execution_count": 22,
   "id": "minute-alloy",
   "metadata": {},
   "outputs": [
    {
     "data": {
      "text/plain": [
       "array([[4, 3]])"
      ]
     },
     "execution_count": 22,
     "metadata": {},
     "output_type": "execute_result"
    }
   ],
   "source": [
    "theta.T # row vector (1, 2)"
   ]
  },
  {
   "cell_type": "code",
   "execution_count": 23,
   "id": "referenced-photography",
   "metadata": {},
   "outputs": [
    {
     "data": {
      "text/plain": [
       "array([[1],\n",
       "       [0]])"
      ]
     },
     "execution_count": 23,
     "metadata": {},
     "output_type": "execute_result"
    }
   ],
   "source": [
    "x_i1 # col vector (2, 1)"
   ]
  },
  {
   "cell_type": "code",
   "execution_count": 24,
   "id": "retained-province",
   "metadata": {},
   "outputs": [
    {
     "data": {
      "text/plain": [
       "array([[4]])"
      ]
     },
     "execution_count": 24,
     "metadata": {},
     "output_type": "execute_result"
    }
   ],
   "source": [
    "y_i1 = theta.T.dot(x_i1) # y_i1 : predict value of x_i1\n",
    "y_i1"
   ]
  },
  {
   "cell_type": "code",
   "execution_count": 6,
   "id": "killing-hollywood",
   "metadata": {},
   "outputs": [
    {
     "data": {
      "text/plain": [
       "array([[4]])"
      ]
     },
     "execution_count": 6,
     "metadata": {},
     "output_type": "execute_result"
    }
   ],
   "source": [
    "y_i11 = x_i1.T.dot(theta) # just\n",
    "y_i11"
   ]
  },
  {
   "cell_type": "code",
   "execution_count": 25,
   "id": "opened-mechanics",
   "metadata": {},
   "outputs": [
    {
     "data": {
      "text/plain": [
       "array([[7]])"
      ]
     },
     "execution_count": 25,
     "metadata": {},
     "output_type": "execute_result"
    }
   ],
   "source": [
    "y_i2 = theta.T.dot(x_i2)\n",
    "y_i2"
   ]
  },
  {
   "cell_type": "code",
   "execution_count": 26,
   "id": "incorporate-angle",
   "metadata": {},
   "outputs": [
    {
     "data": {
      "text/plain": [
       "array([[7, 3]])"
      ]
     },
     "execution_count": 26,
     "metadata": {},
     "output_type": "execute_result"
    }
   ],
   "source": [
    "Y = theta.T.dot(X)\n",
    "Y # wrong!"
   ]
  },
  {
   "cell_type": "code",
   "execution_count": 28,
   "id": "comprehensive-symphony",
   "metadata": {},
   "outputs": [
    {
     "data": {
      "text/plain": [
       "array([[4],\n",
       "       [7]])"
      ]
     },
     "execution_count": 28,
     "metadata": {},
     "output_type": "execute_result"
    }
   ],
   "source": [
    "Y = X.dot(theta) # (2, 2) * (2, 1) = (2, 1)\n",
    "Y # right!"
   ]
  }
 ],
 "metadata": {
  "kernelspec": {
   "display_name": "Python 3",
   "language": "python",
   "name": "python3"
  },
  "language_info": {
   "codemirror_mode": {
    "name": "ipython",
    "version": 3
   },
   "file_extension": ".py",
   "mimetype": "text/x-python",
   "name": "python",
   "nbconvert_exporter": "python",
   "pygments_lexer": "ipython3",
   "version": "3.6.9"
  }
 },
 "nbformat": 4,
 "nbformat_minor": 5
}
