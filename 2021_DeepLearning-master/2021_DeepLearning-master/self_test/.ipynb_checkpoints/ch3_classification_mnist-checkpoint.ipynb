{
 "cells": [
  {
   "cell_type": "code",
   "execution_count": 7,
   "id": "active-pendant",
   "metadata": {},
   "outputs": [],
   "source": [
    "# 파이썬 ≥3.5 필수\n",
    "import sys\n",
    "assert sys.version_info >= (3, 5)\n",
    "\n",
    "# 사이킷런 ≥0.20 필수\n",
    "import sklearn\n",
    "assert sklearn.__version__ >= \"0.20\"\n",
    "\n",
    "# 공통 모듈 임포트\n",
    "import numpy as np\n",
    "import os\n",
    "\n",
    "# 노트북 실행 결과를 동일하게 유지하기 위해\n",
    "np.random.seed(42)\n",
    "\n",
    "# 깔끔한 그래프 출력을 위해\n",
    "%matplotlib inline\n",
    "import matplotlib as mpl\n",
    "import matplotlib.pyplot as plt\n",
    "mpl.rc('axes', labelsize=14)\n",
    "mpl.rc('xtick', labelsize=12)\n",
    "mpl.rc('ytick', labelsize=12)\n",
    "\n",
    "# 그림을 저장할 위치\n",
    "PROJECT_ROOT_DIR = \".\"\n",
    "CHAPTER_ID = \"classification\"\n",
    "IMAGES_PATH = os.path.join(PROJECT_ROOT_DIR, \"images\", CHAPTER_ID)\n",
    "os.makedirs(IMAGES_PATH, exist_ok=True)\n",
    "\n",
    "def save_fig(fig_id, tight_layout=True, fig_extension=\"png\", resolution=300):\n",
    "    path = os.path.join(IMAGES_PATH, fig_id + \".\" + fig_extension)\n",
    "    print(\"그림 저장:\", fig_id)\n",
    "    if tight_layout:\n",
    "        plt.tight_layout()\n",
    "    plt.savefig(path, format=fig_extension, dpi=resolution)"
   ]
  },
  {
   "cell_type": "markdown",
   "id": "parental-coast",
   "metadata": {},
   "source": [
    "# 1. Mnist data 가져오기"
   ]
  },
  {
   "cell_type": "markdown",
   "id": "furnished-benefit",
   "metadata": {},
   "source": [
    "* X(data) : 숫자 손글씨 그림(28 * 28)\n",
    "* y : 손글씨 그림에 대한 정답값(숫자)"
   ]
  },
  {
   "cell_type": "code",
   "execution_count": 1,
   "id": "optimum-radiation",
   "metadata": {},
   "outputs": [
    {
     "data": {
      "text/plain": [
       "dict_keys(['data', 'target', 'frame', 'categories', 'feature_names', 'target_names', 'DESCR', 'details', 'url'])"
      ]
     },
     "execution_count": 1,
     "metadata": {},
     "output_type": "execute_result"
    }
   ],
   "source": [
    "from sklearn.datasets import fetch_openml\n",
    "mnist = fetch_openml('mnist_784', as_frame = False)\n",
    "mnist.keys()"
   ]
  },
  {
   "cell_type": "markdown",
   "id": "basic-intro",
   "metadata": {},
   "source": [
    "# 2. 받은 Data를 저장하기"
   ]
  },
  {
   "cell_type": "code",
   "execution_count": 2,
   "id": "endangered-explosion",
   "metadata": {},
   "outputs": [],
   "source": [
    "X, y = mnist['data'], mnist['target'] # 위에서 받은 mnist data(dictionary 형태)에서 data와 target(정답값)을 X, y에 저장한다"
   ]
  },
  {
   "cell_type": "markdown",
   "id": "rotary-floating",
   "metadata": {},
   "source": [
    "## 받은 데이터의 shape 확인하기"
   ]
  },
  {
   "cell_type": "code",
   "execution_count": 3,
   "id": "affected-criticism",
   "metadata": {},
   "outputs": [
    {
     "data": {
      "text/plain": [
       "(70000, 784)"
      ]
     },
     "execution_count": 3,
     "metadata": {},
     "output_type": "execute_result"
    }
   ],
   "source": [
    "X.shape # 7만개의 데이터, 각 데이터가 28*28 이므로 784"
   ]
  },
  {
   "cell_type": "code",
   "execution_count": 4,
   "id": "beneficial-newport",
   "metadata": {},
   "outputs": [
    {
     "data": {
      "text/plain": [
       "(70000,)"
      ]
     },
     "execution_count": 4,
     "metadata": {},
     "output_type": "execute_result"
    }
   ],
   "source": [
    "y.shape # 데이터(X)에 대한 정답값 : 7만개의 정답값"
   ]
  },
  {
   "cell_type": "markdown",
   "id": "requested-chicago",
   "metadata": {},
   "source": [
    "## y의 타입 변경하기(str to int)"
   ]
  },
  {
   "cell_type": "code",
   "execution_count": 8,
   "id": "celtic-cheese",
   "metadata": {},
   "outputs": [],
   "source": [
    "y = y.astype(np.uint8) # 처음 y를 받을 때 y는 string타입. 만약 숫자 5이면 '5' 이렇게 저장되어 있다"
   ]
  },
  {
   "cell_type": "code",
   "execution_count": 41,
   "id": "meaningful-singapore",
   "metadata": {},
   "outputs": [
    {
     "data": {
      "text/plain": [
       "array([ True, False, False, False, False])"
      ]
     },
     "execution_count": 41,
     "metadata": {},
     "output_type": "execute_result"
    }
   ],
   "source": [
    "y[:5] # 타입 바꼈는지 확인. dtype=unit8(정수)로 바뀐 것을 확인할 수 있다"
   ]
  },
  {
   "cell_type": "markdown",
   "id": "according-instrument",
   "metadata": {},
   "source": [
    "## 전체 데이터를 train(6만), test(1만) set으로 나누기"
   ]
  },
  {
   "cell_type": "code",
   "execution_count": 13,
   "id": "polyphonic-extra",
   "metadata": {},
   "outputs": [],
   "source": [
    "X_train, X_test, y_train, y_test = X[:60000], X[60000:], y[:60000], y[60000:]"
   ]
  },
  {
   "cell_type": "code",
   "execution_count": 14,
   "id": "composite-wonder",
   "metadata": {},
   "outputs": [
    {
     "data": {
      "text/plain": [
       "(60000, 784)"
      ]
     },
     "execution_count": 14,
     "metadata": {},
     "output_type": "execute_result"
    }
   ],
   "source": [
    "X_train.shape"
   ]
  },
  {
   "cell_type": "code",
   "execution_count": 15,
   "id": "structured-ballot",
   "metadata": {},
   "outputs": [
    {
     "data": {
      "text/plain": [
       "(10000, 784)"
      ]
     },
     "execution_count": 15,
     "metadata": {},
     "output_type": "execute_result"
    }
   ],
   "source": [
    "X_test.shape"
   ]
  },
  {
   "cell_type": "code",
   "execution_count": 16,
   "id": "interim-theater",
   "metadata": {},
   "outputs": [
    {
     "data": {
      "text/plain": [
       "(60000,)"
      ]
     },
     "execution_count": 16,
     "metadata": {},
     "output_type": "execute_result"
    }
   ],
   "source": [
    "y_train.shape"
   ]
  },
  {
   "cell_type": "code",
   "execution_count": 17,
   "id": "effective-consequence",
   "metadata": {},
   "outputs": [
    {
     "data": {
      "text/plain": [
       "(10000,)"
      ]
     },
     "execution_count": 17,
     "metadata": {},
     "output_type": "execute_result"
    }
   ],
   "source": [
    "y_test.shape"
   ]
  },
  {
   "cell_type": "markdown",
   "id": "certified-religion",
   "metadata": {},
   "source": [
    "# 3. Binary Classifier 만들기(Classify 5)"
   ]
  },
  {
   "cell_type": "markdown",
   "id": "patent-mustang",
   "metadata": {},
   "source": [
    "## y를 True, False array로 바꾸기"
   ]
  },
  {
   "cell_type": "code",
   "execution_count": 21,
   "id": "exact-intelligence",
   "metadata": {},
   "outputs": [
    {
     "data": {
      "text/plain": [
       "(array([ True, False, False, False, False]),\n",
       " array([False, False, False, False, False]))"
      ]
     },
     "execution_count": 21,
     "metadata": {},
     "output_type": "execute_result"
    }
   ],
   "source": [
    "y_train_5 = np.array(y_train == 5) # y_train(정답값)중 정답이 5이면 True, 아니면 False인 np array를 만든다(분류의 결과)\n",
    "y_test_5 = np.array(y_test == 5) # test에 쓰이는 정답값도 마찬가지로 분류의 결과를 가진 array로 변환\n",
    "y_train_5[:5], y_test_5[:5]"
   ]
  },
  {
   "cell_type": "markdown",
   "id": "pleasant-briefs",
   "metadata": {},
   "source": [
    "## Binary Classifier 만들기. SDGClassifier 사용"
   ]
  },
  {
   "cell_type": "code",
   "execution_count": 24,
   "id": "sonic-yahoo",
   "metadata": {},
   "outputs": [
    {
     "data": {
      "text/plain": [
       "SGDClassifier(random_state=42)"
      ]
     },
     "execution_count": 24,
     "metadata": {},
     "output_type": "execute_result"
    }
   ],
   "source": [
    "from sklearn.linear_model import SGDClassifier\n",
    "\n",
    "sgd_clf = SGDClassifier(max_iter=1000, tol=1e-3, random_state=42) # 학습시킨 모델 이름이 sgd_clf\n",
    "sgd_clf.fit(X_train, y_train_5) # fit이 모델 학습시키는것. train data(X_train), 정답값(y_train_5)를 넣어준다"
   ]
  },
  {
   "cell_type": "code",
   "execution_count": 28,
   "id": "characteristic-material",
   "metadata": {},
   "outputs": [
    {
     "data": {
      "text/plain": [
       "array([False, False, False, ..., False,  True, False])"
      ]
     },
     "execution_count": 28,
     "metadata": {},
     "output_type": "execute_result"
    }
   ],
   "source": [
    "x_predict = sgd_clf.predict(X_test) # 모델에 test data set(X_test)를 넣어서 예측값 확인\n",
    "x_predict"
   ]
  },
  {
   "cell_type": "code",
   "execution_count": 29,
   "id": "increasing-tragedy",
   "metadata": {},
   "outputs": [
    {
     "data": {
      "text/plain": [
       "array([ True,  True,  True, ...,  True,  True,  True])"
      ]
     },
     "execution_count": 29,
     "metadata": {},
     "output_type": "execute_result"
    }
   ],
   "source": [
    "x_predict == y_test_5 # 예측값과 정답값이 맞는지 확인해본 것(그냥 내가 해본거)"
   ]
  },
  {
   "cell_type": "markdown",
   "id": "flying-denver",
   "metadata": {},
   "source": [
    "# 4. Cross Validation"
   ]
  },
  {
   "cell_type": "code",
   "execution_count": 31,
   "id": "understanding-battlefield",
   "metadata": {},
   "outputs": [
    {
     "data": {
      "text/plain": [
       "array([0.95035, 0.96035, 0.9604 ])"
      ]
     },
     "execution_count": 31,
     "metadata": {},
     "output_type": "execute_result"
    }
   ],
   "source": [
    "# 예측값의 정확도를 출력\n",
    "from sklearn.model_selection import cross_val_score\n",
    "cross_val_score(sgd_clf, X_train, y_train_5, cv=3, scoring=\"accuracy\")"
   ]
  },
  {
   "cell_type": "code",
   "execution_count": 34,
   "id": "peripheral-vegetation",
   "metadata": {},
   "outputs": [],
   "source": [
    "# 예측값을 출력\n",
    "from sklearn.model_selection import cross_val_predict\n",
    "y_train_pred = cross_val_predict(sgd_clf, X_train, y_train_5, cv=3)"
   ]
  },
  {
   "cell_type": "markdown",
   "id": "recent-karaoke",
   "metadata": {},
   "source": [
    "# 5. Confusion_matrix"
   ]
  },
  {
   "cell_type": "code",
   "execution_count": 36,
   "id": "assumed-damage",
   "metadata": {},
   "outputs": [
    {
     "data": {
      "text/plain": [
       "array([[53892,   687],\n",
       "       [ 1891,  3530]])"
      ]
     },
     "execution_count": 36,
     "metadata": {},
     "output_type": "execute_result"
    }
   ],
   "source": [
    "# 정답값(y_train_5)과 X_train을 예측한 값(y_train_pred)을 가지고 오차행렬 구하기\n",
    "from sklearn.metrics import confusion_matrix\n",
    "confusion_matrix(y_train_5, y_train_pred) "
   ]
  },
  {
   "cell_type": "code",
   "execution_count": 38,
   "id": "veterinary-motivation",
   "metadata": {},
   "outputs": [],
   "source": [
    "cm = confusion_matrix(y_train_5, y_train_pred)"
   ]
  },
  {
   "cell_type": "code",
   "execution_count": 39,
   "id": "western-trade",
   "metadata": {},
   "outputs": [
    {
     "data": {
      "text/plain": [
       "53892"
      ]
     },
     "execution_count": 39,
     "metadata": {},
     "output_type": "execute_result"
    }
   ],
   "source": [
    "cm[0, 0] # TN(True Negative - 아닌데 진짜 아니라고 예측)"
   ]
  },
  {
   "cell_type": "code",
   "execution_count": 40,
   "id": "tribal-irish",
   "metadata": {},
   "outputs": [
    {
     "data": {
      "text/plain": [
       "687"
      ]
     },
     "execution_count": 40,
     "metadata": {},
     "output_type": "execute_result"
    }
   ],
   "source": [
    "cm[0, 1] # FP(False Positive - 아닌데 맞다고 예측)"
   ]
  },
  {
   "cell_type": "code",
   "execution_count": 42,
   "id": "significant-brake",
   "metadata": {},
   "outputs": [
    {
     "data": {
      "text/plain": [
       "1891"
      ]
     },
     "execution_count": 42,
     "metadata": {},
     "output_type": "execute_result"
    }
   ],
   "source": [
    "cm[1, 0] # FN(False Negative - 맞는데 아니라고 예측)"
   ]
  },
  {
   "cell_type": "code",
   "execution_count": 43,
   "id": "selected-patch",
   "metadata": {},
   "outputs": [
    {
     "data": {
      "text/plain": [
       "3530"
      ]
     },
     "execution_count": 43,
     "metadata": {},
     "output_type": "execute_result"
    }
   ],
   "source": [
    "cm[1, 1] # TP(True Positive - 맞는데 맞다고 예측)"
   ]
  },
  {
   "cell_type": "code",
   "execution_count": 45,
   "id": "boring-outreach",
   "metadata": {},
   "outputs": [
    {
     "data": {
      "text/plain": [
       "0.8370879772350012"
      ]
     },
     "execution_count": 45,
     "metadata": {},
     "output_type": "execute_result"
    }
   ],
   "source": [
    "# precision 값 구하기\n",
    "from sklearn.metrics import precision_score\n",
    "precision_score(y_train_5, y_train_pred) "
   ]
  },
  {
   "cell_type": "code",
   "execution_count": 47,
   "id": "improving-short",
   "metadata": {},
   "outputs": [
    {
     "data": {
      "text/plain": [
       "0.8370879772350012"
      ]
     },
     "execution_count": 47,
     "metadata": {},
     "output_type": "execute_result"
    }
   ],
   "source": [
    "# 직접 계산해서 precision 값 구하기(위와 동일한 결과)\n",
    "precision = cm[1, 1] / (cm[1, 1] + cm[0, 1]) # precision = TP / (TP + FP)\n",
    "precision"
   ]
  },
  {
   "cell_type": "code",
   "execution_count": 50,
   "id": "favorite-jewelry",
   "metadata": {},
   "outputs": [
    {
     "data": {
      "text/plain": [
       "0.6511713705958311"
      ]
     },
     "execution_count": 50,
     "metadata": {},
     "output_type": "execute_result"
    }
   ],
   "source": [
    "# recall 값 구하기\n",
    "from sklearn.metrics import recall_score\n",
    "recall_score(y_train_5, y_train_pred)"
   ]
  },
  {
   "cell_type": "code",
   "execution_count": 51,
   "id": "fitted-sullivan",
   "metadata": {},
   "outputs": [
    {
     "data": {
      "text/plain": [
       "0.6511713705958311"
      ]
     },
     "execution_count": 51,
     "metadata": {},
     "output_type": "execute_result"
    }
   ],
   "source": [
    "# 직접 계산해서 recall 값 구하기\n",
    "recall = cm[1, 1] / (cm[1, 1] + cm[1, 0]) # precision = TP / (TP + FN)\n",
    "recall"
   ]
  },
  {
   "cell_type": "code",
   "execution_count": 52,
   "id": "allied-exhibit",
   "metadata": {},
   "outputs": [
    {
     "data": {
      "text/plain": [
       "0.7325171197343846"
      ]
     },
     "execution_count": 52,
     "metadata": {},
     "output_type": "execute_result"
    }
   ],
   "source": [
    "# f1 값 구하기\n",
    "from sklearn.metrics import f1_score\n",
    "f1_score(y_train_5, y_train_pred)"
   ]
  },
  {
   "cell_type": "code",
   "execution_count": 54,
   "id": "injured-longer",
   "metadata": {},
   "outputs": [
    {
     "data": {
      "text/plain": [
       "0.7325171197343847"
      ]
     },
     "execution_count": 54,
     "metadata": {},
     "output_type": "execute_result"
    }
   ],
   "source": [
    "# 직접 계산해서 f1값 구하기\n",
    "f1 = 2 / (1 / precision + 1 / recall)\n",
    "f1"
   ]
  },
  {
   "cell_type": "code",
   "execution_count": 56,
   "id": "tender-separate",
   "metadata": {},
   "outputs": [
    {
     "data": {
      "text/plain": [
       "0.987412741164184"
      ]
     },
     "execution_count": 56,
     "metadata": {},
     "output_type": "execute_result"
    }
   ],
   "source": [
    "# 직접 계산해서 specificity 값 구하기\n",
    "specificity = cm[0, 0] / (cm[0, 0] + cm[0, 1]) # specificity = TN / (TN + FP)\n",
    "specificity"
   ]
  }
 ],
 "metadata": {
  "kernelspec": {
   "display_name": "Python 3",
   "language": "python",
   "name": "python3"
  },
  "language_info": {
   "codemirror_mode": {
    "name": "ipython",
    "version": 3
   },
   "file_extension": ".py",
   "mimetype": "text/x-python",
   "name": "python",
   "nbconvert_exporter": "python",
   "pygments_lexer": "ipython3",
   "version": "3.6.9"
  }
 },
 "nbformat": 4,
 "nbformat_minor": 5
}
