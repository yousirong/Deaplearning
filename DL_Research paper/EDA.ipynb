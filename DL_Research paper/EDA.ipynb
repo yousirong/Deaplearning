{
 "cells": [
  {
   "cell_type": "code",
   "execution_count": 28,
   "metadata": {},
   "outputs": [],
   "source": [
    "import pandas as pd\n",
    "import numpy as np"
   ]
  },
  {
   "cell_type": "code",
   "execution_count": 45,
   "metadata": {},
   "outputs": [
    {
     "data": {
      "text/html": [
       "<div>\n",
       "<style scoped>\n",
       "    .dataframe tbody tr th:only-of-type {\n",
       "        vertical-align: middle;\n",
       "    }\n",
       "\n",
       "    .dataframe tbody tr th {\n",
       "        vertical-align: top;\n",
       "    }\n",
       "\n",
       "    .dataframe thead th {\n",
       "        text-align: right;\n",
       "    }\n",
       "</style>\n",
       "<table border=\"1\" class=\"dataframe\">\n",
       "  <thead>\n",
       "    <tr style=\"text-align: right;\">\n",
       "      <th></th>\n",
       "      <th>video_id</th>\n",
       "      <th>date</th>\n",
       "      <th>scene_id</th>\n",
       "      <th>category_id</th>\n",
       "      <th>category_name</th>\n",
       "      <th>occupant_id</th>\n",
       "      <th>occupant_sex</th>\n",
       "      <th>occupant_age</th>\n",
       "      <th>occupant_position</th>\n",
       "      <th>data_length</th>\n",
       "      <th>...</th>\n",
       "      <th>b_bbox1</th>\n",
       "      <th>b_bbox2</th>\n",
       "      <th>b_bbox3</th>\n",
       "      <th>b_bbox4</th>\n",
       "      <th>f_bbox1</th>\n",
       "      <th>f_bbox2</th>\n",
       "      <th>f_bbox3</th>\n",
       "      <th>f_bbox4</th>\n",
       "      <th>action</th>\n",
       "      <th>emotion</th>\n",
       "    </tr>\n",
       "  </thead>\n",
       "  <tbody>\n",
       "    <tr>\n",
       "      <th>0</th>\n",
       "      <td>SGA5100028</td>\n",
       "      <td>20211111</td>\n",
       "      <td>SGA5100028S0074</td>\n",
       "      <td>A004</td>\n",
       "      <td>통화</td>\n",
       "      <td>occupant1</td>\n",
       "      <td>M</td>\n",
       "      <td>30대</td>\n",
       "      <td>front</td>\n",
       "      <td>5</td>\n",
       "      <td>...</td>\n",
       "      <td>449.63999</td>\n",
       "      <td>82.600000</td>\n",
       "      <td>830.76001</td>\n",
       "      <td>636.200000</td>\n",
       "      <td>700.83999</td>\n",
       "      <td>97.000000</td>\n",
       "      <td>261.16001</td>\n",
       "      <td>271.400000</td>\n",
       "      <td>운전하다</td>\n",
       "      <td>중립</td>\n",
       "    </tr>\n",
       "    <tr>\n",
       "      <th>1</th>\n",
       "      <td>SGA5100028</td>\n",
       "      <td>20211111</td>\n",
       "      <td>SGA5100028S0074</td>\n",
       "      <td>A004</td>\n",
       "      <td>통화</td>\n",
       "      <td>occupant1</td>\n",
       "      <td>M</td>\n",
       "      <td>30대</td>\n",
       "      <td>front</td>\n",
       "      <td>5</td>\n",
       "      <td>...</td>\n",
       "      <td>416.03999</td>\n",
       "      <td>82.600000</td>\n",
       "      <td>867.56001</td>\n",
       "      <td>639.400000</td>\n",
       "      <td>698.60000</td>\n",
       "      <td>89.000000</td>\n",
       "      <td>263.40000</td>\n",
       "      <td>276.200000</td>\n",
       "      <td>무언가를쥐다</td>\n",
       "      <td>중립</td>\n",
       "    </tr>\n",
       "    <tr>\n",
       "      <th>2</th>\n",
       "      <td>SGA5100028</td>\n",
       "      <td>20211111</td>\n",
       "      <td>SGA5100028S0074</td>\n",
       "      <td>A004</td>\n",
       "      <td>통화</td>\n",
       "      <td>occupant1</td>\n",
       "      <td>M</td>\n",
       "      <td>30대</td>\n",
       "      <td>front</td>\n",
       "      <td>5</td>\n",
       "      <td>...</td>\n",
       "      <td>409.00000</td>\n",
       "      <td>85.800000</td>\n",
       "      <td>871.40000</td>\n",
       "      <td>628.200000</td>\n",
       "      <td>589.80000</td>\n",
       "      <td>98.600000</td>\n",
       "      <td>295.40000</td>\n",
       "      <td>306.600000</td>\n",
       "      <td>고개를돌리다</td>\n",
       "      <td>중립</td>\n",
       "    </tr>\n",
       "    <tr>\n",
       "      <th>3</th>\n",
       "      <td>SGA5100028</td>\n",
       "      <td>20211111</td>\n",
       "      <td>SGA5100028S0074</td>\n",
       "      <td>A004</td>\n",
       "      <td>통화</td>\n",
       "      <td>occupant1</td>\n",
       "      <td>M</td>\n",
       "      <td>30대</td>\n",
       "      <td>front</td>\n",
       "      <td>5</td>\n",
       "      <td>...</td>\n",
       "      <td>415.40000</td>\n",
       "      <td>87.400000</td>\n",
       "      <td>866.60000</td>\n",
       "      <td>628.200000</td>\n",
       "      <td>660.20000</td>\n",
       "      <td>81.000000</td>\n",
       "      <td>300.20000</td>\n",
       "      <td>297.000000</td>\n",
       "      <td>무언가를쥐다</td>\n",
       "      <td>중립</td>\n",
       "    </tr>\n",
       "    <tr>\n",
       "      <th>4</th>\n",
       "      <td>SGA5100028</td>\n",
       "      <td>20211111</td>\n",
       "      <td>SGA5100028S0074</td>\n",
       "      <td>A004</td>\n",
       "      <td>통화</td>\n",
       "      <td>occupant1</td>\n",
       "      <td>M</td>\n",
       "      <td>30대</td>\n",
       "      <td>front</td>\n",
       "      <td>5</td>\n",
       "      <td>...</td>\n",
       "      <td>425.00000</td>\n",
       "      <td>92.200000</td>\n",
       "      <td>847.40000</td>\n",
       "      <td>628.200000</td>\n",
       "      <td>690.60000</td>\n",
       "      <td>92.200000</td>\n",
       "      <td>268.20000</td>\n",
       "      <td>284.200000</td>\n",
       "      <td>운전하다</td>\n",
       "      <td>중립</td>\n",
       "    </tr>\n",
       "    <tr>\n",
       "      <th>...</th>\n",
       "      <td>...</td>\n",
       "      <td>...</td>\n",
       "      <td>...</td>\n",
       "      <td>...</td>\n",
       "      <td>...</td>\n",
       "      <td>...</td>\n",
       "      <td>...</td>\n",
       "      <td>...</td>\n",
       "      <td>...</td>\n",
       "      <td>...</td>\n",
       "      <td>...</td>\n",
       "      <td>...</td>\n",
       "      <td>...</td>\n",
       "      <td>...</td>\n",
       "      <td>...</td>\n",
       "      <td>...</td>\n",
       "      <td>...</td>\n",
       "      <td>...</td>\n",
       "      <td>...</td>\n",
       "      <td>...</td>\n",
       "      <td>...</td>\n",
       "    </tr>\n",
       "    <tr>\n",
       "      <th>252472</th>\n",
       "      <td>SGA5100053</td>\n",
       "      <td>20211111</td>\n",
       "      <td>SGA5100053S0063</td>\n",
       "      <td>A004</td>\n",
       "      <td>통화</td>\n",
       "      <td>occupant1</td>\n",
       "      <td>M</td>\n",
       "      <td>30대</td>\n",
       "      <td>front</td>\n",
       "      <td>5</td>\n",
       "      <td>...</td>\n",
       "      <td>396.20000</td>\n",
       "      <td>39.427022</td>\n",
       "      <td>885.80000</td>\n",
       "      <td>682.572978</td>\n",
       "      <td>676.20000</td>\n",
       "      <td>53.815644</td>\n",
       "      <td>270.43999</td>\n",
       "      <td>311.400000</td>\n",
       "      <td>운전하다</td>\n",
       "      <td>중립</td>\n",
       "    </tr>\n",
       "    <tr>\n",
       "      <th>252473</th>\n",
       "      <td>SGA5100053</td>\n",
       "      <td>20211111</td>\n",
       "      <td>SGA5100053S0063</td>\n",
       "      <td>A004</td>\n",
       "      <td>통화</td>\n",
       "      <td>occupant1</td>\n",
       "      <td>M</td>\n",
       "      <td>30대</td>\n",
       "      <td>front</td>\n",
       "      <td>5</td>\n",
       "      <td>...</td>\n",
       "      <td>372.20000</td>\n",
       "      <td>49.044089</td>\n",
       "      <td>858.60000</td>\n",
       "      <td>672.955911</td>\n",
       "      <td>676.20000</td>\n",
       "      <td>68.217067</td>\n",
       "      <td>274.60000</td>\n",
       "      <td>306.571272</td>\n",
       "      <td>핸드폰귀에대기</td>\n",
       "      <td>중립</td>\n",
       "    </tr>\n",
       "    <tr>\n",
       "      <th>252474</th>\n",
       "      <td>SGA5100053</td>\n",
       "      <td>20211111</td>\n",
       "      <td>SGA5100053S0063</td>\n",
       "      <td>A004</td>\n",
       "      <td>통화</td>\n",
       "      <td>occupant1</td>\n",
       "      <td>M</td>\n",
       "      <td>30대</td>\n",
       "      <td>front</td>\n",
       "      <td>5</td>\n",
       "      <td>...</td>\n",
       "      <td>354.60000</td>\n",
       "      <td>29.804267</td>\n",
       "      <td>927.40000</td>\n",
       "      <td>692.195733</td>\n",
       "      <td>674.60000</td>\n",
       "      <td>63.398578</td>\n",
       "      <td>283.23999</td>\n",
       "      <td>321.000000</td>\n",
       "      <td>핸드폰귀에대기</td>\n",
       "      <td>중립</td>\n",
       "    </tr>\n",
       "    <tr>\n",
       "      <th>252475</th>\n",
       "      <td>SGA5100053</td>\n",
       "      <td>20211111</td>\n",
       "      <td>SGA5100053S0063</td>\n",
       "      <td>A004</td>\n",
       "      <td>통화</td>\n",
       "      <td>occupant1</td>\n",
       "      <td>M</td>\n",
       "      <td>30대</td>\n",
       "      <td>front</td>\n",
       "      <td>5</td>\n",
       "      <td>...</td>\n",
       "      <td>346.60000</td>\n",
       "      <td>18.607111</td>\n",
       "      <td>935.40000</td>\n",
       "      <td>703.392889</td>\n",
       "      <td>671.40000</td>\n",
       "      <td>49.007111</td>\n",
       "      <td>278.43999</td>\n",
       "      <td>330.576961</td>\n",
       "      <td>핸드폰귀에대기</td>\n",
       "      <td>중립</td>\n",
       "    </tr>\n",
       "    <tr>\n",
       "      <th>252476</th>\n",
       "      <td>SGA5100053</td>\n",
       "      <td>20211111</td>\n",
       "      <td>SGA5100053S0063</td>\n",
       "      <td>A004</td>\n",
       "      <td>통화</td>\n",
       "      <td>occupant1</td>\n",
       "      <td>M</td>\n",
       "      <td>30대</td>\n",
       "      <td>front</td>\n",
       "      <td>5</td>\n",
       "      <td>...</td>\n",
       "      <td>364.20000</td>\n",
       "      <td>42.622756</td>\n",
       "      <td>908.20000</td>\n",
       "      <td>679.377244</td>\n",
       "      <td>679.40000</td>\n",
       "      <td>66.611378</td>\n",
       "      <td>284.20000</td>\n",
       "      <td>311.374117</td>\n",
       "      <td>운전하다</td>\n",
       "      <td>중립</td>\n",
       "    </tr>\n",
       "  </tbody>\n",
       "</table>\n",
       "<p>252477 rows × 21 columns</p>\n",
       "</div>"
      ],
      "text/plain": [
       "          video_id      date         scene_id category_id category_name  \\\n",
       "0       SGA5100028  20211111  SGA5100028S0074        A004            통화   \n",
       "1       SGA5100028  20211111  SGA5100028S0074        A004            통화   \n",
       "2       SGA5100028  20211111  SGA5100028S0074        A004            통화   \n",
       "3       SGA5100028  20211111  SGA5100028S0074        A004            통화   \n",
       "4       SGA5100028  20211111  SGA5100028S0074        A004            통화   \n",
       "...            ...       ...              ...         ...           ...   \n",
       "252472  SGA5100053  20211111  SGA5100053S0063        A004            통화   \n",
       "252473  SGA5100053  20211111  SGA5100053S0063        A004            통화   \n",
       "252474  SGA5100053  20211111  SGA5100053S0063        A004            통화   \n",
       "252475  SGA5100053  20211111  SGA5100053S0063        A004            통화   \n",
       "252476  SGA5100053  20211111  SGA5100053S0063        A004            통화   \n",
       "\n",
       "       occupant_id occupant_sex occupant_age occupant_position  data_length  \\\n",
       "0        occupant1            M          30대             front            5   \n",
       "1        occupant1            M          30대             front            5   \n",
       "2        occupant1            M          30대             front            5   \n",
       "3        occupant1            M          30대             front            5   \n",
       "4        occupant1            M          30대             front            5   \n",
       "...            ...          ...          ...               ...          ...   \n",
       "252472   occupant1            M          30대             front            5   \n",
       "252473   occupant1            M          30대             front            5   \n",
       "252474   occupant1            M          30대             front            5   \n",
       "252475   occupant1            M          30대             front            5   \n",
       "252476   occupant1            M          30대             front            5   \n",
       "\n",
       "        ...    b_bbox1    b_bbox2    b_bbox3     b_bbox4    f_bbox1  \\\n",
       "0       ...  449.63999  82.600000  830.76001  636.200000  700.83999   \n",
       "1       ...  416.03999  82.600000  867.56001  639.400000  698.60000   \n",
       "2       ...  409.00000  85.800000  871.40000  628.200000  589.80000   \n",
       "3       ...  415.40000  87.400000  866.60000  628.200000  660.20000   \n",
       "4       ...  425.00000  92.200000  847.40000  628.200000  690.60000   \n",
       "...     ...        ...        ...        ...         ...        ...   \n",
       "252472  ...  396.20000  39.427022  885.80000  682.572978  676.20000   \n",
       "252473  ...  372.20000  49.044089  858.60000  672.955911  676.20000   \n",
       "252474  ...  354.60000  29.804267  927.40000  692.195733  674.60000   \n",
       "252475  ...  346.60000  18.607111  935.40000  703.392889  671.40000   \n",
       "252476  ...  364.20000  42.622756  908.20000  679.377244  679.40000   \n",
       "\n",
       "          f_bbox2    f_bbox3     f_bbox4   action emotion  \n",
       "0       97.000000  261.16001  271.400000     운전하다      중립  \n",
       "1       89.000000  263.40000  276.200000   무언가를쥐다      중립  \n",
       "2       98.600000  295.40000  306.600000   고개를돌리다      중립  \n",
       "3       81.000000  300.20000  297.000000   무언가를쥐다      중립  \n",
       "4       92.200000  268.20000  284.200000     운전하다      중립  \n",
       "...           ...        ...         ...      ...     ...  \n",
       "252472  53.815644  270.43999  311.400000     운전하다      중립  \n",
       "252473  68.217067  274.60000  306.571272  핸드폰귀에대기      중립  \n",
       "252474  63.398578  283.23999  321.000000  핸드폰귀에대기      중립  \n",
       "252475  49.007111  278.43999  330.576961  핸드폰귀에대기      중립  \n",
       "252476  66.611378  284.20000  311.374117     운전하다      중립  \n",
       "\n",
       "[252477 rows x 21 columns]"
      ]
     },
     "execution_count": 45,
     "metadata": {},
     "output_type": "execute_result"
    }
   ],
   "source": [
    "df = pd.read_csv('./validation.csv')\n",
    "df"
   ]
  },
  {
   "cell_type": "code",
   "execution_count": 46,
   "metadata": {},
   "outputs": [
    {
     "data": {
      "text/plain": [
       "category_id  category_name\n",
       "A002         음주운전             75255\n",
       "A003         물건찾기             59919\n",
       "A004         통화               48934\n",
       "A006         차량제어             37685\n",
       "A005         휴대폰조작            30644\n",
       "A001         졸음운전                40\n",
       "dtype: int64"
      ]
     },
     "execution_count": 46,
     "metadata": {},
     "output_type": "execute_result"
    }
   ],
   "source": [
    "df[['category_id', 'category_name']].value_counts() # 둘이 동일함, 중복되는 게 없음"
   ]
  },
  {
   "cell_type": "code",
   "execution_count": 47,
   "metadata": {},
   "outputs": [
    {
     "name": "stdout",
     "output_type": "stream",
     "text": [
      "category_name : ['물건찾기' '음주운전' '졸음운전' '차량제어' '통화' '휴대폰조작']\n"
     ]
    }
   ],
   "source": [
    "from sklearn.model_selection import train_test_split\n",
    "from sklearn.preprocessing import LabelEncoder\n",
    "\n",
    "le = LabelEncoder()\n",
    "\n",
    "df['category_id'] = le.fit_transform(df['category_name'])\n",
    "print('category_name :', le.classes_)\n",
    "df.drop(columns='category_name', inplace=True) # 중복되므로 삭제"
   ]
  },
  {
   "cell_type": "code",
   "execution_count": 48,
   "metadata": {},
   "outputs": [
    {
     "name": "stdout",
     "output_type": "stream",
     "text": [
      "occupant_sex : ['F' 'M']\n"
     ]
    }
   ],
   "source": [
    "df['occupant_sex'] = le.fit_transform(df['occupant_sex'])\n",
    "print('occupant_sex :', le.classes_)"
   ]
  },
  {
   "cell_type": "code",
   "execution_count": 49,
   "metadata": {},
   "outputs": [
    {
     "data": {
      "text/plain": [
       "array(['30대', '40대', '20대', '기타'], dtype=object)"
      ]
     },
     "execution_count": 49,
     "metadata": {},
     "output_type": "execute_result"
    }
   ],
   "source": [
    "df['occupant_age'].unique()"
   ]
  },
  {
   "cell_type": "code",
   "execution_count": 50,
   "metadata": {},
   "outputs": [
    {
     "data": {
      "text/plain": [
       "array([30, 40, 20,  0])"
      ]
     },
     "execution_count": 50,
     "metadata": {},
     "output_type": "execute_result"
    }
   ],
   "source": [
    "df['occupant_age'] = df['occupant_age'].apply(lambda x: '0' if x == '기타' else x) # '기타' 0으로 변경\n",
    "df['occupant_age'] = df['occupant_age'].apply(lambda x: x[:-1] if x != '0' else x) # '30대'에서 '대' 삭제\n",
    "df['occupant_age'] = df['occupant_age'].astype(np.int64) # int로 타입 변경\n",
    "df['occupant_age'].unique()"
   ]
  },
  {
   "cell_type": "code",
   "execution_count": 53,
   "metadata": {},
   "outputs": [
    {
     "data": {
      "text/plain": [
       "array(['front', nan, 'back'], dtype=object)"
      ]
     },
     "execution_count": 53,
     "metadata": {},
     "output_type": "execute_result"
    }
   ],
   "source": [
    "df['occupant_position'].unique()"
   ]
  },
  {
   "cell_type": "code",
   "execution_count": 54,
   "metadata": {},
   "outputs": [
    {
     "data": {
      "text/plain": [
       "array([5, 4])"
      ]
     },
     "execution_count": 54,
     "metadata": {},
     "output_type": "execute_result"
    }
   ],
   "source": [
    "df['data_length'].unique() # 이미지 길이 4,5만 존재"
   ]
  },
  {
   "cell_type": "code",
   "execution_count": 51,
   "metadata": {},
   "outputs": [
    {
     "name": "stdout",
     "output_type": "stream",
     "text": [
      "<class 'pandas.core.frame.DataFrame'>\n",
      "RangeIndex: 252477 entries, 0 to 252476\n",
      "Data columns (total 20 columns):\n",
      " #   Column             Non-Null Count   Dtype  \n",
      "---  ------             --------------   -----  \n",
      " 0   video_id           252477 non-null  object \n",
      " 1   date               252477 non-null  int64  \n",
      " 2   scene_id           252477 non-null  object \n",
      " 3   category_id        252477 non-null  int64  \n",
      " 4   occupant_id        252477 non-null  object \n",
      " 5   occupant_sex       252477 non-null  int64  \n",
      " 6   occupant_age       252477 non-null  int64  \n",
      " 7   occupant_position  252222 non-null  object \n",
      " 8   data_length        252477 non-null  int64  \n",
      " 9   img_id             252477 non-null  object \n",
      " 10  b_bbox1            252477 non-null  float64\n",
      " 11  b_bbox2            252477 non-null  float64\n",
      " 12  b_bbox3            252477 non-null  float64\n",
      " 13  b_bbox4            252477 non-null  float64\n",
      " 14  f_bbox1            252477 non-null  float64\n",
      " 15  f_bbox2            252477 non-null  float64\n",
      " 16  f_bbox3            252477 non-null  float64\n",
      " 17  f_bbox4            252477 non-null  float64\n",
      " 18  action             252477 non-null  object \n",
      " 19  emotion            252477 non-null  object \n",
      "dtypes: float64(8), int64(5), object(7)\n",
      "memory usage: 38.5+ MB\n"
     ]
    }
   ],
   "source": [
    "df.info()"
   ]
  },
  {
   "cell_type": "code",
   "execution_count": null,
   "metadata": {},
   "outputs": [],
   "source": [
    "# action, emotion 원핫 인코딩으로 변환 후\n",
    "# scene_id 또는 video_id로 묶어서 분포에 따라 데이터 분리할 지 결정"
   ]
  },
  {
   "cell_type": "code",
   "execution_count": null,
   "metadata": {},
   "outputs": [],
   "source": [
    "# 그리고 occupant_position에 nan 값 확인"
   ]
  }
 ],
 "metadata": {
  "kernelspec": {
   "display_name": "YOLOP",
   "language": "python",
   "name": "python3"
  },
  "language_info": {
   "codemirror_mode": {
    "name": "ipython",
    "version": 3
   },
   "file_extension": ".py",
   "mimetype": "text/x-python",
   "name": "python",
   "nbconvert_exporter": "python",
   "pygments_lexer": "ipython3",
   "version": "3.10.4"
  }
 },
 "nbformat": 4,
 "nbformat_minor": 2
}
